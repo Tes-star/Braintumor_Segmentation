{
 "cells": [
  {
   "cell_type": "code",
   "execution_count": 1,
   "id": "d27b3376",
   "metadata": {
    "execution": {
     "iopub.execute_input": "2022-09-13T10:55:13.653046Z",
     "iopub.status.busy": "2022-09-13T10:55:13.651323Z",
     "iopub.status.idle": "2022-09-13T10:55:53.186331Z",
     "shell.execute_reply": "2022-09-13T10:55:53.185376Z",
     "shell.execute_reply.started": "2022-09-13T10:11:38.787888Z"
    },
    "id": "w1648O4DPJaf",
    "outputId": "d4ab0670-9470-4dd9-b6c5-b2ef5462f535",
    "papermill": {
     "duration": 39.557368,
     "end_time": "2022-09-13T10:55:53.186498",
     "exception": false,
     "start_time": "2022-09-13T10:55:13.629130",
     "status": "completed"
    },
    "tags": []
   },
   "outputs": [],
   "source": [
    "#!pip install itkwidgets"
   ]
  },
  {
   "cell_type": "code",
   "execution_count": 2,
   "id": "f9b6470f",
   "metadata": {
    "execution": {
     "iopub.execute_input": "2022-09-13T10:55:53.431237Z",
     "iopub.status.busy": "2022-09-13T10:55:53.430220Z",
     "iopub.status.idle": "2022-09-13T10:56:00.869068Z",
     "shell.execute_reply": "2022-09-13T10:56:00.870915Z",
     "shell.execute_reply.started": "2022-09-13T10:12:10.635106Z"
    },
    "id": "oqYRo-NaO7Db",
    "papermill": {
     "duration": 7.562619,
     "end_time": "2022-09-13T10:56:00.871440",
     "exception": false,
     "start_time": "2022-09-13T10:55:53.308821",
     "status": "completed"
    },
    "tags": []
   },
   "outputs": [],
   "source": [
    "import keras as keras\n",
    "import numpy as np\n",
    "import nibabel as nib                                                     \n",
    "import itk                                                                \n",
    "import itkwidgets\n",
    "from ipywidgets import interact, interactive, IntSlider, ToggleButtons\n",
    "import matplotlib.pyplot as plt\n",
    "from skimage.util import montage \n",
    "from skimage.transform import rotate\n",
    "import os\n",
    "%matplotlib inline\n",
    "import seaborn as sns"
   ]
  },
  {
   "cell_type": "code",
   "execution_count": 3,
   "id": "af02a9cd",
   "metadata": {
    "execution": {
     "iopub.execute_input": "2022-09-13T10:56:01.972478Z",
     "iopub.status.busy": "2022-09-13T10:56:01.971565Z",
     "iopub.status.idle": "2022-09-13T10:56:07.410679Z",
     "shell.execute_reply": "2022-09-13T10:56:07.410180Z",
     "shell.execute_reply.started": "2022-09-13T10:12:18.833889Z"
    },
    "id": "_GTYObqZmbF5",
    "papermill": {
     "duration": 6.042444,
     "end_time": "2022-09-13T10:56:07.410818",
     "exception": false,
     "start_time": "2022-09-13T10:56:01.368374",
     "status": "completed"
    },
    "tags": []
   },
   "outputs": [],
   "source": [
    "import keras\n",
    "import keras.backend as K\n",
    "from keras.callbacks import CSVLogger\n",
    "import tensorflow as tf\n",
    "from keras.utils import plot_model\n",
    "from sklearn.preprocessing import MinMaxScaler\n",
    "from sklearn.model_selection import train_test_split\n",
    "from sklearn.metrics import classification_report\n",
    "from keras.models import *\n",
    "from keras.layers import *\n",
    "from keras.optimizers import *\n",
    "from keras.callbacks import ModelCheckpoint, ReduceLROnPlateau, EarlyStopping, TensorBoard\n",
    "#from keras.layers.experimental import preprocessing\n",
    "import cv2"
   ]
  },
  {
   "cell_type": "code",
   "execution_count": 4,
   "id": "a6929a33",
   "metadata": {
    "execution": {
     "iopub.execute_input": "2022-09-13T10:56:07.657673Z",
     "iopub.status.busy": "2022-09-13T10:56:07.657023Z",
     "iopub.status.idle": "2022-09-13T10:57:52.793713Z",
     "shell.execute_reply": "2022-09-13T10:57:52.792354Z",
     "shell.execute_reply.started": "2022-09-13T10:12:24.305390Z"
    },
    "papermill": {
     "duration": 105.256864,
     "end_time": "2022-09-13T10:57:52.793874",
     "exception": false,
     "start_time": "2022-09-13T10:56:07.537010",
     "status": "completed"
    },
    "tags": []
   },
   "outputs": [],
   "source": [
    "import tarfile\n",
    "#file = tarfile.open('./inputs/BraTS2021_Training_Data.tar')\n",
    "\n",
    "#file.extractall('./brain_images')\n",
    "#file.close()"
   ]
  },
  {
   "cell_type": "code",
   "execution_count": 4,
   "id": "4f44125d",
   "metadata": {
    "execution": {
     "iopub.execute_input": "2022-09-13T10:57:55.054518Z",
     "iopub.status.busy": "2022-09-13T10:57:55.053655Z",
     "iopub.status.idle": "2022-09-13T10:57:55.080103Z",
     "shell.execute_reply": "2022-09-13T10:57:55.079663Z",
     "shell.execute_reply.started": "2022-09-13T10:14:27.238130Z"
    },
    "id": "TTujv8UXPDpl",
    "outputId": "3633e86c-93b3-4707-8aad-2b5fed647ead",
    "papermill": {
     "duration": 2.164918,
     "end_time": "2022-09-13T10:57:55.080241",
     "exception": false,
     "start_time": "2022-09-13T10:57:52.915323",
     "status": "completed"
    },
    "tags": []
   },
   "outputs": [
    {
     "name": "stdout",
     "output_type": "stream",
     "text": [
      "True\n",
      "True\n"
     ]
    },
    {
     "data": {
      "text/plain": "nibabel.nifti1.Nifti1Image"
     },
     "execution_count": 4,
     "metadata": {},
     "output_type": "execute_result"
    }
   ],
   "source": [
    "image_path = \"./brain_images/BraTS2021_00284/BraTS2021_00284_t1.nii.gz\"\n",
    "\n",
    "from os.path import exists\n",
    "import os\n",
    "data_path='./brain_images/BraTS2021_00284/'\n",
    "print(exists(data_path))\n",
    "image_path=os.path.join(data_path, 'BraTS2021_00284_seg.nii.gz')\n",
    "print(exists(image_path))\n",
    "image_obj = nib.load(image_path)\n",
    "type(image_obj)\n"
   ]
  },
  {
   "cell_type": "code",
   "execution_count": 8,
   "id": "e77f00f0",
   "metadata": {
    "execution": {
     "iopub.execute_input": "2022-09-13T10:57:55.308846Z",
     "iopub.status.busy": "2022-09-13T10:57:55.307849Z",
     "iopub.status.idle": "2022-09-13T10:57:55.492302Z",
     "shell.execute_reply": "2022-09-13T10:57:55.492862Z",
     "shell.execute_reply.started": "2022-09-13T10:14:27.274431Z"
    },
    "id": "1RniboCLQxUv",
    "outputId": "cce8b0fc-b2b3-414f-9b4b-4e076c7f6103",
    "papermill": {
     "duration": 0.302794,
     "end_time": "2022-09-13T10:57:55.493080",
     "exception": false,
     "start_time": "2022-09-13T10:57:55.190286",
     "status": "completed"
    },
    "tags": []
   },
   "outputs": [
    {
     "name": "stdout",
     "output_type": "stream",
     "text": [
      "<class 'numpy.ndarray'>\n"
     ]
    },
    {
     "data": {
      "text/plain": "(240, 240, 155)"
     },
     "execution_count": 8,
     "metadata": {},
     "output_type": "execute_result"
    }
   ],
   "source": [
    "image_path=os.path.join(data_path, 'BraTS2021_00284_seg.nii.gz')\n",
    "image_obj = nib.load(image_path)\n",
    "image_data = image_obj.get_fdata()\n",
    "print(type(image_data))\n",
    "image_data.shape\n"
   ]
  },
  {
   "cell_type": "code",
   "execution_count": 5,
   "id": "e1b06fc2",
   "metadata": {
    "execution": {
     "iopub.execute_input": "2022-09-13T10:57:55.751004Z",
     "iopub.status.busy": "2022-09-13T10:57:55.750187Z",
     "iopub.status.idle": "2022-09-13T10:57:55.934940Z",
     "shell.execute_reply": "2022-09-13T10:57:55.935550Z",
     "shell.execute_reply.started": "2022-09-13T10:14:27.470252Z"
    },
    "id": "7Xi2hrvCR5Wn",
    "outputId": "fb18c164-30fc-4533-e8bf-092effb58e0a",
    "papermill": {
     "duration": 0.329938,
     "end_time": "2022-09-13T10:57:55.935762",
     "exception": false,
     "start_time": "2022-09-13T10:57:55.605824",
     "status": "completed"
    },
    "tags": []
   },
   "outputs": [
    {
     "ename": "NameError",
     "evalue": "name 'image_data' is not defined",
     "output_type": "error",
     "traceback": [
      "\u001B[1;31m---------------------------------------------------------------------------\u001B[0m",
      "\u001B[1;31mNameError\u001B[0m                                 Traceback (most recent call last)",
      "Cell \u001B[1;32mIn [5], line 7\u001B[0m\n\u001B[0;32m      4\u001B[0m     plt\u001B[38;5;241m.\u001B[39maxis(\u001B[38;5;124m'\u001B[39m\u001B[38;5;124moff\u001B[39m\u001B[38;5;124m'\u001B[39m)\n\u001B[0;32m      5\u001B[0m     \u001B[38;5;28;01mreturn\u001B[39;00m layer\n\u001B[1;32m----> 7\u001B[0m interact(visualize_3d, layer\u001B[38;5;241m=\u001B[39m(\u001B[38;5;241m0\u001B[39m, \u001B[43mimage_data\u001B[49m\u001B[38;5;241m.\u001B[39mshape[\u001B[38;5;241m2\u001B[39m] \u001B[38;5;241m-\u001B[39m \u001B[38;5;241m1\u001B[39m));\n",
      "\u001B[1;31mNameError\u001B[0m: name 'image_data' is not defined"
     ]
    }
   ],
   "source": [
    "def visualize_3d(layer):\n",
    "    plt.figure(figsize=(10, 5))\n",
    "    plt.imshow(image_data[:, :, layer], cmap='gray');\n",
    "    plt.axis('off')\n",
    "    return layer\n",
    "\n",
    "interact(visualize_3d, layer=(0, image_data.shape[2] - 1));\n"
   ]
  },
  {
   "cell_type": "code",
   "execution_count": 10,
   "id": "3d274457",
   "metadata": {
    "execution": {
     "iopub.execute_input": "2022-09-13T10:57:56.191780Z",
     "iopub.status.busy": "2022-09-13T10:57:56.190957Z",
     "iopub.status.idle": "2022-09-13T10:57:56.450412Z",
     "shell.execute_reply": "2022-09-13T10:57:56.451313Z",
     "shell.execute_reply.started": "2022-09-13T10:14:27.724537Z"
    },
    "id": "YFbMw36LSkX1",
    "outputId": "10d86deb-8ea7-4d99-e2de-bbc5ad594755",
    "papermill": {
     "duration": 0.399697,
     "end_time": "2022-09-13T10:57:56.451529",
     "exception": false,
     "start_time": "2022-09-13T10:57:56.051832",
     "status": "completed"
    },
    "tags": []
   },
   "outputs": [
    {
     "data": {
      "text/plain": "interactive(children=(IntSlider(value=77, description='layer', max=154), Output()), _dom_classes=('widget-inte…",
      "application/vnd.jupyter.widget-view+json": {
       "version_major": 2,
       "version_minor": 0,
       "model_id": "753c413f02fe4142895e497cd11a023f"
      }
     },
     "metadata": {},
     "output_type": "display_data"
    }
   ],
   "source": [
    "layer = 50\n",
    "classes_dict = {\n",
    "    'Normal': 0.,\n",
    "    'Edema': 1.,\n",
    "    'Non-enhancing tumor': 2.,\n",
    "    'Enhancing tumor': 3. \n",
    "}\n",
    "\n",
    "def visualize_3d_labels(layer):\n",
    "    mask = nib.load('./brain_images/BraTS2021_00284/BraTS2021_00000_seg.nii.gz').get_fdata()\n",
    "    plt.imshow(mask[:,:,layer])\n",
    "    plt.axis('off')\n",
    "    plt.tight_layout()\n",
    "\n",
    "interact(visualize_3d_labels, layer=(0, image_data.shape[2] - 1));"
   ]
  },
  {
   "cell_type": "code",
   "execution_count": 11,
   "id": "f670c9cc",
   "metadata": {
    "execution": {
     "iopub.execute_input": "2022-09-13T10:57:56.717076Z",
     "iopub.status.busy": "2022-09-13T10:57:56.716279Z",
     "iopub.status.idle": "2022-09-13T10:57:59.926565Z",
     "shell.execute_reply": "2022-09-13T10:57:59.934911Z",
     "shell.execute_reply.started": "2022-09-13T10:14:28.046549Z"
    },
    "id": "VP3mXIv-S2vX",
    "outputId": "9d95ef4a-2ed9-4481-ffbf-9e5e6eae9117",
    "papermill": {
     "duration": 3.345369,
     "end_time": "2022-09-13T10:57:59.935187",
     "exception": false,
     "start_time": "2022-09-13T10:57:56.589818",
     "status": "completed"
    },
    "tags": []
   },
   "outputs": [
    {
     "data": {
      "text/plain": "<matplotlib.image.AxesImage at 0x1f1c077c550>"
     },
     "execution_count": 11,
     "metadata": {},
     "output_type": "execute_result"
    },
    {
     "data": {
      "text/plain": "<Figure size 2000x2000 with 1 Axes>",
      "image/png": "[encoded data removed]"
     },
     "metadata": {},
     "output_type": "display_data"
    }
   ],
   "source": [
    "fig, ax1 = plt.subplots(1, 1, figsize = (20,20))\n",
    "ax1.imshow(rotate(montage(image_data[:,:,:]), 90, resize=True), cmap ='gray')"
   ]
  },
  {
   "cell_type": "code",
   "execution_count": 6,
   "outputs": [],
   "source": [
    "def import_images(path):\n",
    "    \n",
    "\n",
    "    image_count = 20\n",
    "\n",
    "    x = np.empty((image_count,240, 240,155),dtype=np.int32)\n",
    "    y = np.empty((image_count,240, 240,155),dtype=np.int32)\n",
    "\n",
    "    # Liste aller Dateien in annotation_folder erstellen\n",
    "    folders = os.listdir(path)\n",
    "\n",
    "    # Aus Liste files .hdr Dateien löschen\n",
    "    i=0\n",
    "\n",
    "    for image_folder in folders[:20]:\n",
    "        image_path=path+'/'+image_folder+'/'+image_folder\n",
    "        x[i] =nib.load(image_path+'_flair.nii.gz').get_fdata()\n",
    "        y[i]=nib.load(image_path+'_seg.nii.gz').get_fdata()\n",
    "        i=i+1\n",
    "        #print(i)\n",
    "    return x,y\n",
    "def convert_data_2D(data):\n",
    "\n",
    "    #data_new = np.empty((image_count,240, 240,155),dtype=np.int32)\n",
    "\n",
    "\n",
    "    x_train_ten = tf.convert_to_tensor(train_x)\n",
    "    x_train_ten = tf.convert_to_tensor(train_y)\n"
   ],
   "metadata": {
    "collapsed": false,
    "pycharm": {
     "name": "#%%\n"
    }
   }
  },
  {
   "cell_type": "code",
   "execution_count": 74,
   "outputs": [],
   "source": [],
   "metadata": {
    "collapsed": false,
    "pycharm": {
     "name": "#%%\n"
    }
   }
  },
  {
   "cell_type": "code",
   "execution_count": 6,
   "outputs": [
    {
     "ename": "NameError",
     "evalue": "name 'y' is not defined",
     "output_type": "error",
     "traceback": [
      "\u001B[1;31m---------------------------------------------------------------------------\u001B[0m",
      "\u001B[1;31mNameError\u001B[0m                                 Traceback (most recent call last)",
      "Cell \u001B[1;32mIn [6], line 2\u001B[0m\n\u001B[0;32m      1\u001B[0m \u001B[38;5;66;03m#train data x\u001B[39;00m\n\u001B[1;32m----> 2\u001B[0m y\u001B[38;5;241m=\u001B[39m\u001B[43my\u001B[49m\u001B[38;5;241m.\u001B[39mreshape([\u001B[38;5;241m20\u001B[39m\u001B[38;5;241m*\u001B[39m\u001B[38;5;241m155\u001B[39m,\u001B[38;5;241m240\u001B[39m,\u001B[38;5;241m240\u001B[39m,\u001B[38;5;241m1\u001B[39m])\n\u001B[0;32m      3\u001B[0m x\u001B[38;5;241m=\u001B[39mx\u001B[38;5;241m.\u001B[39mreshape([\u001B[38;5;241m20\u001B[39m\u001B[38;5;241m*\u001B[39m\u001B[38;5;241m155\u001B[39m,\u001B[38;5;241m240\u001B[39m,\u001B[38;5;241m240\u001B[39m,\u001B[38;5;241m1\u001B[39m])\n\u001B[0;32m      4\u001B[0m train_x\u001B[38;5;241m=\u001B[39mnp\u001B[38;5;241m.\u001B[39mzeros((\u001B[38;5;241m2\u001B[39m,\u001B[38;5;241m240\u001B[39m,\u001B[38;5;241m240\u001B[39m,\u001B[38;5;241m155\u001B[39m,\u001B[38;5;241m1\u001B[39m))\n",
      "\u001B[1;31mNameError\u001B[0m: name 'y' is not defined"
     ]
    }
   ],
   "source": [
    "#train data x\n",
    "y=y.reshape([20*155,240,240,1])\n",
    "x=x.reshape([20*155,240,240,1])\n",
    "train_x=np.zeros((2,240,240,155,1))\n",
    "image_obj = nib.load('./brain_images/BraTS2021_00000/BraTS2021_00000_flair.nii.gz')\n",
    "image_data0 = image_obj.get_fdata()\n",
    "image_data0=np.expand_dims(image_data0, axis=0)\n",
    "image_data0=np.expand_dims(image_data0, axis=-1)\n",
    "print(image_data0.shape)\n",
    "\n",
    "train_x[0]=image_data0\n",
    "train_x[1]=image_data0\n",
    "\n",
    "#train data y\n",
    "train_y=np.zeros((2,240,240,155,1))\n",
    "\n",
    "image_obj = nib.load('./brain_images/BraTS2021_00000/BraTS2021_00000_seg.nii.gz')\n",
    "image_data0 = image_obj.get_fdata()\n",
    "\n",
    "fig, ax1 = plt.subplots(1, 1, figsize = (20,20))\n",
    "#ax1.imshow(rotate(montage(image_data0[:,:,:]), 90, resize=True), cmap ='gray')\n",
    "\n",
    "image_data0=np.expand_dims(image_data0, axis=0)\n",
    "image_data0=np.expand_dims(image_data0, axis=-1)\n",
    "print(image_data0.shape)\n",
    "\n",
    "train_y[0]=image_data0\n",
    "train_y[1]=image_data0"
   ],
   "metadata": {
    "collapsed": false
   }
  },
  {
   "cell_type": "code",
   "execution_count": 144,
   "outputs": [
    {
     "data": {
      "text/plain": "(240, 240, 155)"
     },
     "execution_count": 144,
     "metadata": {},
     "output_type": "execute_result"
    }
   ],
   "source": [
    "a=image_obj.get_fdata()\n"
   ],
   "metadata": {
    "collapsed": false,
    "pycharm": {
     "name": "#%%\n"
    }
   }
  },
  {
   "cell_type": "code",
   "execution_count": 7,
   "outputs": [],
   "source": [
    "from keras.utils import to_categorical\n",
    "\n",
    "path='./brain_images/'\n",
    "x,y=import_images(path)\n",
    "\n",
    "x_pre= np.zeros((20,240,240,160), dtype=np.int32)\n",
    "x_pre[:,:,:,1:156] = x\n",
    "x=x_pre\n",
    "\n",
    "y_pre= np.zeros((20,240,240,160), dtype=np.int32)\n",
    "y_pre[:,:,:,1:156] = y\n",
    "y=y_pre\n",
    "\n",
    "#train_y = to_categorical(train_y, num_classes=5)\n",
    "y=to_categorical(y, num_classes=5)"
   ],
   "metadata": {
    "collapsed": false
   }
  },
  {
   "cell_type": "code",
   "execution_count": 25,
   "outputs": [
    {
     "data": {
      "text/plain": "array([[[[[[[[[0]],\n\n             [[0]],\n\n             [[0]],\n\n             ...,\n\n             [[0]],\n\n             [[0]],\n\n             [[0]]]]]],\n\n\n\n\n\n         [[[[[[0]],\n\n             [[0]],\n\n             [[0]],\n\n             ...,\n\n             [[0]],\n\n             [[0]],\n\n             [[0]]]]]],\n\n\n\n\n\n         [[[[[[0]],\n\n             [[0]],\n\n             [[0]],\n\n             ...,\n\n             [[0]],\n\n             [[0]],\n\n             [[0]]]]]],\n\n\n\n\n\n         ...,\n\n\n\n\n\n         [[[[[[0]],\n\n             [[0]],\n\n             [[0]],\n\n             ...,\n\n             [[0]],\n\n             [[0]],\n\n             [[0]]]]]],\n\n\n\n\n\n         [[[[[[0]],\n\n             [[0]],\n\n             [[0]],\n\n             ...,\n\n             [[0]],\n\n             [[0]],\n\n             [[0]]]]]],\n\n\n\n\n\n         [[[[[[0]],\n\n             [[0]],\n\n             [[0]],\n\n             ...,\n\n             [[0]],\n\n             [[0]],\n\n             [[0]]]]]]],\n\n\n\n\n\n\n        [[[[[[[0]],\n\n             [[0]],\n\n             [[0]],\n\n             ...,\n\n             [[0]],\n\n             [[0]],\n\n             [[0]]]]]],\n\n\n\n\n\n         [[[[[[0]],\n\n             [[0]],\n\n             [[0]],\n\n             ...,\n\n             [[0]],\n\n             [[0]],\n\n             [[0]]]]]],\n\n\n\n\n\n         [[[[[[0]],\n\n             [[0]],\n\n             [[0]],\n\n             ...,\n\n             [[0]],\n\n             [[0]],\n\n             [[0]]]]]],\n\n\n\n\n\n         ...,\n\n\n\n\n\n         [[[[[[0]],\n\n             [[0]],\n\n             [[0]],\n\n             ...,\n\n             [[0]],\n\n             [[0]],\n\n             [[0]]]]]],\n\n\n\n\n\n         [[[[[[0]],\n\n             [[0]],\n\n             [[0]],\n\n             ...,\n\n             [[0]],\n\n             [[0]],\n\n             [[0]]]]]],\n\n\n\n\n\n         [[[[[[0]],\n\n             [[0]],\n\n             [[0]],\n\n             ...,\n\n             [[0]],\n\n             [[0]],\n\n             [[0]]]]]]],\n\n\n\n\n\n\n        [[[[[[[0]],\n\n             [[0]],\n\n             [[0]],\n\n             ...,\n\n             [[0]],\n\n             [[0]],\n\n             [[0]]]]]],\n\n\n\n\n\n         [[[[[[0]],\n\n             [[0]],\n\n             [[0]],\n\n             ...,\n\n             [[0]],\n\n             [[0]],\n\n             [[0]]]]]],\n\n\n\n\n\n         [[[[[[0]],\n\n             [[0]],\n\n             [[0]],\n\n             ...,\n\n             [[0]],\n\n             [[0]],\n\n             [[0]]]]]],\n\n\n\n\n\n         ...,\n\n\n\n\n\n         [[[[[[0]],\n\n             [[0]],\n\n             [[0]],\n\n             ...,\n\n             [[0]],\n\n             [[0]],\n\n             [[0]]]]]],\n\n\n\n\n\n         [[[[[[0]],\n\n             [[0]],\n\n             [[0]],\n\n             ...,\n\n             [[0]],\n\n             [[0]],\n\n             [[0]]]]]],\n\n\n\n\n\n         [[[[[[0]],\n\n             [[0]],\n\n             [[0]],\n\n             ...,\n\n             [[0]],\n\n             [[0]],\n\n             [[0]]]]]]],\n\n\n\n\n\n\n        ...,\n\n\n\n\n\n\n        [[[[[[[0]],\n\n             [[0]],\n\n             [[0]],\n\n             ...,\n\n             [[0]],\n\n             [[0]],\n\n             [[0]]]]]],\n\n\n\n\n\n         [[[[[[0]],\n\n             [[0]],\n\n             [[0]],\n\n             ...,\n\n             [[0]],\n\n             [[0]],\n\n             [[0]]]]]],\n\n\n\n\n\n         [[[[[[0]],\n\n             [[0]],\n\n             [[0]],\n\n             ...,\n\n             [[0]],\n\n             [[0]],\n\n             [[0]]]]]],\n\n\n\n\n\n         ...,\n\n\n\n\n\n         [[[[[[0]],\n\n             [[0]],\n\n             [[0]],\n\n             ...,\n\n             [[0]],\n\n             [[0]],\n\n             [[0]]]]]],\n\n\n\n\n\n         [[[[[[0]],\n\n             [[0]],\n\n             [[0]],\n\n             ...,\n\n             [[0]],\n\n             [[0]],\n\n             [[0]]]]]],\n\n\n\n\n\n         [[[[[[0]],\n\n             [[0]],\n\n             [[0]],\n\n             ...,\n\n             [[0]],\n\n             [[0]],\n\n             [[0]]]]]]],\n\n\n\n\n\n\n        [[[[[[[0]],\n\n             [[0]],\n\n             [[0]],\n\n             ...,\n\n             [[0]],\n\n             [[0]],\n\n             [[0]]]]]],\n\n\n\n\n\n         [[[[[[0]],\n\n             [[0]],\n\n             [[0]],\n\n             ...,\n\n             [[0]],\n\n             [[0]],\n\n             [[0]]]]]],\n\n\n\n\n\n         [[[[[[0]],\n\n             [[0]],\n\n             [[0]],\n\n             ...,\n\n             [[0]],\n\n             [[0]],\n\n             [[0]]]]]],\n\n\n\n\n\n         ...,\n\n\n\n\n\n         [[[[[[0]],\n\n             [[0]],\n\n             [[0]],\n\n             ...,\n\n             [[0]],\n\n             [[0]],\n\n             [[0]]]]]],\n\n\n\n\n\n         [[[[[[0]],\n\n             [[0]],\n\n             [[0]],\n\n             ...,\n\n             [[0]],\n\n             [[0]],\n\n             [[0]]]]]],\n\n\n\n\n\n         [[[[[[0]],\n\n             [[0]],\n\n             [[0]],\n\n             ...,\n\n             [[0]],\n\n             [[0]],\n\n             [[0]]]]]]],\n\n\n\n\n\n\n        [[[[[[[0]],\n\n             [[0]],\n\n             [[0]],\n\n             ...,\n\n             [[0]],\n\n             [[0]],\n\n             [[0]]]]]],\n\n\n\n\n\n         [[[[[[0]],\n\n             [[0]],\n\n             [[0]],\n\n             ...,\n\n             [[0]],\n\n             [[0]],\n\n             [[0]]]]]],\n\n\n\n\n\n         [[[[[[0]],\n\n             [[0]],\n\n             [[0]],\n\n             ...,\n\n             [[0]],\n\n             [[0]],\n\n             [[0]]]]]],\n\n\n\n\n\n         ...,\n\n\n\n\n\n         [[[[[[0]],\n\n             [[0]],\n\n             [[0]],\n\n             ...,\n\n             [[0]],\n\n             [[0]],\n\n             [[0]]]]]],\n\n\n\n\n\n         [[[[[[0]],\n\n             [[0]],\n\n             [[0]],\n\n             ...,\n\n             [[0]],\n\n             [[0]],\n\n             [[0]]]]]],\n\n\n\n\n\n         [[[[[[0]],\n\n             [[0]],\n\n             [[0]],\n\n             ...,\n\n             [[0]],\n\n             [[0]],\n\n             [[0]]]]]]]],\n\n\n\n\n\n\n\n       [[[[[[[[0]],\n\n             [[0]],\n\n             [[0]],\n\n             ...,\n\n             [[0]],\n\n             [[0]],\n\n             [[0]]]]]],\n\n\n\n\n\n         [[[[[[0]],\n\n             [[0]],\n\n             [[0]],\n\n             ...,\n\n             [[0]],\n\n             [[0]],\n\n             [[0]]]]]],\n\n\n\n\n\n         [[[[[[0]],\n\n             [[0]],\n\n             [[0]],\n\n             ...,\n\n             [[0]],\n\n             [[0]],\n\n             [[0]]]]]],\n\n\n\n\n\n         ...,\n\n\n\n\n\n         [[[[[[0]],\n\n             [[0]],\n\n             [[0]],\n\n             ...,\n\n             [[0]],\n\n             [[0]],\n\n             [[0]]]]]],\n\n\n\n\n\n         [[[[[[0]],\n\n             [[0]],\n\n             [[0]],\n\n             ...,\n\n             [[0]],\n\n             [[0]],\n\n             [[0]]]]]],\n\n\n\n\n\n         [[[[[[0]],\n\n             [[0]],\n\n             [[0]],\n\n             ...,\n\n             [[0]],\n\n             [[0]],\n\n             [[0]]]]]]],\n\n\n\n\n\n\n        [[[[[[[0]],\n\n             [[0]],\n\n             [[0]],\n\n             ...,\n\n             [[0]],\n\n             [[0]],\n\n             [[0]]]]]],\n\n\n\n\n\n         [[[[[[0]],\n\n             [[0]],\n\n             [[0]],\n\n             ...,\n\n             [[0]],\n\n             [[0]],\n\n             [[0]]]]]],\n\n\n\n\n\n         [[[[[[0]],\n\n             [[0]],\n\n             [[0]],\n\n             ...,\n\n             [[0]],\n\n             [[0]],\n\n             [[0]]]]]],\n\n\n\n\n\n         ...,\n\n\n\n\n\n         [[[[[[0]],\n\n             [[0]],\n\n             [[0]],\n\n             ...,\n\n             [[0]],\n\n             [[0]],\n\n             [[0]]]]]],\n\n\n\n\n\n         [[[[[[0]],\n\n             [[0]],\n\n             [[0]],\n\n             ...,\n\n             [[0]],\n\n             [[0]],\n\n             [[0]]]]]],\n\n\n\n\n\n         [[[[[[0]],\n\n             [[0]],\n\n             [[0]],\n\n             ...,\n\n             [[0]],\n\n             [[0]],\n\n             [[0]]]]]]],\n\n\n\n\n\n\n        [[[[[[[0]],\n\n             [[0]],\n\n             [[0]],\n\n             ...,\n\n             [[0]],\n\n             [[0]],\n\n             [[0]]]]]],\n\n\n\n\n\n         [[[[[[0]],\n\n             [[0]],\n\n             [[0]],\n\n             ...,\n\n             [[0]],\n\n             [[0]],\n\n             [[0]]]]]],\n\n\n\n\n\n         [[[[[[0]],\n\n             [[0]],\n\n             [[0]],\n\n             ...,\n\n             [[0]],\n\n             [[0]],\n\n             [[0]]]]]],\n\n\n\n\n\n         ...,\n\n\n\n\n\n         [[[[[[0]],\n\n             [[0]],\n\n             [[0]],\n\n             ...,\n\n             [[0]],\n\n             [[0]],\n\n             [[0]]]]]],\n\n\n\n\n\n         [[[[[[0]],\n\n             [[0]],\n\n             [[0]],\n\n             ...,\n\n             [[0]],\n\n             [[0]],\n\n             [[0]]]]]],\n\n\n\n\n\n         [[[[[[0]],\n\n             [[0]],\n\n             [[0]],\n\n             ...,\n\n             [[0]],\n\n             [[0]],\n\n             [[0]]]]]]],\n\n\n\n\n\n\n        ...,\n\n\n\n\n\n\n        [[[[[[[0]],\n\n             [[0]],\n\n             [[0]],\n\n             ...,\n\n             [[0]],\n\n             [[0]],\n\n             [[0]]]]]],\n\n\n\n\n\n         [[[[[[0]],\n\n             [[0]],\n\n             [[0]],\n\n             ...,\n\n             [[0]],\n\n             [[0]],\n\n             [[0]]]]]],\n\n\n\n\n\n         [[[[[[0]],\n\n             [[0]],\n\n             [[0]],\n\n             ...,\n\n             [[0]],\n\n             [[0]],\n\n             [[0]]]]]],\n\n\n\n\n\n         ...,\n\n\n\n\n\n         [[[[[[0]],\n\n             [[0]],\n\n             [[0]],\n\n             ...,\n\n             [[0]],\n\n             [[0]],\n\n             [[0]]]]]],\n\n\n\n\n\n         [[[[[[0]],\n\n             [[0]],\n\n             [[0]],\n\n             ...,\n\n             [[0]],\n\n             [[0]],\n\n             [[0]]]]]],\n\n\n\n\n\n         [[[[[[0]],\n\n             [[0]],\n\n             [[0]],\n\n             ...,\n\n             [[0]],\n\n             [[0]],\n\n             [[0]]]]]]],\n\n\n\n\n\n\n        [[[[[[[0]],\n\n             [[0]],\n\n             [[0]],\n\n             ...,\n\n             [[0]],\n\n             [[0]],\n\n             [[0]]]]]],\n\n\n\n\n\n         [[[[[[0]],\n\n             [[0]],\n\n             [[0]],\n\n             ...,\n\n             [[0]],\n\n             [[0]],\n\n             [[0]]]]]],\n\n\n\n\n\n         [[[[[[0]],\n\n             [[0]],\n\n             [[0]],\n\n             ...,\n\n             [[0]],\n\n             [[0]],\n\n             [[0]]]]]],\n\n\n\n\n\n         ...,\n\n\n\n\n\n         [[[[[[0]],\n\n             [[0]],\n\n             [[0]],\n\n             ...,\n\n             [[0]],\n\n             [[0]],\n\n             [[0]]]]]],\n\n\n\n\n\n         [[[[[[0]],\n\n             [[0]],\n\n             [[0]],\n\n             ...,\n\n             [[0]],\n\n             [[0]],\n\n             [[0]]]]]],\n\n\n\n\n\n         [[[[[[0]],\n\n             [[0]],\n\n             [[0]],\n\n             ...,\n\n             [[0]],\n\n             [[0]],\n\n             [[0]]]]]]],\n\n\n\n\n\n\n        [[[[[[[0]],\n\n             [[0]],\n\n             [[0]],\n\n             ...,\n\n             [[0]],\n\n             [[0]],\n\n             [[0]]]]]],\n\n\n\n\n\n         [[[[[[0]],\n\n             [[0]],\n\n             [[0]],\n\n             ...,\n\n             [[0]],\n\n             [[0]],\n\n             [[0]]]]]],\n\n\n\n\n\n         [[[[[[0]],\n\n             [[0]],\n\n             [[0]],\n\n             ...,\n\n             [[0]],\n\n             [[0]],\n\n             [[0]]]]]],\n\n\n\n\n\n         ...,\n\n\n\n\n\n         [[[[[[0]],\n\n             [[0]],\n\n             [[0]],\n\n             ...,\n\n             [[0]],\n\n             [[0]],\n\n             [[0]]]]]],\n\n\n\n\n\n         [[[[[[0]],\n\n             [[0]],\n\n             [[0]],\n\n             ...,\n\n             [[0]],\n\n             [[0]],\n\n             [[0]]]]]],\n\n\n\n\n\n         [[[[[[0]],\n\n             [[0]],\n\n             [[0]],\n\n             ...,\n\n             [[0]],\n\n             [[0]],\n\n             [[0]]]]]]]],\n\n\n\n\n\n\n\n       [[[[[[[[0]],\n\n             [[0]],\n\n             [[0]],\n\n             ...,\n\n             [[0]],\n\n             [[0]],\n\n             [[0]]]]]],\n\n\n\n\n\n         [[[[[[0]],\n\n             [[0]],\n\n             [[0]],\n\n             ...,\n\n             [[0]],\n\n             [[0]],\n\n             [[0]]]]]],\n\n\n\n\n\n         [[[[[[0]],\n\n             [[0]],\n\n             [[0]],\n\n             ...,\n\n             [[0]],\n\n             [[0]],\n\n             [[0]]]]]],\n\n\n\n\n\n         ...,\n\n\n\n\n\n         [[[[[[0]],\n\n             [[0]],\n\n             [[0]],\n\n             ...,\n\n             [[0]],\n\n             [[0]],\n\n             [[0]]]]]],\n\n\n\n\n\n         [[[[[[0]],\n\n             [[0]],\n\n             [[0]],\n\n             ...,\n\n             [[0]],\n\n             [[0]],\n\n             [[0]]]]]],\n\n\n\n\n\n         [[[[[[0]],\n\n             [[0]],\n\n             [[0]],\n\n             ...,\n\n             [[0]],\n\n             [[0]],\n\n             [[0]]]]]]],\n\n\n\n\n\n\n        [[[[[[[0]],\n\n             [[0]],\n\n             [[0]],\n\n             ...,\n\n             [[0]],\n\n             [[0]],\n\n             [[0]]]]]],\n\n\n\n\n\n         [[[[[[0]],\n\n             [[0]],\n\n             [[0]],\n\n             ...,\n\n             [[0]],\n\n             [[0]],\n\n             [[0]]]]]],\n\n\n\n\n\n         [[[[[[0]],\n\n             [[0]],\n\n             [[0]],\n\n             ...,\n\n             [[0]],\n\n             [[0]],\n\n             [[0]]]]]],\n\n\n\n\n\n         ...,\n\n\n\n\n\n         [[[[[[0]],\n\n             [[0]],\n\n             [[0]],\n\n             ...,\n\n             [[0]],\n\n             [[0]],\n\n             [[0]]]]]],\n\n\n\n\n\n         [[[[[[0]],\n\n             [[0]],\n\n             [[0]],\n\n             ...,\n\n             [[0]],\n\n             [[0]],\n\n             [[0]]]]]],\n\n\n\n\n\n         [[[[[[0]],\n\n             [[0]],\n\n             [[0]],\n\n             ...,\n\n             [[0]],\n\n             [[0]],\n\n             [[0]]]]]]],\n\n\n\n\n\n\n        [[[[[[[0]],\n\n             [[0]],\n\n             [[0]],\n\n             ...,\n\n             [[0]],\n\n             [[0]],\n\n             [[0]]]]]],\n\n\n\n\n\n         [[[[[[0]],\n\n             [[0]],\n\n             [[0]],\n\n             ...,\n\n             [[0]],\n\n             [[0]],\n\n             [[0]]]]]],\n\n\n\n\n\n         [[[[[[0]],\n\n             [[0]],\n\n             [[0]],\n\n             ...,\n\n             [[0]],\n\n             [[0]],\n\n             [[0]]]]]],\n\n\n\n\n\n         ...,\n\n\n\n\n\n         [[[[[[0]],\n\n             [[0]],\n\n             [[0]],\n\n             ...,\n\n             [[0]],\n\n             [[0]],\n\n             [[0]]]]]],\n\n\n\n\n\n         [[[[[[0]],\n\n             [[0]],\n\n             [[0]],\n\n             ...,\n\n             [[0]],\n\n             [[0]],\n\n             [[0]]]]]],\n\n\n\n\n\n         [[[[[[0]],\n\n             [[0]],\n\n             [[0]],\n\n             ...,\n\n             [[0]],\n\n             [[0]],\n\n             [[0]]]]]]],\n\n\n\n\n\n\n        ...,\n\n\n\n\n\n\n        [[[[[[[0]],\n\n             [[0]],\n\n             [[0]],\n\n             ...,\n\n             [[0]],\n\n             [[0]],\n\n             [[0]]]]]],\n\n\n\n\n\n         [[[[[[0]],\n\n             [[0]],\n\n             [[0]],\n\n             ...,\n\n             [[0]],\n\n             [[0]],\n\n             [[0]]]]]],\n\n\n\n\n\n         [[[[[[0]],\n\n             [[0]],\n\n             [[0]],\n\n             ...,\n\n             [[0]],\n\n             [[0]],\n\n             [[0]]]]]],\n\n\n\n\n\n         ...,\n\n\n\n\n\n         [[[[[[0]],\n\n             [[0]],\n\n             [[0]],\n\n             ...,\n\n             [[0]],\n\n             [[0]],\n\n             [[0]]]]]],\n\n\n\n\n\n         [[[[[[0]],\n\n             [[0]],\n\n             [[0]],\n\n             ...,\n\n             [[0]],\n\n             [[0]],\n\n             [[0]]]]]],\n\n\n\n\n\n         [[[[[[0]],\n\n             [[0]],\n\n             [[0]],\n\n             ...,\n\n             [[0]],\n\n             [[0]],\n\n             [[0]]]]]]],\n\n\n\n\n\n\n        [[[[[[[0]],\n\n             [[0]],\n\n             [[0]],\n\n             ...,\n\n             [[0]],\n\n             [[0]],\n\n             [[0]]]]]],\n\n\n\n\n\n         [[[[[[0]],\n\n             [[0]],\n\n             [[0]],\n\n             ...,\n\n             [[0]],\n\n             [[0]],\n\n             [[0]]]]]],\n\n\n\n\n\n         [[[[[[0]],\n\n             [[0]],\n\n             [[0]],\n\n             ...,\n\n             [[0]],\n\n             [[0]],\n\n             [[0]]]]]],\n\n\n\n\n\n         ...,\n\n\n\n\n\n         [[[[[[0]],\n\n             [[0]],\n\n             [[0]],\n\n             ...,\n\n             [[0]],\n\n             [[0]],\n\n             [[0]]]]]],\n\n\n\n\n\n         [[[[[[0]],\n\n             [[0]],\n\n             [[0]],\n\n             ...,\n\n             [[0]],\n\n             [[0]],\n\n             [[0]]]]]],\n\n\n\n\n\n         [[[[[[0]],\n\n             [[0]],\n\n             [[0]],\n\n             ...,\n\n             [[0]],\n\n             [[0]],\n\n             [[0]]]]]]],\n\n\n\n\n\n\n        [[[[[[[0]],\n\n             [[0]],\n\n             [[0]],\n\n             ...,\n\n             [[0]],\n\n             [[0]],\n\n             [[0]]]]]],\n\n\n\n\n\n         [[[[[[0]],\n\n             [[0]],\n\n             [[0]],\n\n             ...,\n\n             [[0]],\n\n             [[0]],\n\n             [[0]]]]]],\n\n\n\n\n\n         [[[[[[0]],\n\n             [[0]],\n\n             [[0]],\n\n             ...,\n\n             [[0]],\n\n             [[0]],\n\n             [[0]]]]]],\n\n\n\n\n\n         ...,\n\n\n\n\n\n         [[[[[[0]],\n\n             [[0]],\n\n             [[0]],\n\n             ...,\n\n             [[0]],\n\n             [[0]],\n\n             [[0]]]]]],\n\n\n\n\n\n         [[[[[[0]],\n\n             [[0]],\n\n             [[0]],\n\n             ...,\n\n             [[0]],\n\n             [[0]],\n\n             [[0]]]]]],\n\n\n\n\n\n         [[[[[[0]],\n\n             [[0]],\n\n             [[0]],\n\n             ...,\n\n             [[0]],\n\n             [[0]],\n\n             [[0]]]]]]]],\n\n\n\n\n\n\n\n       ...,\n\n\n\n\n\n\n\n       [[[[[[[[0]],\n\n             [[0]],\n\n             [[0]],\n\n             ...,\n\n             [[0]],\n\n             [[0]],\n\n             [[0]]]]]],\n\n\n\n\n\n         [[[[[[0]],\n\n             [[0]],\n\n             [[0]],\n\n             ...,\n\n             [[0]],\n\n             [[0]],\n\n             [[0]]]]]],\n\n\n\n\n\n         [[[[[[0]],\n\n             [[0]],\n\n             [[0]],\n\n             ...,\n\n             [[0]],\n\n             [[0]],\n\n             [[0]]]]]],\n\n\n\n\n\n         ...,\n\n\n\n\n\n         [[[[[[0]],\n\n             [[0]],\n\n             [[0]],\n\n             ...,\n\n             [[0]],\n\n             [[0]],\n\n             [[0]]]]]],\n\n\n\n\n\n         [[[[[[0]],\n\n             [[0]],\n\n             [[0]],\n\n             ...,\n\n             [[0]],\n\n             [[0]],\n\n             [[0]]]]]],\n\n\n\n\n\n         [[[[[[0]],\n\n             [[0]],\n\n             [[0]],\n\n             ...,\n\n             [[0]],\n\n             [[0]],\n\n             [[0]]]]]]],\n\n\n\n\n\n\n        [[[[[[[0]],\n\n             [[0]],\n\n             [[0]],\n\n             ...,\n\n             [[0]],\n\n             [[0]],\n\n             [[0]]]]]],\n\n\n\n\n\n         [[[[[[0]],\n\n             [[0]],\n\n             [[0]],\n\n             ...,\n\n             [[0]],\n\n             [[0]],\n\n             [[0]]]]]],\n\n\n\n\n\n         [[[[[[0]],\n\n             [[0]],\n\n             [[0]],\n\n             ...,\n\n             [[0]],\n\n             [[0]],\n\n             [[0]]]]]],\n\n\n\n\n\n         ...,\n\n\n\n\n\n         [[[[[[0]],\n\n             [[0]],\n\n             [[0]],\n\n             ...,\n\n             [[0]],\n\n             [[0]],\n\n             [[0]]]]]],\n\n\n\n\n\n         [[[[[[0]],\n\n             [[0]],\n\n             [[0]],\n\n             ...,\n\n             [[0]],\n\n             [[0]],\n\n             [[0]]]]]],\n\n\n\n\n\n         [[[[[[0]],\n\n             [[0]],\n\n             [[0]],\n\n             ...,\n\n             [[0]],\n\n             [[0]],\n\n             [[0]]]]]]],\n\n\n\n\n\n\n        [[[[[[[0]],\n\n             [[0]],\n\n             [[0]],\n\n             ...,\n\n             [[0]],\n\n             [[0]],\n\n             [[0]]]]]],\n\n\n\n\n\n         [[[[[[0]],\n\n             [[0]],\n\n             [[0]],\n\n             ...,\n\n             [[0]],\n\n             [[0]],\n\n             [[0]]]]]],\n\n\n\n\n\n         [[[[[[0]],\n\n             [[0]],\n\n             [[0]],\n\n             ...,\n\n             [[0]],\n\n             [[0]],\n\n             [[0]]]]]],\n\n\n\n\n\n         ...,\n\n\n\n\n\n         [[[[[[0]],\n\n             [[0]],\n\n             [[0]],\n\n             ...,\n\n             [[0]],\n\n             [[0]],\n\n             [[0]]]]]],\n\n\n\n\n\n         [[[[[[0]],\n\n             [[0]],\n\n             [[0]],\n\n             ...,\n\n             [[0]],\n\n             [[0]],\n\n             [[0]]]]]],\n\n\n\n\n\n         [[[[[[0]],\n\n             [[0]],\n\n             [[0]],\n\n             ...,\n\n             [[0]],\n\n             [[0]],\n\n             [[0]]]]]]],\n\n\n\n\n\n\n        ...,\n\n\n\n\n\n\n        [[[[[[[0]],\n\n             [[0]],\n\n             [[0]],\n\n             ...,\n\n             [[0]],\n\n             [[0]],\n\n             [[0]]]]]],\n\n\n\n\n\n         [[[[[[0]],\n\n             [[0]],\n\n             [[0]],\n\n             ...,\n\n             [[0]],\n\n             [[0]],\n\n             [[0]]]]]],\n\n\n\n\n\n         [[[[[[0]],\n\n             [[0]],\n\n             [[0]],\n\n             ...,\n\n             [[0]],\n\n             [[0]],\n\n             [[0]]]]]],\n\n\n\n\n\n         ...,\n\n\n\n\n\n         [[[[[[0]],\n\n             [[0]],\n\n             [[0]],\n\n             ...,\n\n             [[0]],\n\n             [[0]],\n\n             [[0]]]]]],\n\n\n\n\n\n         [[[[[[0]],\n\n             [[0]],\n\n             [[0]],\n\n             ...,\n\n             [[0]],\n\n             [[0]],\n\n             [[0]]]]]],\n\n\n\n\n\n         [[[[[[0]],\n\n             [[0]],\n\n             [[0]],\n\n             ...,\n\n             [[0]],\n\n             [[0]],\n\n             [[0]]]]]]],\n\n\n\n\n\n\n        [[[[[[[0]],\n\n             [[0]],\n\n             [[0]],\n\n             ...,\n\n             [[0]],\n\n             [[0]],\n\n             [[0]]]]]],\n\n\n\n\n\n         [[[[[[0]],\n\n             [[0]],\n\n             [[0]],\n\n             ...,\n\n             [[0]],\n\n             [[0]],\n\n             [[0]]]]]],\n\n\n\n\n\n         [[[[[[0]],\n\n             [[0]],\n\n             [[0]],\n\n             ...,\n\n             [[0]],\n\n             [[0]],\n\n             [[0]]]]]],\n\n\n\n\n\n         ...,\n\n\n\n\n\n         [[[[[[0]],\n\n             [[0]],\n\n             [[0]],\n\n             ...,\n\n             [[0]],\n\n             [[0]],\n\n             [[0]]]]]],\n\n\n\n\n\n         [[[[[[0]],\n\n             [[0]],\n\n             [[0]],\n\n             ...,\n\n             [[0]],\n\n             [[0]],\n\n             [[0]]]]]],\n\n\n\n\n\n         [[[[[[0]],\n\n             [[0]],\n\n             [[0]],\n\n             ...,\n\n             [[0]],\n\n             [[0]],\n\n             [[0]]]]]]],\n\n\n\n\n\n\n        [[[[[[[0]],\n\n             [[0]],\n\n             [[0]],\n\n             ...,\n\n             [[0]],\n\n             [[0]],\n\n             [[0]]]]]],\n\n\n\n\n\n         [[[[[[0]],\n\n             [[0]],\n\n             [[0]],\n\n             ...,\n\n             [[0]],\n\n             [[0]],\n\n             [[0]]]]]],\n\n\n\n\n\n         [[[[[[0]],\n\n             [[0]],\n\n             [[0]],\n\n             ...,\n\n             [[0]],\n\n             [[0]],\n\n             [[0]]]]]],\n\n\n\n\n\n         ...,\n\n\n\n\n\n         [[[[[[0]],\n\n             [[0]],\n\n             [[0]],\n\n             ...,\n\n             [[0]],\n\n             [[0]],\n\n             [[0]]]]]],\n\n\n\n\n\n         [[[[[[0]],\n\n             [[0]],\n\n             [[0]],\n\n             ...,\n\n             [[0]],\n\n             [[0]],\n\n             [[0]]]]]],\n\n\n\n\n\n         [[[[[[0]],\n\n             [[0]],\n\n             [[0]],\n\n             ...,\n\n             [[0]],\n\n             [[0]],\n\n             [[0]]]]]]]],\n\n\n\n\n\n\n\n       [[[[[[[[0]],\n\n             [[0]],\n\n             [[0]],\n\n             ...,\n\n             [[0]],\n\n             [[0]],\n\n             [[0]]]]]],\n\n\n\n\n\n         [[[[[[0]],\n\n             [[0]],\n\n             [[0]],\n\n             ...,\n\n             [[0]],\n\n             [[0]],\n\n             [[0]]]]]],\n\n\n\n\n\n         [[[[[[0]],\n\n             [[0]],\n\n             [[0]],\n\n             ...,\n\n             [[0]],\n\n             [[0]],\n\n             [[0]]]]]],\n\n\n\n\n\n         ...,\n\n\n\n\n\n         [[[[[[0]],\n\n             [[0]],\n\n             [[0]],\n\n             ...,\n\n             [[0]],\n\n             [[0]],\n\n             [[0]]]]]],\n\n\n\n\n\n         [[[[[[0]],\n\n             [[0]],\n\n             [[0]],\n\n             ...,\n\n             [[0]],\n\n             [[0]],\n\n             [[0]]]]]],\n\n\n\n\n\n         [[[[[[0]],\n\n             [[0]],\n\n             [[0]],\n\n             ...,\n\n             [[0]],\n\n             [[0]],\n\n             [[0]]]]]]],\n\n\n\n\n\n\n        [[[[[[[0]],\n\n             [[0]],\n\n             [[0]],\n\n             ...,\n\n             [[0]],\n\n             [[0]],\n\n             [[0]]]]]],\n\n\n\n\n\n         [[[[[[0]],\n\n             [[0]],\n\n             [[0]],\n\n             ...,\n\n             [[0]],\n\n             [[0]],\n\n             [[0]]]]]],\n\n\n\n\n\n         [[[[[[0]],\n\n             [[0]],\n\n             [[0]],\n\n             ...,\n\n             [[0]],\n\n             [[0]],\n\n             [[0]]]]]],\n\n\n\n\n\n         ...,\n\n\n\n\n\n         [[[[[[0]],\n\n             [[0]],\n\n             [[0]],\n\n             ...,\n\n             [[0]],\n\n             [[0]],\n\n             [[0]]]]]],\n\n\n\n\n\n         [[[[[[0]],\n\n             [[0]],\n\n             [[0]],\n\n             ...,\n\n             [[0]],\n\n             [[0]],\n\n             [[0]]]]]],\n\n\n\n\n\n         [[[[[[0]],\n\n             [[0]],\n\n             [[0]],\n\n             ...,\n\n             [[0]],\n\n             [[0]],\n\n             [[0]]]]]]],\n\n\n\n\n\n\n        [[[[[[[0]],\n\n             [[0]],\n\n             [[0]],\n\n             ...,\n\n             [[0]],\n\n             [[0]],\n\n             [[0]]]]]],\n\n\n\n\n\n         [[[[[[0]],\n\n             [[0]],\n\n             [[0]],\n\n             ...,\n\n             [[0]],\n\n             [[0]],\n\n             [[0]]]]]],\n\n\n\n\n\n         [[[[[[0]],\n\n             [[0]],\n\n             [[0]],\n\n             ...,\n\n             [[0]],\n\n             [[0]],\n\n             [[0]]]]]],\n\n\n\n\n\n         ...,\n\n\n\n\n\n         [[[[[[0]],\n\n             [[0]],\n\n             [[0]],\n\n             ...,\n\n             [[0]],\n\n             [[0]],\n\n             [[0]]]]]],\n\n\n\n\n\n         [[[[[[0]],\n\n             [[0]],\n\n             [[0]],\n\n             ...,\n\n             [[0]],\n\n             [[0]],\n\n             [[0]]]]]],\n\n\n\n\n\n         [[[[[[0]],\n\n             [[0]],\n\n             [[0]],\n\n             ...,\n\n             [[0]],\n\n             [[0]],\n\n             [[0]]]]]]],\n\n\n\n\n\n\n        ...,\n\n\n\n\n\n\n        [[[[[[[0]],\n\n             [[0]],\n\n             [[0]],\n\n             ...,\n\n             [[0]],\n\n             [[0]],\n\n             [[0]]]]]],\n\n\n\n\n\n         [[[[[[0]],\n\n             [[0]],\n\n             [[0]],\n\n             ...,\n\n             [[0]],\n\n             [[0]],\n\n             [[0]]]]]],\n\n\n\n\n\n         [[[[[[0]],\n\n             [[0]],\n\n             [[0]],\n\n             ...,\n\n             [[0]],\n\n             [[0]],\n\n             [[0]]]]]],\n\n\n\n\n\n         ...,\n\n\n\n\n\n         [[[[[[0]],\n\n             [[0]],\n\n             [[0]],\n\n             ...,\n\n             [[0]],\n\n             [[0]],\n\n             [[0]]]]]],\n\n\n\n\n\n         [[[[[[0]],\n\n             [[0]],\n\n             [[0]],\n\n             ...,\n\n             [[0]],\n\n             [[0]],\n\n             [[0]]]]]],\n\n\n\n\n\n         [[[[[[0]],\n\n             [[0]],\n\n             [[0]],\n\n             ...,\n\n             [[0]],\n\n             [[0]],\n\n             [[0]]]]]]],\n\n\n\n\n\n\n        [[[[[[[0]],\n\n             [[0]],\n\n             [[0]],\n\n             ...,\n\n             [[0]],\n\n             [[0]],\n\n             [[0]]]]]],\n\n\n\n\n\n         [[[[[[0]],\n\n             [[0]],\n\n             [[0]],\n\n             ...,\n\n             [[0]],\n\n             [[0]],\n\n             [[0]]]]]],\n\n\n\n\n\n         [[[[[[0]],\n\n             [[0]],\n\n             [[0]],\n\n             ...,\n\n             [[0]],\n\n             [[0]],\n\n             [[0]]]]]],\n\n\n\n\n\n         ...,\n\n\n\n\n\n         [[[[[[0]],\n\n             [[0]],\n\n             [[0]],\n\n             ...,\n\n             [[0]],\n\n             [[0]],\n\n             [[0]]]]]],\n\n\n\n\n\n         [[[[[[0]],\n\n             [[0]],\n\n             [[0]],\n\n             ...,\n\n             [[0]],\n\n             [[0]],\n\n             [[0]]]]]],\n\n\n\n\n\n         [[[[[[0]],\n\n             [[0]],\n\n             [[0]],\n\n             ...,\n\n             [[0]],\n\n             [[0]],\n\n             [[0]]]]]]],\n\n\n\n\n\n\n        [[[[[[[0]],\n\n             [[0]],\n\n             [[0]],\n\n             ...,\n\n             [[0]],\n\n             [[0]],\n\n             [[0]]]]]],\n\n\n\n\n\n         [[[[[[0]],\n\n             [[0]],\n\n             [[0]],\n\n             ...,\n\n             [[0]],\n\n             [[0]],\n\n             [[0]]]]]],\n\n\n\n\n\n         [[[[[[0]],\n\n             [[0]],\n\n             [[0]],\n\n             ...,\n\n             [[0]],\n\n             [[0]],\n\n             [[0]]]]]],\n\n\n\n\n\n         ...,\n\n\n\n\n\n         [[[[[[0]],\n\n             [[0]],\n\n             [[0]],\n\n             ...,\n\n             [[0]],\n\n             [[0]],\n\n             [[0]]]]]],\n\n\n\n\n\n         [[[[[[0]],\n\n             [[0]],\n\n             [[0]],\n\n             ...,\n\n             [[0]],\n\n             [[0]],\n\n             [[0]]]]]],\n\n\n\n\n\n         [[[[[[0]],\n\n             [[0]],\n\n             [[0]],\n\n             ...,\n\n             [[0]],\n\n             [[0]],\n\n             [[0]]]]]]]],\n\n\n\n\n\n\n\n       [[[[[[[[0]],\n\n             [[0]],\n\n             [[0]],\n\n             ...,\n\n             [[0]],\n\n             [[0]],\n\n             [[0]]]]]],\n\n\n\n\n\n         [[[[[[0]],\n\n             [[0]],\n\n             [[0]],\n\n             ...,\n\n             [[0]],\n\n             [[0]],\n\n             [[0]]]]]],\n\n\n\n\n\n         [[[[[[0]],\n\n             [[0]],\n\n             [[0]],\n\n             ...,\n\n             [[0]],\n\n             [[0]],\n\n             [[0]]]]]],\n\n\n\n\n\n         ...,\n\n\n\n\n\n         [[[[[[0]],\n\n             [[0]],\n\n             [[0]],\n\n             ...,\n\n             [[0]],\n\n             [[0]],\n\n             [[0]]]]]],\n\n\n\n\n\n         [[[[[[0]],\n\n             [[0]],\n\n             [[0]],\n\n             ...,\n\n             [[0]],\n\n             [[0]],\n\n             [[0]]]]]],\n\n\n\n\n\n         [[[[[[0]],\n\n             [[0]],\n\n             [[0]],\n\n             ...,\n\n             [[0]],\n\n             [[0]],\n\n             [[0]]]]]]],\n\n\n\n\n\n\n        [[[[[[[0]],\n\n             [[0]],\n\n             [[0]],\n\n             ...,\n\n             [[0]],\n\n             [[0]],\n\n             [[0]]]]]],\n\n\n\n\n\n         [[[[[[0]],\n\n             [[0]],\n\n             [[0]],\n\n             ...,\n\n             [[0]],\n\n             [[0]],\n\n             [[0]]]]]],\n\n\n\n\n\n         [[[[[[0]],\n\n             [[0]],\n\n             [[0]],\n\n             ...,\n\n             [[0]],\n\n             [[0]],\n\n             [[0]]]]]],\n\n\n\n\n\n         ...,\n\n\n\n\n\n         [[[[[[0]],\n\n             [[0]],\n\n             [[0]],\n\n             ...,\n\n             [[0]],\n\n             [[0]],\n\n             [[0]]]]]],\n\n\n\n\n\n         [[[[[[0]],\n\n             [[0]],\n\n             [[0]],\n\n             ...,\n\n             [[0]],\n\n             [[0]],\n\n             [[0]]]]]],\n\n\n\n\n\n         [[[[[[0]],\n\n             [[0]],\n\n             [[0]],\n\n             ...,\n\n             [[0]],\n\n             [[0]],\n\n             [[0]]]]]]],\n\n\n\n\n\n\n        [[[[[[[0]],\n\n             [[0]],\n\n             [[0]],\n\n             ...,\n\n             [[0]],\n\n             [[0]],\n\n             [[0]]]]]],\n\n\n\n\n\n         [[[[[[0]],\n\n             [[0]],\n\n             [[0]],\n\n             ...,\n\n             [[0]],\n\n             [[0]],\n\n             [[0]]]]]],\n\n\n\n\n\n         [[[[[[0]],\n\n             [[0]],\n\n             [[0]],\n\n             ...,\n\n             [[0]],\n\n             [[0]],\n\n             [[0]]]]]],\n\n\n\n\n\n         ...,\n\n\n\n\n\n         [[[[[[0]],\n\n             [[0]],\n\n             [[0]],\n\n             ...,\n\n             [[0]],\n\n             [[0]],\n\n             [[0]]]]]],\n\n\n\n\n\n         [[[[[[0]],\n\n             [[0]],\n\n             [[0]],\n\n             ...,\n\n             [[0]],\n\n             [[0]],\n\n             [[0]]]]]],\n\n\n\n\n\n         [[[[[[0]],\n\n             [[0]],\n\n             [[0]],\n\n             ...,\n\n             [[0]],\n\n             [[0]],\n\n             [[0]]]]]]],\n\n\n\n\n\n\n        ...,\n\n\n\n\n\n\n        [[[[[[[0]],\n\n             [[0]],\n\n             [[0]],\n\n             ...,\n\n             [[0]],\n\n             [[0]],\n\n             [[0]]]]]],\n\n\n\n\n\n         [[[[[[0]],\n\n             [[0]],\n\n             [[0]],\n\n             ...,\n\n             [[0]],\n\n             [[0]],\n\n             [[0]]]]]],\n\n\n\n\n\n         [[[[[[0]],\n\n             [[0]],\n\n             [[0]],\n\n             ...,\n\n             [[0]],\n\n             [[0]],\n\n             [[0]]]]]],\n\n\n\n\n\n         ...,\n\n\n\n\n\n         [[[[[[0]],\n\n             [[0]],\n\n             [[0]],\n\n             ...,\n\n             [[0]],\n\n             [[0]],\n\n             [[0]]]]]],\n\n\n\n\n\n         [[[[[[0]],\n\n             [[0]],\n\n             [[0]],\n\n             ...,\n\n             [[0]],\n\n             [[0]],\n\n             [[0]]]]]],\n\n\n\n\n\n         [[[[[[0]],\n\n             [[0]],\n\n             [[0]],\n\n             ...,\n\n             [[0]],\n\n             [[0]],\n\n             [[0]]]]]]],\n\n\n\n\n\n\n        [[[[[[[0]],\n\n             [[0]],\n\n             [[0]],\n\n             ...,\n\n             [[0]],\n\n             [[0]],\n\n             [[0]]]]]],\n\n\n\n\n\n         [[[[[[0]],\n\n             [[0]],\n\n             [[0]],\n\n             ...,\n\n             [[0]],\n\n             [[0]],\n\n             [[0]]]]]],\n\n\n\n\n\n         [[[[[[0]],\n\n             [[0]],\n\n             [[0]],\n\n             ...,\n\n             [[0]],\n\n             [[0]],\n\n             [[0]]]]]],\n\n\n\n\n\n         ...,\n\n\n\n\n\n         [[[[[[0]],\n\n             [[0]],\n\n             [[0]],\n\n             ...,\n\n             [[0]],\n\n             [[0]],\n\n             [[0]]]]]],\n\n\n\n\n\n         [[[[[[0]],\n\n             [[0]],\n\n             [[0]],\n\n             ...,\n\n             [[0]],\n\n             [[0]],\n\n             [[0]]]]]],\n\n\n\n\n\n         [[[[[[0]],\n\n             [[0]],\n\n             [[0]],\n\n             ...,\n\n             [[0]],\n\n             [[0]],\n\n             [[0]]]]]]],\n\n\n\n\n\n\n        [[[[[[[0]],\n\n             [[0]],\n\n             [[0]],\n\n             ...,\n\n             [[0]],\n\n             [[0]],\n\n             [[0]]]]]],\n\n\n\n\n\n         [[[[[[0]],\n\n             [[0]],\n\n             [[0]],\n\n             ...,\n\n             [[0]],\n\n             [[0]],\n\n             [[0]]]]]],\n\n\n\n\n\n         [[[[[[0]],\n\n             [[0]],\n\n             [[0]],\n\n             ...,\n\n             [[0]],\n\n             [[0]],\n\n             [[0]]]]]],\n\n\n\n\n\n         ...,\n\n\n\n\n\n         [[[[[[0]],\n\n             [[0]],\n\n             [[0]],\n\n             ...,\n\n             [[0]],\n\n             [[0]],\n\n             [[0]]]]]],\n\n\n\n\n\n         [[[[[[0]],\n\n             [[0]],\n\n             [[0]],\n\n             ...,\n\n             [[0]],\n\n             [[0]],\n\n             [[0]]]]]],\n\n\n\n\n\n         [[[[[[0]],\n\n             [[0]],\n\n             [[0]],\n\n             ...,\n\n             [[0]],\n\n             [[0]],\n\n             [[0]]]]]]]]])"
     },
     "execution_count": 25,
     "metadata": {},
     "output_type": "execute_result"
    }
   ],
   "source": [
    "np.pad(x,0)"
   ],
   "metadata": {
    "collapsed": false,
    "pycharm": {
     "name": "#%%\n"
    }
   }
  },
  {
   "cell_type": "code",
   "execution_count": 17,
   "outputs": [
    {
     "name": "stdout",
     "output_type": "stream",
     "text": [
      "Created 2D Data\n"
     ]
    }
   ],
   "source": [
    "from tensorflow import int16\n",
    "\n",
    "# create 2D Data\n",
    "train_2D_x=np.zeros((155,240,240,1))\n",
    "train_2D_y=np.zeros((155,240,240,5))\n",
    "\n",
    "for i in range(155):\n",
    "    train_2D_x[i]=train_x[0,:,:,i]\n",
    "    train_2D_y[i]=train_y[0,:,:,i]\n",
    "\n",
    "train_2D_x = tf.convert_to_tensor(train_2D_x,dtype=int16)\n",
    "train_2D_y = tf.convert_to_tensor(train_2D_y,dtype=int16)\n",
    "\n",
    "print('Created 2D Data')\n"
   ],
   "metadata": {
    "collapsed": false,
    "pycharm": {
     "name": "#%%\n"
    }
   }
  },
  {
   "cell_type": "code",
   "execution_count": 24,
   "outputs": [
    {
     "name": "stdout",
     "output_type": "stream",
     "text": [
      "Model: \"2dcnn\"\n",
      "_________________________________________________________________\n",
      " Layer (type)                Output Shape              Param #   \n",
      "=================================================================\n",
      " input_5 (InputLayer)        [(None, 240, 240, 1)]     0         \n",
      "                                                                 \n",
      " conv2d_52 (Conv2D)          (None, 240, 240, 8)       80        \n",
      "                                                                 \n",
      " batch_normalization_48 (Bat  (None, 240, 240, 8)      32        \n",
      " chNormalization)                                                \n",
      "                                                                 \n",
      " conv2d_53 (Conv2D)          (None, 240, 240, 8)       584       \n",
      "                                                                 \n",
      " batch_normalization_49 (Bat  (None, 240, 240, 8)      32        \n",
      " chNormalization)                                                \n",
      "                                                                 \n",
      " max_pooling2d_12 (MaxPoolin  (None, 120, 120, 8)      0         \n",
      " g2D)                                                            \n",
      "                                                                 \n",
      " conv2d_54 (Conv2D)          (None, 120, 120, 16)      1168      \n",
      "                                                                 \n",
      " batch_normalization_50 (Bat  (None, 120, 120, 16)     64        \n",
      " chNormalization)                                                \n",
      "                                                                 \n",
      " conv2d_55 (Conv2D)          (None, 120, 120, 16)      2320      \n",
      "                                                                 \n",
      " batch_normalization_51 (Bat  (None, 120, 120, 16)     64        \n",
      " chNormalization)                                                \n",
      "                                                                 \n",
      " max_pooling2d_13 (MaxPoolin  (None, 60, 60, 16)       0         \n",
      " g2D)                                                            \n",
      "                                                                 \n",
      " conv2d_56 (Conv2D)          (None, 60, 60, 64)        9280      \n",
      "                                                                 \n",
      " batch_normalization_52 (Bat  (None, 60, 60, 64)       256       \n",
      " chNormalization)                                                \n",
      "                                                                 \n",
      " conv2d_57 (Conv2D)          (None, 60, 60, 64)        36928     \n",
      "                                                                 \n",
      " batch_normalization_53 (Bat  (None, 60, 60, 64)       256       \n",
      " chNormalization)                                                \n",
      "                                                                 \n",
      " max_pooling2d_14 (MaxPoolin  (None, 30, 30, 64)       0         \n",
      " g2D)                                                            \n",
      "                                                                 \n",
      " up_sampling2d_12 (UpSamplin  (None, 60, 60, 64)       0         \n",
      " g2D)                                                            \n",
      "                                                                 \n",
      " conv2d_58 (Conv2D)          (None, 60, 60, 64)        36928     \n",
      "                                                                 \n",
      " batch_normalization_54 (Bat  (None, 60, 60, 64)       256       \n",
      " chNormalization)                                                \n",
      "                                                                 \n",
      " conv2d_59 (Conv2D)          (None, 60, 60, 64)        36928     \n",
      "                                                                 \n",
      " batch_normalization_55 (Bat  (None, 60, 60, 64)       256       \n",
      " chNormalization)                                                \n",
      "                                                                 \n",
      " up_sampling2d_13 (UpSamplin  (None, 120, 120, 64)     0         \n",
      " g2D)                                                            \n",
      "                                                                 \n",
      " conv2d_60 (Conv2D)          (None, 120, 120, 32)      18464     \n",
      "                                                                 \n",
      " batch_normalization_56 (Bat  (None, 120, 120, 32)     128       \n",
      " chNormalization)                                                \n",
      "                                                                 \n",
      " conv2d_61 (Conv2D)          (None, 120, 120, 32)      9248      \n",
      "                                                                 \n",
      " batch_normalization_57 (Bat  (None, 120, 120, 32)     128       \n",
      " chNormalization)                                                \n",
      "                                                                 \n",
      " up_sampling2d_14 (UpSamplin  (None, 240, 240, 32)     0         \n",
      " g2D)                                                            \n",
      "                                                                 \n",
      " conv2d_62 (Conv2D)          (None, 240, 240, 16)      4624      \n",
      "                                                                 \n",
      " batch_normalization_58 (Bat  (None, 240, 240, 16)     64        \n",
      " chNormalization)                                                \n",
      "                                                                 \n",
      " conv2d_63 (Conv2D)          (None, 240, 240, 16)      2320      \n",
      "                                                                 \n",
      " batch_normalization_59 (Bat  (None, 240, 240, 16)     64        \n",
      " chNormalization)                                                \n",
      "                                                                 \n",
      " conv2d_64 (Conv2D)          (None, 240, 240, 5)       85        \n",
      "                                                                 \n",
      "=================================================================\n",
      "Total params: 160,557\n",
      "Trainable params: 159,757\n",
      "Non-trainable params: 800\n",
      "_________________________________________________________________\n"
     ]
    }
   ],
   "source": [
    "#create 2D CNN model\n",
    "def get_2D_model():\n",
    "\n",
    "    \"\"\"Build a 3D convolutional neural network model.\"\"\"\n",
    "\n",
    "    ker_init='he_normal'\n",
    "\n",
    "    inputs = keras.Input(shape=(240,240,1))\n",
    "\n",
    "    x = Conv2D(filters=8, kernel_size=3, activation=\"relu\",kernel_initializer = ker_init,padding=\"same\")(inputs)\n",
    "    x = BatchNormalization()(x)\n",
    "    x = Conv2D(filters=8, kernel_size=3, activation=\"relu\",kernel_initializer = ker_init,padding=\"same\")(x)\n",
    "    x = BatchNormalization()(x)\n",
    "    x = MaxPool2D(pool_size=2)(x)\n",
    "\n",
    "    x = Conv2D(filters=16, kernel_size=3, activation=\"relu\",kernel_initializer = ker_init,padding=\"same\")(x)\n",
    "    x = BatchNormalization()(x)\n",
    "    x = Conv2D(filters=16, kernel_size=3, activation=\"relu\",kernel_initializer = ker_init,padding=\"same\")(x)\n",
    "    x = BatchNormalization()(x)\n",
    "    x = MaxPool2D(pool_size=2)(x)\n",
    "\n",
    "    x = Conv2D(filters=64, kernel_size=3, activation=\"relu\",kernel_initializer = ker_init,padding=\"same\")(x)\n",
    "    x = BatchNormalization()(x)\n",
    "    x = Conv2D(filters=64, kernel_size=3, activation=\"relu\",kernel_initializer = ker_init,padding=\"same\")(x)\n",
    "    x = BatchNormalization()(x)\n",
    "    x = MaxPool2D(pool_size=2)(x)\n",
    "\n",
    "\n",
    "    #x = layers.Conv2D(filters=16, kernel_size=3, activation=\"relu\")(x)\n",
    "    x = UpSampling2D()(x)\n",
    "    x = Conv2D(filters=64, kernel_size=3, activation=\"relu\",kernel_initializer = ker_init,padding=\"same\")(x)\n",
    "    x = BatchNormalization()(x)\n",
    "    x = Conv2D(filters=64, kernel_size=3, activation=\"relu\",kernel_initializer = ker_init,padding=\"same\")(x)\n",
    "    x = BatchNormalization()(x)\n",
    "\n",
    "    x = UpSampling2D()(x)\n",
    "    x = Conv2D(filters=32, kernel_size=3, activation=\"relu\",kernel_initializer = ker_init,padding=\"same\")(x)\n",
    "    x = BatchNormalization()(x)\n",
    "    x = Conv2D(filters=32, kernel_size=3, activation=\"relu\",kernel_initializer = ker_init,padding=\"same\")(x)\n",
    "    x = BatchNormalization()(x)\n",
    "\n",
    "    x = UpSampling2D()(x)\n",
    "    x = Conv2D(filters=16, kernel_size=3, activation=\"relu\",kernel_initializer = ker_init,padding=\"same\")(x)\n",
    "    x = BatchNormalization()(x)\n",
    "    x = Conv2D(filters=16, kernel_size=3, activation=\"relu\",kernel_initializer = ker_init,padding=\"same\")(x)\n",
    "    x = BatchNormalization()(x)\n",
    "\n",
    "    #x = Conv2DTranspose(filters=1, kernel_size=3, activation=\"softmax\",padding=\"same\")(x)\n",
    "    #x = Conv2DTranspose(filters=1, kernel_size=3)(x)\n",
    "    x = Conv2D(5, (1,1), activation = 'softmax')(x)\n",
    "    outputs=x\n",
    "\n",
    "    #outputs = layers.Dense(units=240*240*1, activation=\"sigmoid\")(x)\n",
    "\n",
    "    # Define the model.\n",
    "    model = keras.Model(inputs, outputs, name=\"2dcnn\")\n",
    "    return model\n",
    "model = get_2D_model()\n",
    "model.summary()"
   ],
   "metadata": {
    "collapsed": false,
    "pycharm": {
     "name": "#%%\n"
    }
   }
  },
  {
   "cell_type": "code",
   "execution_count": null,
   "outputs": [
    {
     "name": "stdout",
     "output_type": "stream",
     "text": [
      "Epoch 1/100\n",
      "2/2 [==============================] - 33s 11s/step - loss: 1.4269 - accuracy: 0.9154 - categorical_accuracy: 0.9154 - one_hot_mean_io_u: 0.1981\n",
      "Epoch 2/100\n",
      "2/2 [==============================] - 31s 11s/step - loss: 1.4125 - accuracy: 0.9203 - categorical_accuracy: 0.9203 - one_hot_mean_io_u: 0.2005\n",
      "Epoch 3/100\n",
      "2/2 [==============================] - 30s 10s/step - loss: 1.3962 - accuracy: 0.9381 - categorical_accuracy: 0.9381 - one_hot_mean_io_u: 0.2112\n",
      "Epoch 4/100\n",
      "2/2 [==============================] - 30s 10s/step - loss: 1.3826 - accuracy: 0.9595 - categorical_accuracy: 0.9595 - one_hot_mean_io_u: 0.2298\n",
      "Epoch 5/100\n",
      "2/2 [==============================] - 29s 10s/step - loss: 1.3685 - accuracy: 0.9721 - categorical_accuracy: 0.9721 - one_hot_mean_io_u: 0.2322\n",
      "Epoch 6/100\n",
      "2/2 [==============================] - 28s 10s/step - loss: 1.3549 - accuracy: 0.9694 - categorical_accuracy: 0.9694 - one_hot_mean_io_u: 0.2352\n",
      "Epoch 7/100\n",
      "2/2 [==============================] - 28s 10s/step - loss: 1.3418 - accuracy: 0.9725 - categorical_accuracy: 0.9725 - one_hot_mean_io_u: 0.2435\n",
      "Epoch 8/100\n",
      "2/2 [==============================] - 28s 10s/step - loss: 1.3278 - accuracy: 0.9824 - categorical_accuracy: 0.9824 - one_hot_mean_io_u: 0.2566\n",
      "Epoch 9/100\n",
      "2/2 [==============================] - 28s 10s/step - loss: 1.3150 - accuracy: 0.9871 - categorical_accuracy: 0.9871 - one_hot_mean_io_u: 0.2614\n",
      "Epoch 10/100\n",
      "2/2 [==============================] - 28s 10s/step - loss: 1.3005 - accuracy: 0.9846 - categorical_accuracy: 0.9846 - one_hot_mean_io_u: 0.2529\n",
      "Epoch 11/100\n",
      "2/2 [==============================] - 29s 10s/step - loss: 1.2866 - accuracy: 0.9859 - categorical_accuracy: 0.9859 - one_hot_mean_io_u: 0.2573\n",
      "Epoch 12/100\n",
      "2/2 [==============================] - 28s 10s/step - loss: 1.2727 - accuracy: 0.9907 - categorical_accuracy: 0.9907 - one_hot_mean_io_u: 0.2767\n",
      "Epoch 13/100\n",
      "2/2 [==============================] - 28s 10s/step - loss: 1.2584 - accuracy: 0.9903 - categorical_accuracy: 0.9903 - one_hot_mean_io_u: 0.2689\n",
      "Epoch 14/100\n",
      "2/2 [==============================] - 28s 10s/step - loss: 1.2444 - accuracy: 0.9901 - categorical_accuracy: 0.9901 - one_hot_mean_io_u: 0.2660\n",
      "Epoch 15/100\n",
      "2/2 [==============================] - 29s 10s/step - loss: 1.2299 - accuracy: 0.9912 - categorical_accuracy: 0.9912 - one_hot_mean_io_u: 0.2766\n",
      "Epoch 16/100\n",
      "2/2 [==============================] - 28s 10s/step - loss: 1.2155 - accuracy: 0.9919 - categorical_accuracy: 0.9919 - one_hot_mean_io_u: 0.2768\n",
      "Epoch 17/100\n",
      "2/2 [==============================] - 28s 10s/step - loss: 1.2009 - accuracy: 0.9929 - categorical_accuracy: 0.9929 - one_hot_mean_io_u: 0.2818\n",
      "Epoch 18/100\n",
      "2/2 [==============================] - 28s 10s/step - loss: 1.1862 - accuracy: 0.9924 - categorical_accuracy: 0.9924 - one_hot_mean_io_u: 0.2934\n",
      "Epoch 19/100\n",
      "2/2 [==============================] - 28s 10s/step - loss: 1.1722 - accuracy: 0.9935 - categorical_accuracy: 0.9935 - one_hot_mean_io_u: 0.2931\n",
      "Epoch 20/100\n",
      "2/2 [==============================] - 28s 10s/step - loss: 1.1604 - accuracy: 0.9915 - categorical_accuracy: 0.9915 - one_hot_mean_io_u: 0.2920\n",
      "Epoch 21/100\n",
      "2/2 [==============================] - 28s 10s/step - loss: 1.1445 - accuracy: 0.9945 - categorical_accuracy: 0.9945 - one_hot_mean_io_u: 0.2918\n",
      "Epoch 22/100\n",
      "2/2 [==============================] - 28s 10s/step - loss: 1.1305 - accuracy: 0.9954 - categorical_accuracy: 0.9954 - one_hot_mean_io_u: 0.3402\n",
      "Epoch 23/100\n",
      "2/2 [==============================] - 28s 10s/step - loss: 1.1134 - accuracy: 0.9946 - categorical_accuracy: 0.9946 - one_hot_mean_io_u: 0.3829\n",
      "Epoch 24/100\n",
      "2/2 [==============================] - 28s 10s/step - loss: 1.0984 - accuracy: 0.9932 - categorical_accuracy: 0.9932 - one_hot_mean_io_u: 0.3087\n",
      "Epoch 25/100\n",
      "2/2 [==============================] - 28s 10s/step - loss: 1.0824 - accuracy: 0.9938 - categorical_accuracy: 0.9938 - one_hot_mean_io_u: 0.2903\n",
      "Epoch 26/100\n"
     ]
    }
   ],
   "source": [
    "from keras.metrics import MeanIoU, OneHotMeanIoU\n",
    "#from sklearn.metrics import recall_score, f1_score, precision_score\n",
    "from keras import metrics\n",
    "\n",
    "model.compile(loss=\"categorical_crossentropy\", optimizer=Adam(learning_rate=0.001),\n",
    "              metrics = ['accuracy','categorical_accuracy',OneHotMeanIoU (num_classes=5)\n",
    "                                   ]\n",
    "              # metrics = ['accuracy','sparse_categorical_accuracy','categorical_accuracy','categorical_crossentropy',#MeanIoU(num_classes=5)\n",
    "              #                     ]\n",
    "              )\n",
    "\n",
    "#tf.keras.metrics.MeanIoU(num_classes=2)]\n",
    "\n",
    "model.fit(train_2D_x[:1000],train_2D_y[:1000],batch_size=100,epochs=100,\n",
    "          validation_data=(train_2D_x[1000:],train_2D_y[1000:]))"
   ],
   "metadata": {
    "collapsed": false,
    "pycharm": {
     "name": "#%%\n"
    }
   }
  },
  {
   "cell_type": "code",
   "execution_count": 23,
   "outputs": [
    {
     "name": "stdout",
     "output_type": "stream",
     "text": [
      "(3100, 240, 240, 1)\n",
      "[   0    1    2 ... 4087 4092 4097]\n",
      "(3100, 240, 240, 1)\n",
      "[0 1 2 4]\n",
      "WARNING:tensorflow:Model was constructed with shape (None, 240, 240, 1) for input KerasTensor(type_spec=TensorSpec(shape=(None, 240, 240, 1), dtype=tf.float32, name='input_4'), name='input_4', description=\"created by layer 'input_4'\"), but it was called on an input with incompatible shape (None, 240, 1, 1).\n"
     ]
    },
    {
     "ename": "ValueError",
     "evalue": "in user code:\n\n    File \"c:\\users\\vdwti\\pycharmprojects\\brats_2021\\venv\\lib\\site-packages\\keras\\engine\\training.py\", line 2041, in predict_function  *\n        return step_function(self, iterator)\n    File \"c:\\users\\vdwti\\pycharmprojects\\brats_2021\\venv\\lib\\site-packages\\keras\\engine\\training.py\", line 2027, in step_function  **\n        outputs = model.distribute_strategy.run(run_step, args=(data,))\n    File \"c:\\users\\vdwti\\pycharmprojects\\brats_2021\\venv\\lib\\site-packages\\keras\\engine\\training.py\", line 2015, in run_step  **\n        outputs = model.predict_step(data)\n    File \"c:\\users\\vdwti\\pycharmprojects\\brats_2021\\venv\\lib\\site-packages\\keras\\engine\\training.py\", line 1983, in predict_step\n        return self(x, training=False)\n    File \"c:\\users\\vdwti\\pycharmprojects\\brats_2021\\venv\\lib\\site-packages\\keras\\utils\\traceback_utils.py\", line 70, in error_handler\n        raise e.with_traceback(filtered_tb) from None\n\n    ValueError: Exception encountered when calling layer \"max_pooling2d_9\" \"                 f\"(type MaxPooling2D).\n    \n    Negative dimension size caused by subtracting 2 from 1 for '{{node 2dcnn/max_pooling2d_9/MaxPool}} = MaxPool[T=DT_FLOAT, data_format=\"NHWC\", explicit_paddings=[], ksize=[1, 2, 2, 1], padding=\"VALID\", strides=[1, 2, 2, 1]](2dcnn/batch_normalization_37/FusedBatchNormV3)' with input shapes: [?,240,1,8].\n    \n    Call arguments received by layer \"max_pooling2d_9\" \"                 f\"(type MaxPooling2D):\n      • inputs=tf.Tensor(shape=(None, 240, 1, 8), dtype=float32)\n",
     "output_type": "error",
     "traceback": [
      "\u001B[1;31m---------------------------------------------------------------------------\u001B[0m",
      "\u001B[1;31mValueError\u001B[0m                                Traceback (most recent call last)",
      "Cell \u001B[1;32mIn [23], line 7\u001B[0m\n\u001B[0;32m      4\u001B[0m \u001B[38;5;28mprint\u001B[39m(y\u001B[38;5;241m.\u001B[39mshape)\n\u001B[0;32m      5\u001B[0m \u001B[38;5;28mprint\u001B[39m(np\u001B[38;5;241m.\u001B[39munique(y))\n\u001B[1;32m----> 7\u001B[0m prey\u001B[38;5;241m=\u001B[39m\u001B[43mmodel\u001B[49m\u001B[38;5;241;43m.\u001B[39;49m\u001B[43mpredict\u001B[49m\u001B[43m(\u001B[49m\u001B[43mx\u001B[49m\u001B[43m[\u001B[49m\u001B[38;5;241;43m1000\u001B[39;49m\u001B[43m]\u001B[49m\u001B[43m)\u001B[49m\n",
      "File \u001B[1;32mc:\\users\\vdwti\\pycharmprojects\\brats_2021\\venv\\lib\\site-packages\\keras\\utils\\traceback_utils.py:70\u001B[0m, in \u001B[0;36mfilter_traceback.<locals>.error_handler\u001B[1;34m(*args, **kwargs)\u001B[0m\n\u001B[0;32m     67\u001B[0m     filtered_tb \u001B[38;5;241m=\u001B[39m _process_traceback_frames(e\u001B[38;5;241m.\u001B[39m__traceback__)\n\u001B[0;32m     68\u001B[0m     \u001B[38;5;66;03m# To get the full stack trace, call:\u001B[39;00m\n\u001B[0;32m     69\u001B[0m     \u001B[38;5;66;03m# `tf.debugging.disable_traceback_filtering()`\u001B[39;00m\n\u001B[1;32m---> 70\u001B[0m     \u001B[38;5;28;01mraise\u001B[39;00m e\u001B[38;5;241m.\u001B[39mwith_traceback(filtered_tb) \u001B[38;5;28;01mfrom\u001B[39;00m \u001B[38;5;28mNone\u001B[39m\n\u001B[0;32m     71\u001B[0m \u001B[38;5;28;01mfinally\u001B[39;00m:\n\u001B[0;32m     72\u001B[0m     \u001B[38;5;28;01mdel\u001B[39;00m filtered_tb\n",
      "File \u001B[1;32m~\\AppData\\Local\\Temp\\__autograph_generated_fileh58azihj.py:15\u001B[0m, in \u001B[0;36mouter_factory.<locals>.inner_factory.<locals>.tf__predict_function\u001B[1;34m(iterator)\u001B[0m\n\u001B[0;32m     13\u001B[0m \u001B[38;5;28;01mtry\u001B[39;00m:\n\u001B[0;32m     14\u001B[0m     do_return \u001B[38;5;241m=\u001B[39m \u001B[38;5;28;01mTrue\u001B[39;00m\n\u001B[1;32m---> 15\u001B[0m     retval_ \u001B[38;5;241m=\u001B[39m ag__\u001B[38;5;241m.\u001B[39mconverted_call(ag__\u001B[38;5;241m.\u001B[39mld(step_function), (ag__\u001B[38;5;241m.\u001B[39mld(\u001B[38;5;28mself\u001B[39m), ag__\u001B[38;5;241m.\u001B[39mld(iterator)), \u001B[38;5;28;01mNone\u001B[39;00m, fscope)\n\u001B[0;32m     16\u001B[0m \u001B[38;5;28;01mexcept\u001B[39;00m:\n\u001B[0;32m     17\u001B[0m     do_return \u001B[38;5;241m=\u001B[39m \u001B[38;5;28;01mFalse\u001B[39;00m\n",
      "\u001B[1;31mValueError\u001B[0m: in user code:\n\n    File \"c:\\users\\vdwti\\pycharmprojects\\brats_2021\\venv\\lib\\site-packages\\keras\\engine\\training.py\", line 2041, in predict_function  *\n        return step_function(self, iterator)\n    File \"c:\\users\\vdwti\\pycharmprojects\\brats_2021\\venv\\lib\\site-packages\\keras\\engine\\training.py\", line 2027, in step_function  **\n        outputs = model.distribute_strategy.run(run_step, args=(data,))\n    File \"c:\\users\\vdwti\\pycharmprojects\\brats_2021\\venv\\lib\\site-packages\\keras\\engine\\training.py\", line 2015, in run_step  **\n        outputs = model.predict_step(data)\n    File \"c:\\users\\vdwti\\pycharmprojects\\brats_2021\\venv\\lib\\site-packages\\keras\\engine\\training.py\", line 1983, in predict_step\n        return self(x, training=False)\n    File \"c:\\users\\vdwti\\pycharmprojects\\brats_2021\\venv\\lib\\site-packages\\keras\\utils\\traceback_utils.py\", line 70, in error_handler\n        raise e.with_traceback(filtered_tb) from None\n\n    ValueError: Exception encountered when calling layer \"max_pooling2d_9\" \"                 f\"(type MaxPooling2D).\n    \n    Negative dimension size caused by subtracting 2 from 1 for '{{node 2dcnn/max_pooling2d_9/MaxPool}} = MaxPool[T=DT_FLOAT, data_format=\"NHWC\", explicit_paddings=[], ksize=[1, 2, 2, 1], padding=\"VALID\", strides=[1, 2, 2, 1]](2dcnn/batch_normalization_37/FusedBatchNormV3)' with input shapes: [?,240,1,8].\n    \n    Call arguments received by layer \"max_pooling2d_9\" \"                 f\"(type MaxPooling2D):\n      • inputs=tf.Tensor(shape=(None, 240, 1, 8), dtype=float32)\n"
     ]
    }
   ],
   "source": [
    "print(x.shape)\n",
    "print(np.unique(x))\n",
    "\n",
    "print(y.shape)\n",
    "print(np.unique(y))\n",
    "\n",
    "#prey=model.predict(x[1000])"
   ],
   "metadata": {
    "collapsed": false,
    "pycharm": {
     "name": "#%%\n"
    }
   }
  },
  {
   "cell_type": "code",
   "execution_count": 8,
   "outputs": [
    {
     "name": "stdout",
     "output_type": "stream",
     "text": [
      "Model: \"3dcnn\"\n",
      "_________________________________________________________________\n",
      " Layer (type)                Output Shape              Param #   \n",
      "=================================================================\n",
      " input_1 (InputLayer)        [(None, 240, 240, 160, 1  0         \n",
      "                             )]                                  \n",
      "                                                                 \n",
      " conv3d (Conv3D)             (None, 240, 240, 160, 4)  112       \n",
      "                                                                 \n",
      " batch_normalization (BatchN  (None, 240, 240, 160, 4)  16       \n",
      " ormalization)                                                   \n",
      "                                                                 \n",
      " conv3d_1 (Conv3D)           (None, 240, 240, 160, 4)  436       \n",
      "                                                                 \n",
      " batch_normalization_1 (Batc  (None, 240, 240, 160, 4)  16       \n",
      " hNormalization)                                                 \n",
      "                                                                 \n",
      " max_pooling3d (MaxPooling3D  (None, 120, 120, 80, 4)  0         \n",
      " )                                                               \n",
      "                                                                 \n",
      " conv3d_2 (Conv3D)           (None, 120, 120, 80, 8)   872       \n",
      "                                                                 \n",
      " batch_normalization_2 (Batc  (None, 120, 120, 80, 8)  32        \n",
      " hNormalization)                                                 \n",
      "                                                                 \n",
      " conv3d_3 (Conv3D)           (None, 120, 120, 80, 8)   1736      \n",
      "                                                                 \n",
      " batch_normalization_3 (Batc  (None, 120, 120, 80, 8)  32        \n",
      " hNormalization)                                                 \n",
      "                                                                 \n",
      " max_pooling3d_1 (MaxPooling  (None, 60, 60, 40, 8)    0         \n",
      " 3D)                                                             \n",
      "                                                                 \n",
      " conv3d_4 (Conv3D)           (None, 60, 60, 40, 8)     1736      \n",
      "                                                                 \n",
      " batch_normalization_4 (Batc  (None, 60, 60, 40, 8)    32        \n",
      " hNormalization)                                                 \n",
      "                                                                 \n",
      " conv3d_5 (Conv3D)           (None, 60, 60, 40, 8)     1736      \n",
      "                                                                 \n",
      " batch_normalization_5 (Batc  (None, 60, 60, 40, 8)    32        \n",
      " hNormalization)                                                 \n",
      "                                                                 \n",
      " max_pooling3d_2 (MaxPooling  (None, 60, 60, 40, 8)    0         \n",
      " 3D)                                                             \n",
      "                                                                 \n",
      " up_sampling3d (UpSampling3D  (None, 120, 120, 80, 8)  0         \n",
      " )                                                               \n",
      "                                                                 \n",
      " conv3d_6 (Conv3D)           (None, 120, 120, 80, 8)   1736      \n",
      "                                                                 \n",
      " batch_normalization_6 (Batc  (None, 120, 120, 80, 8)  32        \n",
      " hNormalization)                                                 \n",
      "                                                                 \n",
      " conv3d_7 (Conv3D)           (None, 120, 120, 80, 8)   1736      \n",
      "                                                                 \n",
      " batch_normalization_7 (Batc  (None, 120, 120, 80, 8)  32        \n",
      " hNormalization)                                                 \n",
      "                                                                 \n",
      " up_sampling3d_1 (UpSampling  (None, 240, 240, 160, 8)  0        \n",
      " 3D)                                                             \n",
      "                                                                 \n",
      " conv3d_8 (Conv3D)           (None, 240, 240, 160, 4)  868       \n",
      "                                                                 \n",
      " batch_normalization_8 (Batc  (None, 240, 240, 160, 4)  16       \n",
      " hNormalization)                                                 \n",
      "                                                                 \n",
      " conv3d_9 (Conv3D)           (None, 240, 240, 160, 4)  436       \n",
      "                                                                 \n",
      " batch_normalization_9 (Batc  (None, 240, 240, 160, 4)  16       \n",
      " hNormalization)                                                 \n",
      "                                                                 \n",
      " conv3d_10 (Conv3D)          (None, 240, 240, 160, 5)  25        \n",
      "                                                                 \n",
      "=================================================================\n",
      "Total params: 11,685\n",
      "Trainable params: 11,557\n",
      "Non-trainable params: 128\n",
      "_________________________________________________________________\n"
     ]
    }
   ],
   "source": [
    "# simple 3d\n",
    "#create 2D CNN model\n",
    "def get_3D_model():\n",
    "\n",
    "    \"\"\"Build a 3D convolutional neural network model.\"\"\"\n",
    "\n",
    "    ker_init='he_normal'\n",
    "\n",
    "    inputs = keras.Input(shape=(240,240,160,1))\n",
    "\n",
    "    x = Conv3D(filters=4, kernel_size=3, activation=\"relu\",kernel_initializer = ker_init,padding=\"same\")(inputs)\n",
    "    x = BatchNormalization()(x)\n",
    "    x = Conv3D(filters=4, kernel_size=3, activation=\"relu\",kernel_initializer = ker_init,padding=\"same\")(x)\n",
    "    x = BatchNormalization()(x)\n",
    "    x = MaxPool3D(pool_size=2)(x)\n",
    "\n",
    "    x = Conv3D(filters=8, kernel_size=3, activation=\"relu\",kernel_initializer = ker_init,padding=\"same\")(x)\n",
    "    x = BatchNormalization()(x)\n",
    "    x = Conv3D(filters=8, kernel_size=3, activation=\"relu\",kernel_initializer = ker_init,padding=\"same\")(x)\n",
    "    x = BatchNormalization()(x)\n",
    "    x = MaxPool3D(pool_size=2)(x)\n",
    "\n",
    "    x = Conv3D(filters=8, kernel_size=3, activation=\"relu\",kernel_initializer = ker_init,padding=\"same\")(x)\n",
    "    x = BatchNormalization()(x)\n",
    "    x = Conv3D(filters=8, kernel_size=3, activation=\"relu\",kernel_initializer = ker_init,padding=\"same\")(x)\n",
    "    x = BatchNormalization()(x)\n",
    "    x = MaxPool3D(pool_size=1)(x)\n",
    "\n",
    "\n",
    "    #x = layers.Conv2D(filters=16, kernel_size=3, activation=\"relu\")(x)\n",
    "    x = UpSampling3D()(x)\n",
    "    x = Conv3D(filters=8, kernel_size=(3), activation=\"relu\",kernel_initializer = ker_init,padding=\"same\")(x)\n",
    "    x = BatchNormalization()(x)\n",
    "    x = Conv3D(filters=8, kernel_size=3, activation=\"relu\",kernel_initializer = ker_init,padding=\"same\")(x)\n",
    "    x = BatchNormalization()(x)\n",
    "\n",
    "    x = UpSampling3D()(x)\n",
    "    x = Conv3D(filters=4, kernel_size=3, activation=\"relu\",kernel_initializer = ker_init,padding=\"same\")(x)\n",
    "    x = BatchNormalization()(x)\n",
    "    x = Conv3D(filters=4, kernel_size=3, activation=\"relu\",kernel_initializer = ker_init,padding=\"same\")(x)\n",
    "    x = BatchNormalization()(x)\n",
    "\n",
    "\n",
    "    #x = Conv2DTranspose(filters=1, kernel_size=3, activation=\"softmax\",padding=\"same\")(x)\n",
    "    #x = Conv2DTranspose(filters=1, kernel_size=3)(x)\n",
    "    x = Conv3D(5, (1,1,1), activation = 'softmax')(x)\n",
    "    outputs=x\n",
    "\n",
    "    #outputs = layers.Dense(units=240*240*1, activation=\"sigmoid\")(x)\n",
    "\n",
    "    # Define the model.\n",
    "    model = keras.Model(inputs, outputs, name=\"3dcnn\")\n",
    "    return model\n",
    "model = get_3D_model()\n",
    "model.summary()\n"
   ],
   "metadata": {
    "collapsed": false,
    "pycharm": {
     "name": "#%%\n"
    }
   }
  },
  {
   "cell_type": "code",
   "execution_count": 9,
   "outputs": [
    {
     "name": "stdout",
     "output_type": "stream",
     "text": [
      "Epoch 1/100\n",
      "20/20 [==============================] - 822s 41s/step - loss: 1.7115 - accuracy: 0.0894 - categorical_accuracy: 0.0894 - one_hot_mean_io_u: 0.0215\n",
      "Epoch 2/100\n",
      "20/20 [==============================] - 813s 41s/step - loss: 1.6241 - accuracy: 0.0836 - categorical_accuracy: 0.0836 - one_hot_mean_io_u: 0.0184\n",
      "Epoch 3/100\n",
      "20/20 [==============================] - 818s 41s/step - loss: 1.5509 - accuracy: 0.1326 - categorical_accuracy: 0.1326 - one_hot_mean_io_u: 0.0276\n",
      "Epoch 4/100\n",
      "20/20 [==============================] - 816s 41s/step - loss: 1.4854 - accuracy: 0.1801 - categorical_accuracy: 0.1801 - one_hot_mean_io_u: 0.0384\n",
      "Epoch 5/100\n",
      "20/20 [==============================] - 801s 40s/step - loss: 1.4245 - accuracy: 0.3073 - categorical_accuracy: 0.3073 - one_hot_mean_io_u: 0.0619\n",
      "Epoch 6/100\n",
      "20/20 [==============================] - 802s 40s/step - loss: 1.3631 - accuracy: 0.9892 - categorical_accuracy: 0.9892 - one_hot_mean_io_u: 0.2473\n",
      "Epoch 7/100\n",
      "20/20 [==============================] - 800s 40s/step - loss: 1.2998 - accuracy: 0.9892 - categorical_accuracy: 0.9892 - one_hot_mean_io_u: 0.2473\n",
      "Epoch 8/100\n",
      "20/20 [==============================] - 802s 40s/step - loss: 1.2296 - accuracy: 0.9892 - categorical_accuracy: 0.9892 - one_hot_mean_io_u: 0.2473\n",
      "Epoch 9/100\n",
      "20/20 [==============================] - 802s 40s/step - loss: 1.1513 - accuracy: 0.9893 - categorical_accuracy: 0.9893 - one_hot_mean_io_u: 0.2473\n",
      "Epoch 10/100\n",
      " 3/20 [===>..........................] - ETA: 11:51 - loss: 1.1090 - accuracy: 0.9848 - categorical_accuracy: 0.9848 - one_hot_mean_io_u: 0.2462"
     ]
    },
    {
     "ename": "KeyboardInterrupt",
     "evalue": "",
     "output_type": "error",
     "traceback": [
      "\u001B[1;31m---------------------------------------------------------------------------\u001B[0m",
      "\u001B[1;31mKeyboardInterrupt\u001B[0m                         Traceback (most recent call last)",
      "Cell \u001B[1;32mIn [9], line 14\u001B[0m\n\u001B[0;32m      5\u001B[0m model\u001B[38;5;241m.\u001B[39mcompile(loss\u001B[38;5;241m=\u001B[39m\u001B[38;5;124m\"\u001B[39m\u001B[38;5;124mcategorical_crossentropy\u001B[39m\u001B[38;5;124m\"\u001B[39m, optimizer\u001B[38;5;241m=\u001B[39mAdam(learning_rate\u001B[38;5;241m=\u001B[39m\u001B[38;5;241m0.001\u001B[39m),\n\u001B[0;32m      6\u001B[0m               metrics\u001B[38;5;241m=\u001B[39m[\u001B[38;5;124m'\u001B[39m\u001B[38;5;124maccuracy\u001B[39m\u001B[38;5;124m'\u001B[39m, \u001B[38;5;124m'\u001B[39m\u001B[38;5;124mcategorical_accuracy\u001B[39m\u001B[38;5;124m'\u001B[39m, OneHotMeanIoU(num_classes\u001B[38;5;241m=\u001B[39m\u001B[38;5;241m5\u001B[39m)\n\u001B[0;32m      7\u001B[0m                        ]\n\u001B[0;32m      8\u001B[0m               \u001B[38;5;66;03m# metrics = ['accuracy','sparse_categorical_accuracy','categorical_accuracy','categorical_crossentropy',#MeanIoU(num_classes=5)\u001B[39;00m\n\u001B[0;32m      9\u001B[0m               \u001B[38;5;66;03m#                     ]\u001B[39;00m\n\u001B[0;32m     10\u001B[0m               )\n\u001B[0;32m     12\u001B[0m \u001B[38;5;66;03m#tf.keras.metrics.MeanIoU(num_classes=2)]\u001B[39;00m\n\u001B[1;32m---> 14\u001B[0m \u001B[43mmodel\u001B[49m\u001B[38;5;241;43m.\u001B[39;49m\u001B[43mfit\u001B[49m\u001B[43m(\u001B[49m\u001B[43mx\u001B[49m\u001B[43m[\u001B[49m\u001B[43m:\u001B[49m\u001B[38;5;241;43m100\u001B[39;49m\u001B[43m]\u001B[49m\u001B[43m,\u001B[49m\u001B[43m \u001B[49m\u001B[43my\u001B[49m\u001B[43m[\u001B[49m\u001B[43m:\u001B[49m\u001B[38;5;241;43m100\u001B[39;49m\u001B[43m]\u001B[49m\u001B[43m,\u001B[49m\u001B[43m \u001B[49m\u001B[43mbatch_size\u001B[49m\u001B[38;5;241;43m=\u001B[39;49m\u001B[38;5;241;43m1\u001B[39;49m\u001B[43m,\u001B[49m\u001B[43m \u001B[49m\u001B[43mepochs\u001B[49m\u001B[38;5;241;43m=\u001B[39;49m\u001B[38;5;241;43m100\u001B[39;49m\u001B[43m,\u001B[49m\n\u001B[0;32m     15\u001B[0m \u001B[43m          \u001B[49m\u001B[43mvalidation_data\u001B[49m\u001B[38;5;241;43m=\u001B[39;49m\u001B[43m(\u001B[49m\u001B[43mx\u001B[49m\u001B[43m[\u001B[49m\u001B[38;5;241;43m100\u001B[39;49m\u001B[43m:\u001B[49m\u001B[43m]\u001B[49m\u001B[43m,\u001B[49m\u001B[43m \u001B[49m\u001B[43my\u001B[49m\u001B[43m[\u001B[49m\u001B[38;5;241;43m100\u001B[39;49m\u001B[43m:\u001B[49m\u001B[43m]\u001B[49m\u001B[43m)\u001B[49m\u001B[43m)\u001B[49m\n\u001B[0;32m     16\u001B[0m \u001B[38;5;28mprint\u001B[39m(x\u001B[38;5;241m.\u001B[39mshape)\n\u001B[0;32m     17\u001B[0m \u001B[38;5;28mprint\u001B[39m(np\u001B[38;5;241m.\u001B[39munique(x))\n",
      "File \u001B[1;32mc:\\users\\vdwti\\pycharmprojects\\brats_2021\\venv\\lib\\site-packages\\keras\\utils\\traceback_utils.py:65\u001B[0m, in \u001B[0;36mfilter_traceback.<locals>.error_handler\u001B[1;34m(*args, **kwargs)\u001B[0m\n\u001B[0;32m     63\u001B[0m filtered_tb \u001B[38;5;241m=\u001B[39m \u001B[38;5;28;01mNone\u001B[39;00m\n\u001B[0;32m     64\u001B[0m \u001B[38;5;28;01mtry\u001B[39;00m:\n\u001B[1;32m---> 65\u001B[0m     \u001B[38;5;28;01mreturn\u001B[39;00m fn(\u001B[38;5;241m*\u001B[39margs, \u001B[38;5;241m*\u001B[39m\u001B[38;5;241m*\u001B[39mkwargs)\n\u001B[0;32m     66\u001B[0m \u001B[38;5;28;01mexcept\u001B[39;00m \u001B[38;5;167;01mException\u001B[39;00m \u001B[38;5;28;01mas\u001B[39;00m e:\n\u001B[0;32m     67\u001B[0m     filtered_tb \u001B[38;5;241m=\u001B[39m _process_traceback_frames(e\u001B[38;5;241m.\u001B[39m__traceback__)\n",
      "File \u001B[1;32mc:\\users\\vdwti\\pycharmprojects\\brats_2021\\venv\\lib\\site-packages\\keras\\engine\\training.py:1564\u001B[0m, in \u001B[0;36mModel.fit\u001B[1;34m(self, x, y, batch_size, epochs, verbose, callbacks, validation_split, validation_data, shuffle, class_weight, sample_weight, initial_epoch, steps_per_epoch, validation_steps, validation_batch_size, validation_freq, max_queue_size, workers, use_multiprocessing)\u001B[0m\n\u001B[0;32m   1556\u001B[0m \u001B[38;5;28;01mwith\u001B[39;00m tf\u001B[38;5;241m.\u001B[39mprofiler\u001B[38;5;241m.\u001B[39mexperimental\u001B[38;5;241m.\u001B[39mTrace(\n\u001B[0;32m   1557\u001B[0m     \u001B[38;5;124m\"\u001B[39m\u001B[38;5;124mtrain\u001B[39m\u001B[38;5;124m\"\u001B[39m,\n\u001B[0;32m   1558\u001B[0m     epoch_num\u001B[38;5;241m=\u001B[39mepoch,\n\u001B[1;32m   (...)\u001B[0m\n\u001B[0;32m   1561\u001B[0m     _r\u001B[38;5;241m=\u001B[39m\u001B[38;5;241m1\u001B[39m,\n\u001B[0;32m   1562\u001B[0m ):\n\u001B[0;32m   1563\u001B[0m     callbacks\u001B[38;5;241m.\u001B[39mon_train_batch_begin(step)\n\u001B[1;32m-> 1564\u001B[0m     tmp_logs \u001B[38;5;241m=\u001B[39m \u001B[38;5;28;43mself\u001B[39;49m\u001B[38;5;241;43m.\u001B[39;49m\u001B[43mtrain_function\u001B[49m\u001B[43m(\u001B[49m\u001B[43miterator\u001B[49m\u001B[43m)\u001B[49m\n\u001B[0;32m   1565\u001B[0m     \u001B[38;5;28;01mif\u001B[39;00m data_handler\u001B[38;5;241m.\u001B[39mshould_sync:\n\u001B[0;32m   1566\u001B[0m         context\u001B[38;5;241m.\u001B[39masync_wait()\n",
      "File \u001B[1;32mc:\\users\\vdwti\\pycharmprojects\\brats_2021\\venv\\lib\\site-packages\\tensorflow\\python\\util\\traceback_utils.py:150\u001B[0m, in \u001B[0;36mfilter_traceback.<locals>.error_handler\u001B[1;34m(*args, **kwargs)\u001B[0m\n\u001B[0;32m    148\u001B[0m filtered_tb \u001B[38;5;241m=\u001B[39m \u001B[38;5;28;01mNone\u001B[39;00m\n\u001B[0;32m    149\u001B[0m \u001B[38;5;28;01mtry\u001B[39;00m:\n\u001B[1;32m--> 150\u001B[0m   \u001B[38;5;28;01mreturn\u001B[39;00m fn(\u001B[38;5;241m*\u001B[39margs, \u001B[38;5;241m*\u001B[39m\u001B[38;5;241m*\u001B[39mkwargs)\n\u001B[0;32m    151\u001B[0m \u001B[38;5;28;01mexcept\u001B[39;00m \u001B[38;5;167;01mException\u001B[39;00m \u001B[38;5;28;01mas\u001B[39;00m e:\n\u001B[0;32m    152\u001B[0m   filtered_tb \u001B[38;5;241m=\u001B[39m _process_traceback_frames(e\u001B[38;5;241m.\u001B[39m__traceback__)\n",
      "File \u001B[1;32mc:\\users\\vdwti\\pycharmprojects\\brats_2021\\venv\\lib\\site-packages\\tensorflow\\python\\eager\\def_function.py:915\u001B[0m, in \u001B[0;36mFunction.__call__\u001B[1;34m(self, *args, **kwds)\u001B[0m\n\u001B[0;32m    912\u001B[0m compiler \u001B[38;5;241m=\u001B[39m \u001B[38;5;124m\"\u001B[39m\u001B[38;5;124mxla\u001B[39m\u001B[38;5;124m\"\u001B[39m \u001B[38;5;28;01mif\u001B[39;00m \u001B[38;5;28mself\u001B[39m\u001B[38;5;241m.\u001B[39m_jit_compile \u001B[38;5;28;01melse\u001B[39;00m \u001B[38;5;124m\"\u001B[39m\u001B[38;5;124mnonXla\u001B[39m\u001B[38;5;124m\"\u001B[39m\n\u001B[0;32m    914\u001B[0m \u001B[38;5;28;01mwith\u001B[39;00m OptionalXlaContext(\u001B[38;5;28mself\u001B[39m\u001B[38;5;241m.\u001B[39m_jit_compile):\n\u001B[1;32m--> 915\u001B[0m   result \u001B[38;5;241m=\u001B[39m \u001B[38;5;28mself\u001B[39m\u001B[38;5;241m.\u001B[39m_call(\u001B[38;5;241m*\u001B[39margs, \u001B[38;5;241m*\u001B[39m\u001B[38;5;241m*\u001B[39mkwds)\n\u001B[0;32m    917\u001B[0m new_tracing_count \u001B[38;5;241m=\u001B[39m \u001B[38;5;28mself\u001B[39m\u001B[38;5;241m.\u001B[39mexperimental_get_tracing_count()\n\u001B[0;32m    918\u001B[0m without_tracing \u001B[38;5;241m=\u001B[39m (tracing_count \u001B[38;5;241m==\u001B[39m new_tracing_count)\n",
      "File \u001B[1;32mc:\\users\\vdwti\\pycharmprojects\\brats_2021\\venv\\lib\\site-packages\\tensorflow\\python\\eager\\def_function.py:947\u001B[0m, in \u001B[0;36mFunction._call\u001B[1;34m(self, *args, **kwds)\u001B[0m\n\u001B[0;32m    944\u001B[0m   \u001B[38;5;28mself\u001B[39m\u001B[38;5;241m.\u001B[39m_lock\u001B[38;5;241m.\u001B[39mrelease()\n\u001B[0;32m    945\u001B[0m   \u001B[38;5;66;03m# In this case we have created variables on the first call, so we run the\u001B[39;00m\n\u001B[0;32m    946\u001B[0m   \u001B[38;5;66;03m# defunned version which is guaranteed to never create variables.\u001B[39;00m\n\u001B[1;32m--> 947\u001B[0m   \u001B[38;5;28;01mreturn\u001B[39;00m \u001B[38;5;28mself\u001B[39m\u001B[38;5;241m.\u001B[39m_stateless_fn(\u001B[38;5;241m*\u001B[39margs, \u001B[38;5;241m*\u001B[39m\u001B[38;5;241m*\u001B[39mkwds)  \u001B[38;5;66;03m# pylint: disable=not-callable\u001B[39;00m\n\u001B[0;32m    948\u001B[0m \u001B[38;5;28;01melif\u001B[39;00m \u001B[38;5;28mself\u001B[39m\u001B[38;5;241m.\u001B[39m_stateful_fn \u001B[38;5;129;01mis\u001B[39;00m \u001B[38;5;129;01mnot\u001B[39;00m \u001B[38;5;28;01mNone\u001B[39;00m:\n\u001B[0;32m    949\u001B[0m   \u001B[38;5;66;03m# Release the lock early so that multiple threads can perform the call\u001B[39;00m\n\u001B[0;32m    950\u001B[0m   \u001B[38;5;66;03m# in parallel.\u001B[39;00m\n\u001B[0;32m    951\u001B[0m   \u001B[38;5;28mself\u001B[39m\u001B[38;5;241m.\u001B[39m_lock\u001B[38;5;241m.\u001B[39mrelease()\n",
      "File \u001B[1;32mc:\\users\\vdwti\\pycharmprojects\\brats_2021\\venv\\lib\\site-packages\\tensorflow\\python\\eager\\function.py:2496\u001B[0m, in \u001B[0;36mFunction.__call__\u001B[1;34m(self, *args, **kwargs)\u001B[0m\n\u001B[0;32m   2493\u001B[0m \u001B[38;5;28;01mwith\u001B[39;00m \u001B[38;5;28mself\u001B[39m\u001B[38;5;241m.\u001B[39m_lock:\n\u001B[0;32m   2494\u001B[0m   (graph_function,\n\u001B[0;32m   2495\u001B[0m    filtered_flat_args) \u001B[38;5;241m=\u001B[39m \u001B[38;5;28mself\u001B[39m\u001B[38;5;241m.\u001B[39m_maybe_define_function(args, kwargs)\n\u001B[1;32m-> 2496\u001B[0m \u001B[38;5;28;01mreturn\u001B[39;00m \u001B[43mgraph_function\u001B[49m\u001B[38;5;241;43m.\u001B[39;49m\u001B[43m_call_flat\u001B[49m\u001B[43m(\u001B[49m\n\u001B[0;32m   2497\u001B[0m \u001B[43m    \u001B[49m\u001B[43mfiltered_flat_args\u001B[49m\u001B[43m,\u001B[49m\u001B[43m \u001B[49m\u001B[43mcaptured_inputs\u001B[49m\u001B[38;5;241;43m=\u001B[39;49m\u001B[43mgraph_function\u001B[49m\u001B[38;5;241;43m.\u001B[39;49m\u001B[43mcaptured_inputs\u001B[49m\u001B[43m)\u001B[49m\n",
      "File \u001B[1;32mc:\\users\\vdwti\\pycharmprojects\\brats_2021\\venv\\lib\\site-packages\\tensorflow\\python\\eager\\function.py:1862\u001B[0m, in \u001B[0;36mConcreteFunction._call_flat\u001B[1;34m(self, args, captured_inputs, cancellation_manager)\u001B[0m\n\u001B[0;32m   1858\u001B[0m possible_gradient_type \u001B[38;5;241m=\u001B[39m gradients_util\u001B[38;5;241m.\u001B[39mPossibleTapeGradientTypes(args)\n\u001B[0;32m   1859\u001B[0m \u001B[38;5;28;01mif\u001B[39;00m (possible_gradient_type \u001B[38;5;241m==\u001B[39m gradients_util\u001B[38;5;241m.\u001B[39mPOSSIBLE_GRADIENT_TYPES_NONE\n\u001B[0;32m   1860\u001B[0m     \u001B[38;5;129;01mand\u001B[39;00m executing_eagerly):\n\u001B[0;32m   1861\u001B[0m   \u001B[38;5;66;03m# No tape is watching; skip to running the function.\u001B[39;00m\n\u001B[1;32m-> 1862\u001B[0m   \u001B[38;5;28;01mreturn\u001B[39;00m \u001B[38;5;28mself\u001B[39m\u001B[38;5;241m.\u001B[39m_build_call_outputs(\u001B[38;5;28;43mself\u001B[39;49m\u001B[38;5;241;43m.\u001B[39;49m\u001B[43m_inference_function\u001B[49m\u001B[38;5;241;43m.\u001B[39;49m\u001B[43mcall\u001B[49m\u001B[43m(\u001B[49m\n\u001B[0;32m   1863\u001B[0m \u001B[43m      \u001B[49m\u001B[43mctx\u001B[49m\u001B[43m,\u001B[49m\u001B[43m \u001B[49m\u001B[43margs\u001B[49m\u001B[43m,\u001B[49m\u001B[43m \u001B[49m\u001B[43mcancellation_manager\u001B[49m\u001B[38;5;241;43m=\u001B[39;49m\u001B[43mcancellation_manager\u001B[49m\u001B[43m)\u001B[49m)\n\u001B[0;32m   1864\u001B[0m forward_backward \u001B[38;5;241m=\u001B[39m \u001B[38;5;28mself\u001B[39m\u001B[38;5;241m.\u001B[39m_select_forward_and_backward_functions(\n\u001B[0;32m   1865\u001B[0m     args,\n\u001B[0;32m   1866\u001B[0m     possible_gradient_type,\n\u001B[0;32m   1867\u001B[0m     executing_eagerly)\n\u001B[0;32m   1868\u001B[0m forward_function, args_with_tangents \u001B[38;5;241m=\u001B[39m forward_backward\u001B[38;5;241m.\u001B[39mforward()\n",
      "File \u001B[1;32mc:\\users\\vdwti\\pycharmprojects\\brats_2021\\venv\\lib\\site-packages\\tensorflow\\python\\eager\\function.py:499\u001B[0m, in \u001B[0;36m_EagerDefinedFunction.call\u001B[1;34m(self, ctx, args, cancellation_manager)\u001B[0m\n\u001B[0;32m    497\u001B[0m \u001B[38;5;28;01mwith\u001B[39;00m _InterpolateFunctionError(\u001B[38;5;28mself\u001B[39m):\n\u001B[0;32m    498\u001B[0m   \u001B[38;5;28;01mif\u001B[39;00m cancellation_manager \u001B[38;5;129;01mis\u001B[39;00m \u001B[38;5;28;01mNone\u001B[39;00m:\n\u001B[1;32m--> 499\u001B[0m     outputs \u001B[38;5;241m=\u001B[39m \u001B[43mexecute\u001B[49m\u001B[38;5;241;43m.\u001B[39;49m\u001B[43mexecute\u001B[49m\u001B[43m(\u001B[49m\n\u001B[0;32m    500\u001B[0m \u001B[43m        \u001B[49m\u001B[38;5;28;43mstr\u001B[39;49m\u001B[43m(\u001B[49m\u001B[38;5;28;43mself\u001B[39;49m\u001B[38;5;241;43m.\u001B[39;49m\u001B[43msignature\u001B[49m\u001B[38;5;241;43m.\u001B[39;49m\u001B[43mname\u001B[49m\u001B[43m)\u001B[49m\u001B[43m,\u001B[49m\n\u001B[0;32m    501\u001B[0m \u001B[43m        \u001B[49m\u001B[43mnum_outputs\u001B[49m\u001B[38;5;241;43m=\u001B[39;49m\u001B[38;5;28;43mself\u001B[39;49m\u001B[38;5;241;43m.\u001B[39;49m\u001B[43m_num_outputs\u001B[49m\u001B[43m,\u001B[49m\n\u001B[0;32m    502\u001B[0m \u001B[43m        \u001B[49m\u001B[43minputs\u001B[49m\u001B[38;5;241;43m=\u001B[39;49m\u001B[43margs\u001B[49m\u001B[43m,\u001B[49m\n\u001B[0;32m    503\u001B[0m \u001B[43m        \u001B[49m\u001B[43mattrs\u001B[49m\u001B[38;5;241;43m=\u001B[39;49m\u001B[43mattrs\u001B[49m\u001B[43m,\u001B[49m\n\u001B[0;32m    504\u001B[0m \u001B[43m        \u001B[49m\u001B[43mctx\u001B[49m\u001B[38;5;241;43m=\u001B[39;49m\u001B[43mctx\u001B[49m\u001B[43m)\u001B[49m\n\u001B[0;32m    505\u001B[0m   \u001B[38;5;28;01melse\u001B[39;00m:\n\u001B[0;32m    506\u001B[0m     outputs \u001B[38;5;241m=\u001B[39m execute\u001B[38;5;241m.\u001B[39mexecute_with_cancellation(\n\u001B[0;32m    507\u001B[0m         \u001B[38;5;28mstr\u001B[39m(\u001B[38;5;28mself\u001B[39m\u001B[38;5;241m.\u001B[39msignature\u001B[38;5;241m.\u001B[39mname),\n\u001B[0;32m    508\u001B[0m         num_outputs\u001B[38;5;241m=\u001B[39m\u001B[38;5;28mself\u001B[39m\u001B[38;5;241m.\u001B[39m_num_outputs,\n\u001B[1;32m   (...)\u001B[0m\n\u001B[0;32m    511\u001B[0m         ctx\u001B[38;5;241m=\u001B[39mctx,\n\u001B[0;32m    512\u001B[0m         cancellation_manager\u001B[38;5;241m=\u001B[39mcancellation_manager)\n",
      "File \u001B[1;32mc:\\users\\vdwti\\pycharmprojects\\brats_2021\\venv\\lib\\site-packages\\tensorflow\\python\\eager\\execute.py:54\u001B[0m, in \u001B[0;36mquick_execute\u001B[1;34m(op_name, num_outputs, inputs, attrs, ctx, name)\u001B[0m\n\u001B[0;32m     52\u001B[0m \u001B[38;5;28;01mtry\u001B[39;00m:\n\u001B[0;32m     53\u001B[0m   ctx\u001B[38;5;241m.\u001B[39mensure_initialized()\n\u001B[1;32m---> 54\u001B[0m   tensors \u001B[38;5;241m=\u001B[39m \u001B[43mpywrap_tfe\u001B[49m\u001B[38;5;241;43m.\u001B[39;49m\u001B[43mTFE_Py_Execute\u001B[49m\u001B[43m(\u001B[49m\u001B[43mctx\u001B[49m\u001B[38;5;241;43m.\u001B[39;49m\u001B[43m_handle\u001B[49m\u001B[43m,\u001B[49m\u001B[43m \u001B[49m\u001B[43mdevice_name\u001B[49m\u001B[43m,\u001B[49m\u001B[43m \u001B[49m\u001B[43mop_name\u001B[49m\u001B[43m,\u001B[49m\n\u001B[0;32m     55\u001B[0m \u001B[43m                                      \u001B[49m\u001B[43minputs\u001B[49m\u001B[43m,\u001B[49m\u001B[43m \u001B[49m\u001B[43mattrs\u001B[49m\u001B[43m,\u001B[49m\u001B[43m \u001B[49m\u001B[43mnum_outputs\u001B[49m\u001B[43m)\u001B[49m\n\u001B[0;32m     56\u001B[0m \u001B[38;5;28;01mexcept\u001B[39;00m core\u001B[38;5;241m.\u001B[39m_NotOkStatusException \u001B[38;5;28;01mas\u001B[39;00m e:\n\u001B[0;32m     57\u001B[0m   \u001B[38;5;28;01mif\u001B[39;00m name \u001B[38;5;129;01mis\u001B[39;00m \u001B[38;5;129;01mnot\u001B[39;00m \u001B[38;5;28;01mNone\u001B[39;00m:\n",
      "\u001B[1;31mKeyboardInterrupt\u001B[0m: "
     ]
    }
   ],
   "source": [
    "from keras.metrics import MeanIoU, OneHotMeanIoU\n",
    "#from sklearn.metrics import recall_score, f1_score, precision_score\n",
    "from keras import metrics\n",
    "\n",
    "model.compile(loss=\"categorical_crossentropy\", optimizer=Adam(learning_rate=0.001),\n",
    "              metrics=['accuracy', 'categorical_accuracy', OneHotMeanIoU(num_classes=5)\n",
    "                       ]\n",
    "              # metrics = ['accuracy','sparse_categorical_accuracy','categorical_accuracy','categorical_crossentropy',#MeanIoU(num_classes=5)\n",
    "              #                     ]\n",
    "              )\n",
    "\n",
    "#tf.keras.metrics.MeanIoU(num_classes=2)]\n",
    "\n",
    "model.fit(x[:100], y[:100], batch_size=1, epochs=100,\n",
    "          validation_data=(x[100:], y[100:]))\n",
    "print(x.shape)\n",
    "print(np.unique(x))"
   ],
   "metadata": {
    "collapsed": false,
    "pycharm": {
     "name": "#%%\n"
    }
   }
  },
  {
   "cell_type": "code",
   "execution_count": 80,
   "outputs": [
    {
     "data": {
      "text/plain": "(20, 240, 240, 155, 5)"
     },
     "execution_count": 80,
     "metadata": {},
     "output_type": "execute_result"
    }
   ],
   "source": [
    "y.shape\n",
    "x.shape"
   ],
   "metadata": {
    "collapsed": false,
    "pycharm": {
     "name": "#%%\n"
    }
   }
  },
  {
   "cell_type": "code",
   "execution_count": 54,
   "outputs": [
    {
     "name": "stdout",
     "output_type": "stream",
     "text": [
      "Model: \"3dcnn\"\n",
      "_________________________________________________________________\n",
      " Layer (type)                Output Shape              Param #   \n",
      "=================================================================\n",
      " input_10 (InputLayer)       [(None, 240, 240, 155, 1  0         \n",
      "                             )]                                  \n",
      "                                                                 \n",
      " conv3d_26 (Conv3D)          (None, 238, 238, 153, 16  448       \n",
      "                             )                                   \n",
      "                                                                 \n",
      " max_pooling3d_26 (MaxPoolin  (None, 119, 119, 76, 16)  0        \n",
      " g3D)                                                            \n",
      "                                                                 \n",
      " batch_normalization_32 (Bat  (None, 119, 119, 76, 16)  64       \n",
      " chNormalization)                                                \n",
      "                                                                 \n",
      " conv3d_27 (Conv3D)          (None, 117, 117, 74, 16)  6928      \n",
      "                                                                 \n",
      " max_pooling3d_27 (MaxPoolin  (None, 58, 58, 37, 16)   0         \n",
      " g3D)                                                            \n",
      "                                                                 \n",
      " batch_normalization_33 (Bat  (None, 58, 58, 37, 16)   64        \n",
      " chNormalization)                                                \n",
      "                                                                 \n",
      " conv3d_28 (Conv3D)          (None, 56, 56, 35, 16)    6928      \n",
      "                                                                 \n",
      " max_pooling3d_28 (MaxPoolin  (None, 28, 28, 17, 16)   0         \n",
      " g3D)                                                            \n",
      "                                                                 \n",
      " batch_normalization_34 (Bat  (None, 28, 28, 17, 16)   64        \n",
      " chNormalization)                                                \n",
      "                                                                 \n",
      " conv3d_29 (Conv3D)          (None, 26, 26, 15, 16)    6928      \n",
      "                                                                 \n",
      " max_pooling3d_29 (MaxPoolin  (None, 13, 13, 7, 16)    0         \n",
      " g3D)                                                            \n",
      "                                                                 \n",
      " batch_normalization_35 (Bat  (None, 13, 13, 7, 16)    64        \n",
      " chNormalization)                                                \n",
      "                                                                 \n",
      " global_average_pooling3d_6   (None, 16)               0         \n",
      " (GlobalAveragePooling3D)                                        \n",
      "                                                                 \n",
      " dense_13 (Dense)            (None, 16)                272       \n",
      "                                                                 \n",
      " dropout_8 (Dropout)         (None, 16)                0         \n",
      "                                                                 \n",
      " dense_14 (Dense)            (None, 8928000)           151776000 \n",
      "                                                                 \n",
      "=================================================================\n",
      "Total params: 151,797,760\n",
      "Trainable params: 151,797,632\n",
      "Non-trainable params: 128\n",
      "_________________________________________________________________\n"
     ]
    }
   ],
   "source": [
    "from keras import layers\n",
    "\n",
    "def get_model():\n",
    "\n",
    "    \"\"\"Build a 3D convolutional neural network model.\"\"\"\n",
    "\n",
    "    inputs = keras.Input(shape=(240,240,155,1))\n",
    "\n",
    "    x = layers.Conv3D(filters=16, kernel_size=3, activation=\"relu\")(inputs)\n",
    "    x = layers.MaxPool3D(pool_size=2)(x)\n",
    "    x = layers.BatchNormalization()(x)\n",
    "\n",
    "    x = layers.Conv3D(filters=16, kernel_size=3, activation=\"relu\")(x)\n",
    "    x = layers.MaxPool3D(pool_size=2)(x)\n",
    "    x = layers.BatchNormalization()(x)\n",
    "\n",
    "    x = layers.Conv3D(filters=16, kernel_size=3, activation=\"relu\")(x)\n",
    "    x = layers.MaxPool3D(pool_size=2)(x)\n",
    "    x = layers.BatchNormalization()(x)\n",
    "\n",
    "    x = layers.Conv3D(filters=16, kernel_size=3, activation=\"relu\")(x)\n",
    "    x = layers.MaxPool3D(pool_size=2)(x)\n",
    "    x = layers.BatchNormalization()(x)\n",
    "\n",
    "    x = layers.GlobalAveragePooling3D()(x)\n",
    "    x = layers.Dense(units=16, activation=\"relu\")(x)\n",
    "    x = layers.Dropout(0.3)(x)\n",
    "\n",
    "    outputs = layers.Dense(units=240*240*155*1, activation=\"sigmoid\")(x)\n",
    "\n",
    "    # Define the model.\n",
    "    model = keras.Model(inputs, outputs, name=\"3dcnn\")\n",
    "    return model\n",
    "\n",
    "\n",
    "# Build model.\n",
    "model = get_model()\n",
    "model.summary()"
   ],
   "metadata": {
    "collapsed": false
   }
  },
  {
   "cell_type": "code",
   "execution_count": 53,
   "outputs": [
    {
     "ename": "ValueError",
     "evalue": "in user code:\n\n    File \"c:\\users\\vdwti\\pycharmprojects\\brats_2021\\venv\\lib\\site-packages\\keras\\engine\\training.py\", line 1160, in train_function  *\n        return step_function(self, iterator)\n    File \"c:\\users\\vdwti\\pycharmprojects\\brats_2021\\venv\\lib\\site-packages\\keras\\engine\\training.py\", line 1146, in step_function  **\n        outputs = model.distribute_strategy.run(run_step, args=(data,))\n    File \"c:\\users\\vdwti\\pycharmprojects\\brats_2021\\venv\\lib\\site-packages\\keras\\engine\\training.py\", line 1135, in run_step  **\n        outputs = model.train_step(data)\n    File \"c:\\users\\vdwti\\pycharmprojects\\brats_2021\\venv\\lib\\site-packages\\keras\\engine\\training.py\", line 994, in train_step\n        loss = self.compute_loss(x, y, y_pred, sample_weight)\n    File \"c:\\users\\vdwti\\pycharmprojects\\brats_2021\\venv\\lib\\site-packages\\keras\\engine\\training.py\", line 1052, in compute_loss\n        return self.compiled_loss(\n    File \"c:\\users\\vdwti\\pycharmprojects\\brats_2021\\venv\\lib\\site-packages\\keras\\engine\\compile_utils.py\", line 265, in __call__\n        loss_value = loss_obj(y_t, y_p, sample_weight=sw)\n    File \"c:\\users\\vdwti\\pycharmprojects\\brats_2021\\venv\\lib\\site-packages\\keras\\losses.py\", line 152, in __call__\n        losses = call_fn(y_true, y_pred)\n    File \"c:\\users\\vdwti\\pycharmprojects\\brats_2021\\venv\\lib\\site-packages\\keras\\losses.py\", line 272, in call  **\n        return ag_fn(y_true, y_pred, **self._fn_kwargs)\n    File \"c:\\users\\vdwti\\pycharmprojects\\brats_2021\\venv\\lib\\site-packages\\keras\\losses.py\", line 1990, in categorical_crossentropy\n        return backend.categorical_crossentropy(\n    File \"c:\\users\\vdwti\\pycharmprojects\\brats_2021\\venv\\lib\\site-packages\\keras\\backend.py\", line 5529, in categorical_crossentropy\n        target.shape.assert_is_compatible_with(output.shape)\n\n    ValueError: Shapes (1, 240, 240, 155, 1) and (1, 240) are incompatible\n",
     "output_type": "error",
     "traceback": [
      "\u001B[1;31m---------------------------------------------------------------------------\u001B[0m",
      "\u001B[1;31mValueError\u001B[0m                                Traceback (most recent call last)",
      "Cell \u001B[1;32mIn [53], line 4\u001B[0m\n\u001B[0;32m      1\u001B[0m model\u001B[38;5;241m=\u001B[39mget_model()\n\u001B[0;32m      2\u001B[0m model\u001B[38;5;241m.\u001B[39mcompile(loss\u001B[38;5;241m=\u001B[39m\u001B[38;5;124m\"\u001B[39m\u001B[38;5;124mcategorical_crossentropy\u001B[39m\u001B[38;5;124m\"\u001B[39m, optimizer\u001B[38;5;241m=\u001B[39mAdam(learning_rate\u001B[38;5;241m=\u001B[39m\u001B[38;5;241m0.001\u001B[39m), metrics \u001B[38;5;241m=\u001B[39m [\u001B[38;5;124m'\u001B[39m\u001B[38;5;124maccuracy\u001B[39m\u001B[38;5;124m'\u001B[39m,tf\u001B[38;5;241m.\u001B[39mkeras\u001B[38;5;241m.\u001B[39mmetrics\u001B[38;5;241m.\u001B[39mMeanIoU(num_classes\u001B[38;5;241m=\u001B[39m\u001B[38;5;241m4\u001B[39m)] )\n\u001B[1;32m----> 4\u001B[0m \u001B[43mmodel\u001B[49m\u001B[38;5;241;43m.\u001B[39;49m\u001B[43mfit\u001B[49m\u001B[43m(\u001B[49m\u001B[43mx_train\u001B[49m\u001B[43m,\u001B[49m\u001B[43my_train\u001B[49m\u001B[43m,\u001B[49m\u001B[43mbatch_size\u001B[49m\u001B[38;5;241;43m=\u001B[39;49m\u001B[38;5;241;43m1\u001B[39;49m\u001B[43m,\u001B[49m\u001B[43mepochs\u001B[49m\u001B[38;5;241;43m=\u001B[39;49m\u001B[38;5;241;43m1\u001B[39;49m\u001B[43m)\u001B[49m\n",
      "File \u001B[1;32mc:\\users\\vdwti\\pycharmprojects\\brats_2021\\venv\\lib\\site-packages\\keras\\utils\\traceback_utils.py:70\u001B[0m, in \u001B[0;36mfilter_traceback.<locals>.error_handler\u001B[1;34m(*args, **kwargs)\u001B[0m\n\u001B[0;32m     67\u001B[0m     filtered_tb \u001B[38;5;241m=\u001B[39m _process_traceback_frames(e\u001B[38;5;241m.\u001B[39m__traceback__)\n\u001B[0;32m     68\u001B[0m     \u001B[38;5;66;03m# To get the full stack trace, call:\u001B[39;00m\n\u001B[0;32m     69\u001B[0m     \u001B[38;5;66;03m# `tf.debugging.disable_traceback_filtering()`\u001B[39;00m\n\u001B[1;32m---> 70\u001B[0m     \u001B[38;5;28;01mraise\u001B[39;00m e\u001B[38;5;241m.\u001B[39mwith_traceback(filtered_tb) \u001B[38;5;28;01mfrom\u001B[39;00m \u001B[38;5;28mNone\u001B[39m\n\u001B[0;32m     71\u001B[0m \u001B[38;5;28;01mfinally\u001B[39;00m:\n\u001B[0;32m     72\u001B[0m     \u001B[38;5;28;01mdel\u001B[39;00m filtered_tb\n",
      "File \u001B[1;32m~\\AppData\\Local\\Temp\\__autograph_generated_filew35443yd.py:15\u001B[0m, in \u001B[0;36mouter_factory.<locals>.inner_factory.<locals>.tf__train_function\u001B[1;34m(iterator)\u001B[0m\n\u001B[0;32m     13\u001B[0m \u001B[38;5;28;01mtry\u001B[39;00m:\n\u001B[0;32m     14\u001B[0m     do_return \u001B[38;5;241m=\u001B[39m \u001B[38;5;28;01mTrue\u001B[39;00m\n\u001B[1;32m---> 15\u001B[0m     retval_ \u001B[38;5;241m=\u001B[39m ag__\u001B[38;5;241m.\u001B[39mconverted_call(ag__\u001B[38;5;241m.\u001B[39mld(step_function), (ag__\u001B[38;5;241m.\u001B[39mld(\u001B[38;5;28mself\u001B[39m), ag__\u001B[38;5;241m.\u001B[39mld(iterator)), \u001B[38;5;28;01mNone\u001B[39;00m, fscope)\n\u001B[0;32m     16\u001B[0m \u001B[38;5;28;01mexcept\u001B[39;00m:\n\u001B[0;32m     17\u001B[0m     do_return \u001B[38;5;241m=\u001B[39m \u001B[38;5;28;01mFalse\u001B[39;00m\n",
      "\u001B[1;31mValueError\u001B[0m: in user code:\n\n    File \"c:\\users\\vdwti\\pycharmprojects\\brats_2021\\venv\\lib\\site-packages\\keras\\engine\\training.py\", line 1160, in train_function  *\n        return step_function(self, iterator)\n    File \"c:\\users\\vdwti\\pycharmprojects\\brats_2021\\venv\\lib\\site-packages\\keras\\engine\\training.py\", line 1146, in step_function  **\n        outputs = model.distribute_strategy.run(run_step, args=(data,))\n    File \"c:\\users\\vdwti\\pycharmprojects\\brats_2021\\venv\\lib\\site-packages\\keras\\engine\\training.py\", line 1135, in run_step  **\n        outputs = model.train_step(data)\n    File \"c:\\users\\vdwti\\pycharmprojects\\brats_2021\\venv\\lib\\site-packages\\keras\\engine\\training.py\", line 994, in train_step\n        loss = self.compute_loss(x, y, y_pred, sample_weight)\n    File \"c:\\users\\vdwti\\pycharmprojects\\brats_2021\\venv\\lib\\site-packages\\keras\\engine\\training.py\", line 1052, in compute_loss\n        return self.compiled_loss(\n    File \"c:\\users\\vdwti\\pycharmprojects\\brats_2021\\venv\\lib\\site-packages\\keras\\engine\\compile_utils.py\", line 265, in __call__\n        loss_value = loss_obj(y_t, y_p, sample_weight=sw)\n    File \"c:\\users\\vdwti\\pycharmprojects\\brats_2021\\venv\\lib\\site-packages\\keras\\losses.py\", line 152, in __call__\n        losses = call_fn(y_true, y_pred)\n    File \"c:\\users\\vdwti\\pycharmprojects\\brats_2021\\venv\\lib\\site-packages\\keras\\losses.py\", line 272, in call  **\n        return ag_fn(y_true, y_pred, **self._fn_kwargs)\n    File \"c:\\users\\vdwti\\pycharmprojects\\brats_2021\\venv\\lib\\site-packages\\keras\\losses.py\", line 1990, in categorical_crossentropy\n        return backend.categorical_crossentropy(\n    File \"c:\\users\\vdwti\\pycharmprojects\\brats_2021\\venv\\lib\\site-packages\\keras\\backend.py\", line 5529, in categorical_crossentropy\n        target.shape.assert_is_compatible_with(output.shape)\n\n    ValueError: Shapes (1, 240, 240, 155, 1) and (1, 240) are incompatible\n"
     ]
    }
   ],
   "source": [
    "model=get_model()\n",
    "model.compile(loss=\"categorical_crossentropy\", optimizer=Adam(learning_rate=0.001), metrics = ['accuracy',tf.keras.metrics.MeanIoU(num_classes=4)] )\n",
    "\n",
    "model.fit(x_train,y_train,batch_size=1,epochs=1)"
   ],
   "metadata": {
    "collapsed": false,
    "pycharm": {
     "name": "#%%\n"
    }
   }
  },
  {
   "cell_type": "code",
   "execution_count": null,
   "outputs": [],
   "source": [],
   "metadata": {
    "collapsed": false,
    "pycharm": {
     "name": "#%%\n"
    }
   }
  },
  {
   "cell_type": "code",
   "execution_count": null,
   "outputs": [],
   "source": [],
   "metadata": {
    "collapsed": false,
    "pycharm": {
     "name": "#%%\n"
    }
   }
  },
  {
   "cell_type": "code",
   "execution_count": null,
   "outputs": [],
   "source": [],
   "metadata": {
    "collapsed": false,
    "pycharm": {
     "name": "#%%\n"
    }
   }
  },
  {
   "cell_type": "code",
   "execution_count": 36,
   "outputs": [
    {
     "ename": "ValueError",
     "evalue": "Input 0 of layer \"max_pooling2d_1\" is incompatible with the layer: expected ndim=4, found ndim=5. Full shape received: (None, 224, 224, 155, 64)",
     "output_type": "error",
     "traceback": [
      "\u001B[1;31m---------------------------------------------------------------------------\u001B[0m",
      "\u001B[1;31mValueError\u001B[0m                                Traceback (most recent call last)",
      "Cell \u001B[1;32mIn [36], line 1\u001B[0m\n\u001B[1;32m----> 1\u001B[0m model\u001B[38;5;241m=\u001B[39m\u001B[43mmodel_complicated\u001B[49m\u001B[43m(\u001B[49m\u001B[43m(\u001B[49m\u001B[38;5;241;43m224\u001B[39;49m\u001B[43m,\u001B[49m\u001B[38;5;241;43m224\u001B[39;49m\u001B[43m,\u001B[49m\u001B[38;5;241;43m155\u001B[39;49m\u001B[43m,\u001B[49m\u001B[38;5;241;43m1\u001B[39;49m\u001B[43m)\u001B[49m\u001B[43m)\u001B[49m\n",
      "Cell \u001B[1;32mIn [35], line 94\u001B[0m, in \u001B[0;36mmodel_complicated\u001B[1;34m(input_shape)\u001B[0m\n\u001B[0;32m     91\u001B[0m \u001B[38;5;66;03m# Downsampling layers\u001B[39;00m\n\u001B[0;32m     92\u001B[0m \u001B[38;5;66;03m# DownRes 1, double residual convolution + pooling\u001B[39;00m\n\u001B[0;32m     93\u001B[0m conv_128 \u001B[38;5;241m=\u001B[39m res_conv_block(inputs, FILTER_SIZE, FILTER_NUM, dropout_rate, batch_norm)\n\u001B[1;32m---> 94\u001B[0m pool_64 \u001B[38;5;241m=\u001B[39m \u001B[43mlayers\u001B[49m\u001B[38;5;241;43m.\u001B[39;49m\u001B[43mMaxPooling2D\u001B[49m\u001B[43m(\u001B[49m\u001B[43mpool_size\u001B[49m\u001B[38;5;241;43m=\u001B[39;49m\u001B[43m(\u001B[49m\u001B[38;5;241;43m2\u001B[39;49m\u001B[43m,\u001B[49m\u001B[38;5;241;43m2\u001B[39;49m\u001B[43m)\u001B[49m\u001B[43m)\u001B[49m\u001B[43m(\u001B[49m\u001B[43mconv_128\u001B[49m\u001B[43m)\u001B[49m\n\u001B[0;32m     95\u001B[0m \u001B[38;5;66;03m# DownRes 2\u001B[39;00m\n\u001B[0;32m     96\u001B[0m conv_64 \u001B[38;5;241m=\u001B[39m res_conv_block(pool_64, FILTER_SIZE, \u001B[38;5;241m2\u001B[39m\u001B[38;5;241m*\u001B[39mFILTER_NUM, dropout_rate, batch_norm)\n",
      "File \u001B[1;32mc:\\users\\vdwti\\pycharmprojects\\brats_2021\\venv\\lib\\site-packages\\keras\\utils\\traceback_utils.py:70\u001B[0m, in \u001B[0;36mfilter_traceback.<locals>.error_handler\u001B[1;34m(*args, **kwargs)\u001B[0m\n\u001B[0;32m     67\u001B[0m     filtered_tb \u001B[38;5;241m=\u001B[39m _process_traceback_frames(e\u001B[38;5;241m.\u001B[39m__traceback__)\n\u001B[0;32m     68\u001B[0m     \u001B[38;5;66;03m# To get the full stack trace, call:\u001B[39;00m\n\u001B[0;32m     69\u001B[0m     \u001B[38;5;66;03m# `tf.debugging.disable_traceback_filtering()`\u001B[39;00m\n\u001B[1;32m---> 70\u001B[0m     \u001B[38;5;28;01mraise\u001B[39;00m e\u001B[38;5;241m.\u001B[39mwith_traceback(filtered_tb) \u001B[38;5;28;01mfrom\u001B[39;00m \u001B[38;5;28mNone\u001B[39m\n\u001B[0;32m     71\u001B[0m \u001B[38;5;28;01mfinally\u001B[39;00m:\n\u001B[0;32m     72\u001B[0m     \u001B[38;5;28;01mdel\u001B[39;00m filtered_tb\n",
      "File \u001B[1;32mc:\\users\\vdwti\\pycharmprojects\\brats_2021\\venv\\lib\\site-packages\\keras\\engine\\input_spec.py:232\u001B[0m, in \u001B[0;36massert_input_compatibility\u001B[1;34m(input_spec, inputs, layer_name)\u001B[0m\n\u001B[0;32m    230\u001B[0m     ndim \u001B[38;5;241m=\u001B[39m shape\u001B[38;5;241m.\u001B[39mrank\n\u001B[0;32m    231\u001B[0m     \u001B[38;5;28;01mif\u001B[39;00m ndim \u001B[38;5;241m!=\u001B[39m spec\u001B[38;5;241m.\u001B[39mndim:\n\u001B[1;32m--> 232\u001B[0m         \u001B[38;5;28;01mraise\u001B[39;00m \u001B[38;5;167;01mValueError\u001B[39;00m(\n\u001B[0;32m    233\u001B[0m             \u001B[38;5;124mf\u001B[39m\u001B[38;5;124m'\u001B[39m\u001B[38;5;124mInput \u001B[39m\u001B[38;5;132;01m{\u001B[39;00minput_index\u001B[38;5;132;01m}\u001B[39;00m\u001B[38;5;124m of layer \u001B[39m\u001B[38;5;124m\"\u001B[39m\u001B[38;5;132;01m{\u001B[39;00mlayer_name\u001B[38;5;132;01m}\u001B[39;00m\u001B[38;5;124m\"\u001B[39m\u001B[38;5;124m \u001B[39m\u001B[38;5;124m'\u001B[39m\n\u001B[0;32m    234\u001B[0m             \u001B[38;5;124m\"\u001B[39m\u001B[38;5;124mis incompatible with the layer: \u001B[39m\u001B[38;5;124m\"\u001B[39m\n\u001B[0;32m    235\u001B[0m             \u001B[38;5;124mf\u001B[39m\u001B[38;5;124m\"\u001B[39m\u001B[38;5;124mexpected ndim=\u001B[39m\u001B[38;5;132;01m{\u001B[39;00mspec\u001B[38;5;241m.\u001B[39mndim\u001B[38;5;132;01m}\u001B[39;00m\u001B[38;5;124m, found ndim=\u001B[39m\u001B[38;5;132;01m{\u001B[39;00mndim\u001B[38;5;132;01m}\u001B[39;00m\u001B[38;5;124m. \u001B[39m\u001B[38;5;124m\"\u001B[39m\n\u001B[0;32m    236\u001B[0m             \u001B[38;5;124mf\u001B[39m\u001B[38;5;124m\"\u001B[39m\u001B[38;5;124mFull shape received: \u001B[39m\u001B[38;5;132;01m{\u001B[39;00m\u001B[38;5;28mtuple\u001B[39m(shape)\u001B[38;5;132;01m}\u001B[39;00m\u001B[38;5;124m\"\u001B[39m\n\u001B[0;32m    237\u001B[0m         )\n\u001B[0;32m    238\u001B[0m \u001B[38;5;28;01mif\u001B[39;00m spec\u001B[38;5;241m.\u001B[39mmax_ndim \u001B[38;5;129;01mis\u001B[39;00m \u001B[38;5;129;01mnot\u001B[39;00m \u001B[38;5;28;01mNone\u001B[39;00m:\n\u001B[0;32m    239\u001B[0m     ndim \u001B[38;5;241m=\u001B[39m x\u001B[38;5;241m.\u001B[39mshape\u001B[38;5;241m.\u001B[39mrank\n",
      "\u001B[1;31mValueError\u001B[0m: Input 0 of layer \"max_pooling2d_1\" is incompatible with the layer: expected ndim=4, found ndim=5. Full shape received: (None, 224, 224, 155, 64)"
     ]
    }
   ],
   "source": [
    "model=model_complicated((224,224,155,1))"
   ],
   "metadata": {
    "collapsed": false
   }
  },
  {
   "cell_type": "code",
   "execution_count": 37,
   "outputs": [],
   "source": [
    "def simple_rd_cnn():\n",
    "    # Create the model\n",
    "    model = Sequential()\n",
    "    model.add(keras.Input(shape=(240,240,155,1)))\n",
    "    model.add(Conv3D(filters=32, kernel_size=(3, 3, 3), activation='relu', kernel_initializer='he_uniform'))\n",
    "    model.add(MaxPooling3D(pool_size=(2, 2, 2)))\n",
    "    model.add(BatchNormalization(center=True, scale=True))\n",
    "    model.add(Dropout(0.5))\n",
    "    model.add(Conv3D(filters=64, kernel_size=(3, 3, 3), activation='relu', kernel_initializer='he_uniform'))\n",
    "    model.add(MaxPooling3D(pool_size=(2, 2, 2)))\n",
    "    model.add(BatchNormalization(center=True, scale=True))\n",
    "    model.add(Dropout(0.5))\n",
    "    model.add(Flatten())\n",
    "    model.add(Dense(units=256, activation='relu', kernel_initializer='he_uniform'))\n",
    "    model.add(Dense(units=256, activation='relu', kernel_initializer='he_uniform'))\n",
    "    model.add(Dense(units=10, activation='softmax'))\n",
    "    return model\n"
   ],
   "metadata": {
    "collapsed": false,
    "pycharm": {
     "name": "#%%\n"
    }
   }
  },
  {
   "cell_type": "code",
   "execution_count": 35,
   "outputs": [],
   "source": [
    "def repeat_elem(tensor, rep):\n",
    "    # lambda function to repeat Repeats the elements of a tensor along an axis\n",
    "    #by a factor of rep.\n",
    "    # If tensor has shape (None, 256,256,3), lambda will return a tensor of shape\n",
    "    #(None, 256,256,6), if specified axis=3 and rep=2.\n",
    "\n",
    "     return layers.Lambda(lambda x, repnum: K.repeat_elements(x, repnum, axis=3),\n",
    "                          arguments={'repnum': rep})(tensor)\n",
    "\n",
    "def gating_signal(input, out_size, batch_norm=False):\n",
    "    \"\"\"\n",
    "    resize the down layer feature map into the same dimension as the up layer feature map\n",
    "    using 1x1 conv\n",
    "    :return: the gating feature map with the same dimension of the up layer feature map\n",
    "    \"\"\"\n",
    "    x = layers.Conv2D(out_size, (1, 1), padding='same')(input)\n",
    "    if batch_norm:\n",
    "        x = layers.BatchNormalization()(x)\n",
    "    x = layers.Activation('relu')(x)\n",
    "    return x\n",
    "\n",
    "def attention_block(x, gating, inter_shape):\n",
    "    shape_x = K.int_shape(x)\n",
    "    shape_g = K.int_shape(gating)\n",
    "\n",
    "# Getting the x signal to the same shape as the gating signal\n",
    "    theta_x = layers.Conv2D(inter_shape, (2, 2), strides=(2, 2), padding='same')(x)  # 16\n",
    "    shape_theta_x = K.int_shape(theta_x)\n",
    "\n",
    "# Getting the gating signal to the same number of filters as the inter_shape\n",
    "    phi_g = layers.Conv2D(inter_shape, (1, 1), padding='same')(gating)\n",
    "    upsample_g = layers.Conv2DTranspose(inter_shape, (3, 3),\n",
    "                                 strides=(shape_theta_x[1] // shape_g[1], shape_theta_x[2] // shape_g[2]),\n",
    "                                 padding='same')(phi_g)  # 16\n",
    "\n",
    "    concat_xg = layers.add([upsample_g, theta_x])\n",
    "    act_xg = layers.Activation('relu')(concat_xg)\n",
    "    psi = layers.Conv2D(1, (1, 1), padding='same')(act_xg)\n",
    "    sigmoid_xg = layers.Activation('sigmoid')(psi)\n",
    "    shape_sigmoid = K.int_shape(sigmoid_xg)\n",
    "    upsample_psi = layers.UpSampling2D(size=(shape_x[1] // shape_sigmoid[1], shape_x[2] // shape_sigmoid[2]))(sigmoid_xg)  # 32\n",
    "\n",
    "    upsample_psi = repeat_elem(upsample_psi, shape_x[3])\n",
    "\n",
    "    y = layers.multiply([upsample_psi, x])\n",
    "\n",
    "    result = layers.Conv2D(shape_x[3], (1, 1), padding='same')(y)\n",
    "    result_bn = layers.BatchNormalization()(result)\n",
    "    return result_bn\n",
    "def res_conv_block(x, filter_size, size, dropout, batch_norm=False):\n",
    "    '''\n",
    "    Residual convolutional layer.\n",
    "    '''\n",
    "\n",
    "    conv = layers.Conv2D(size, (filter_size, filter_size), padding='same')(x)\n",
    "    if batch_norm is True:\n",
    "        conv = layers.BatchNormalization(axis=3)(conv)\n",
    "    conv = layers.Activation('relu')(conv)\n",
    "\n",
    "    conv = layers.Conv2D(size, (filter_size, filter_size), padding='same')(conv)\n",
    "    if batch_norm is True:\n",
    "        conv = layers.BatchNormalization(axis=3)(conv)\n",
    "    #conv = layers.Activation('relu')(conv)    #Activation before addition with shortcut\n",
    "    if dropout > 0:\n",
    "        conv = layers.Dropout(dropout)(conv)\n",
    "\n",
    "    shortcut = layers.Conv2D(size, kernel_size=(1, 1), padding='same')(x)\n",
    "    if batch_norm is True:\n",
    "        shortcut = layers.BatchNormalization(axis=3)(shortcut)\n",
    "\n",
    "    res_path = layers.add([shortcut, conv])\n",
    "    res_path = layers.Activation('relu')(res_path)    #Activation after addition with shortcut (Original residual block)\n",
    "    return res_path\n",
    "def model_complicated(input_shape):\n",
    "    '''\n",
    "    Rsidual UNet, with attention\n",
    "\n",
    "    '''\n",
    "    # network structure\n",
    "    FILTER_NUM = 64 # number of basic filters for the first layer\n",
    "    FILTER_SIZE = 3 # size of the convolutional filter\n",
    "    UP_SAMP_SIZE = 2 # size of upsampling filters\n",
    "    NUM_CLASSES=1\n",
    "    dropout_rate=0.0\n",
    "    batch_norm=True\n",
    "    # input data\n",
    "    # dimension of the image depth\n",
    "    inputs = layers.Input(input_shape, dtype=tf.float32)\n",
    "    axis = 3\n",
    "\n",
    "    # Downsampling layers\n",
    "    # DownRes 1, double residual convolution + pooling\n",
    "    conv_128 = res_conv_block(inputs, FILTER_SIZE, FILTER_NUM, dropout_rate, batch_norm)\n",
    "    pool_64 = layers.MaxPooling2D(pool_size=(2,2))(conv_128)\n",
    "    # DownRes 2\n",
    "    conv_64 = res_conv_block(pool_64, FILTER_SIZE, 2*FILTER_NUM, dropout_rate, batch_norm)\n",
    "    pool_32 = layers.MaxPooling2D(pool_size=(2,2))(conv_64)\n",
    "    # DownRes 3\n",
    "    conv_32 = res_conv_block(pool_32, FILTER_SIZE, 4*FILTER_NUM, dropout_rate, batch_norm)\n",
    "    pool_16 = layers.MaxPooling2D(pool_size=(2,2))(conv_32)\n",
    "    # DownRes 4\n",
    "    conv_16 = res_conv_block(pool_16, FILTER_SIZE, 8*FILTER_NUM, dropout_rate, batch_norm)\n",
    "    pool_8 = layers.MaxPooling2D(pool_size=(2,2))(conv_16)\n",
    "    # DownRes 5, convolution only\n",
    "    conv_8 = res_conv_block(pool_8, FILTER_SIZE, 16*FILTER_NUM, dropout_rate, batch_norm)\n",
    "\n",
    "    # Upsampling layers\n",
    "    # UpRes 6, attention gated concatenation + upsampling + double residual convolution\n",
    "    gating_16 = gating_signal(conv_8, 8*FILTER_NUM, batch_norm)\n",
    "    att_16 = attention_block(conv_16, gating_16, 8*FILTER_NUM)\n",
    "    up_16 = layers.UpSampling2D(size=(UP_SAMP_SIZE, UP_SAMP_SIZE), data_format=\"channels_last\")(conv_8)\n",
    "    up_16 = layers.concatenate([up_16, att_16], axis=axis)\n",
    "    up_conv_16 = res_conv_block(up_16, FILTER_SIZE, 8*FILTER_NUM, dropout_rate, batch_norm)\n",
    "    # UpRes 7\n",
    "    gating_32 = gating_signal(up_conv_16, 4*FILTER_NUM, batch_norm)\n",
    "    att_32 = attention_block(conv_32, gating_32, 4*FILTER_NUM)\n",
    "    up_32 = layers.UpSampling2D(size=(UP_SAMP_SIZE, UP_SAMP_SIZE), data_format=\"channels_last\")(up_conv_16)\n",
    "    up_32 = layers.concatenate([up_32, att_32], axis=axis)\n",
    "    up_conv_32 = res_conv_block(up_32, FILTER_SIZE, 4*FILTER_NUM, dropout_rate, batch_norm)\n",
    "    # UpRes 8\n",
    "    gating_64 = gating_signal(up_conv_32, 2*FILTER_NUM, batch_norm)\n",
    "    att_64 = attention_block(conv_64, gating_64, 2*FILTER_NUM)\n",
    "    up_64 = layers.UpSampling2D(size=(UP_SAMP_SIZE, UP_SAMP_SIZE), data_format=\"channels_last\")(up_conv_32)\n",
    "    up_64 = layers.concatenate([up_64, att_64], axis=axis)\n",
    "    up_conv_64 = res_conv_block(up_64, FILTER_SIZE, 2*FILTER_NUM, dropout_rate, batch_norm)\n",
    "    # UpRes 9\n",
    "    gating_128 = gating_signal(up_conv_64, FILTER_NUM, batch_norm)\n",
    "    att_128 = attention_block(conv_128, gating_128, FILTER_NUM)\n",
    "    up_128 = layers.UpSampling2D(size=(UP_SAMP_SIZE, UP_SAMP_SIZE), data_format=\"channels_last\")(up_conv_64)\n",
    "    up_128 = layers.concatenate([up_128, att_128], axis=axis)\n",
    "    up_conv_128 = res_conv_block(up_128, FILTER_SIZE, FILTER_NUM, dropout_rate, batch_norm)\n",
    "\n",
    "    # 1*1 convolutional layers\n",
    "\n",
    "    conv_final = layers.Conv2D(NUM_CLASSES, kernel_size=(1,1))(up_conv_128)\n",
    "    conv_final = layers.BatchNormalization(axis=axis)(conv_final)\n",
    "    conv_final = layers.Activation('sigmoid')(conv_final)  #Change to softmax for multichannel\n",
    "\n",
    "    # Model integration\n",
    "    model = Model(inputs, conv_final, name=\"AttentionResUNet\")\n",
    "#     print(model.summary())\n",
    "    return model"
   ],
   "metadata": {
    "collapsed": false,
    "pycharm": {
     "name": "#%%\n"
    }
   }
  },
  {
   "cell_type": "code",
   "execution_count": null,
   "outputs": [
    {
     "name": "stderr",
     "output_type": "stream",
     "text": [
      "\n",
      "KeyboardInterrupt\n",
      "\n"
     ]
    }
   ],
   "source": [
    "model=simple_rd_cnn()"
   ],
   "metadata": {
    "collapsed": false
   }
  },
  {
   "cell_type": "code",
   "execution_count": null,
   "outputs": [],
   "source": [],
   "metadata": {
    "collapsed": false
   }
  },
  {
   "cell_type": "code",
   "execution_count": null,
   "id": "979d1ccb",
   "metadata": {
    "execution": {
     "iopub.execute_input": "2022-09-13T10:58:00.406567Z",
     "iopub.status.busy": "2022-09-13T10:58:00.405842Z",
     "iopub.status.idle": "2022-09-13T10:58:00.409399Z",
     "shell.execute_reply": "2022-09-13T10:58:00.408892Z",
     "shell.execute_reply.started": "2022-09-13T10:14:30.481522Z"
    },
    "id": "srx4GdJMludf",
    "papermill": {
     "duration": 0.153945,
     "end_time": "2022-09-13T10:58:00.409520",
     "exception": false,
     "start_time": "2022-09-13T10:58:00.255575",
     "status": "completed"
    },
    "tags": []
   },
   "outputs": [],
   "source": [
    "# dice loss as defined above for 4 classes\n",
    "def dice_coef(y_true, y_pred, epsilon=0.00001):\n",
    "    \"\"\"\n",
    "    Dice = (2*|X & Y|)/ (|X|+ |Y|)\n",
    "         =  2*sum(|A*B|)/(sum(A^2)+sum(B^2))\n",
    "    ref: https://arxiv.org/pdf/1606.04797v1.pdf\n",
    "    \n",
    "    \"\"\"\n",
    "    axis = (0,1,2,3)\n",
    "    dice_numerator = 2. * K.sum(y_true * y_pred, axis=axis) + epsilon\n",
    "    dice_denominator = K.sum(y_true*y_true, axis=axis) + K.sum(y_pred*y_pred, axis=axis) + epsilon\n",
    "    return K.mean((dice_numerator)/(dice_denominator))\n",
    "\n",
    "\n",
    " \n",
    "# define per class evaluation of dice coef\n",
    "# inspired by https://github.com/keras-team/keras/issues/9395\n",
    "def dice_coef_necrotic(y_true, y_pred, epsilon=1e-6):\n",
    "    intersection = K.sum(K.abs(y_true[0,:,:,:,1] * y_pred[0,:,:,:,1]))\n",
    "    return (2. * intersection) / (K.sum(K.square(y_true[0,:,:,:,1])) + K.sum(K.square(y_pred[0,:,:,:,1])) + epsilon)\n",
    "\n",
    "def dice_coef_edema(y_true, y_pred, epsilon=1e-6):\n",
    "    intersection = K.sum(K.abs(y_true[0,:,:,:,2] * y_pred[0,:,:,:,2]))\n",
    "    return (2. * intersection) / (K.sum(K.square(y_true[0,:,:,:,2])) + K.sum(K.square(y_pred[0,:,:,:,2])) + epsilon)\n",
    "\n",
    "def dice_coef_enhancing(y_true, y_pred, epsilon=1e-6):\n",
    "    intersection = K.sum(K.abs(y_true[0,:,:,:,3] * y_pred[0,:,:,:,3]))\n",
    "    return (2. * intersection) / (K.sum(K.square(y_true[0,:,:,:,3])) + K.sum(K.square(y_pred[0,:,:,:,3])) + epsilon)\n",
    "\n",
    "\n",
    "\n",
    "# Computing Precision \n",
    "def precision(y_true, y_pred):\n",
    "        true_positives = K.sum(K.round(K.clip(y_true * y_pred, 0, 1)))\n",
    "        predicted_positives = K.sum(K.round(K.clip(y_pred, 0, 1)))\n",
    "        precision = true_positives / (predicted_positives + K.epsilon())\n",
    "        return precision\n",
    "\n",
    "    \n",
    "# Computing Sensitivity      \n",
    "def sensitivity(y_true, y_pred):\n",
    "    true_positives = K.sum(K.round(K.clip(y_true * y_pred, 0, 1)))\n",
    "    possible_positives = K.sum(K.round(K.clip(y_true, 0, 1)))\n",
    "    return true_positives / (possible_positives + K.epsilon())\n",
    "\n",
    "\n",
    "# Computing Specificity\n",
    "def specificity(y_true, y_pred):\n",
    "    true_negatives = K.sum(K.round(K.clip((1-y_true) * (1-y_pred), 0, 1)))\n",
    "    possible_negatives = K.sum(K.round(K.clip(1-y_true, 0, 1)))\n",
    "    return true_negatives / (possible_negatives + K.epsilon())"
   ]
  },
  {
   "cell_type": "code",
   "execution_count": null,
   "id": "4cc2de77",
   "metadata": {
    "execution": {
     "iopub.execute_input": "2022-09-13T10:58:00.661676Z",
     "iopub.status.busy": "2022-09-13T10:58:00.660823Z",
     "iopub.status.idle": "2022-09-13T10:58:00.662796Z",
     "shell.execute_reply": "2022-09-13T10:58:00.663207Z",
     "shell.execute_reply.started": "2022-09-13T10:14:30.505474Z"
    },
    "id": "Cf75YwhAl00a",
    "papermill": {
     "duration": 0.130679,
     "end_time": "2022-09-13T10:58:00.663360",
     "exception": false,
     "start_time": "2022-09-13T10:58:00.532681",
     "status": "completed"
    },
    "tags": []
   },
   "outputs": [],
   "source": [
    "IMG_SIZE=128"
   ]
  },
  {
   "cell_type": "code",
   "execution_count": null,
   "id": "d89cb317",
   "metadata": {
    "execution": {
     "iopub.execute_input": "2022-09-13T10:58:00.912524Z",
     "iopub.status.busy": "2022-09-13T10:58:00.911964Z",
     "iopub.status.idle": "2022-09-13T10:58:01.232018Z",
     "shell.execute_reply": "2022-09-13T10:58:01.231551Z",
     "shell.execute_reply.started": "2022-09-13T10:14:30.516925Z"
    },
    "id": "cWMRYWWOmtei",
    "papermill": {
     "duration": 0.448789,
     "end_time": "2022-09-13T10:58:01.232182",
     "exception": false,
     "start_time": "2022-09-13T10:58:00.783393",
     "status": "completed"
    },
    "tags": []
   },
   "outputs": [],
   "source": [
    "TRAIN_DATASET_PATH = './brain_images'\n",
    "\n",
    "file = tarfile.open('./inputs/BraTS2021_00621.tar')\n",
    "file.extractall('./val_brain_images')\n",
    "file.close()"
   ]
  },
  {
   "cell_type": "code",
   "execution_count": null,
   "id": "5ad85fd8",
   "metadata": {
    "execution": {
     "iopub.execute_input": "2022-09-13T10:58:01.486410Z",
     "iopub.status.busy": "2022-09-13T10:58:01.485809Z",
     "iopub.status.idle": "2022-09-13T10:58:01.489739Z",
     "shell.execute_reply": "2022-09-13T10:58:01.489320Z",
     "shell.execute_reply.started": "2022-09-13T10:14:30.676434Z"
    },
    "papermill": {
     "duration": 0.133289,
     "end_time": "2022-09-13T10:58:01.489860",
     "exception": false,
     "start_time": "2022-09-13T10:58:01.356571",
     "status": "completed"
    },
    "tags": []
   },
   "outputs": [],
   "source": [
    "VALIDATION_DATASET_PATH = '../val_brain_images'"
   ]
  },
  {
   "cell_type": "code",
   "execution_count": null,
   "id": "0cdefddd",
   "metadata": {
    "execution": {
     "iopub.execute_input": "2022-09-13T10:58:01.742324Z",
     "iopub.status.busy": "2022-09-13T10:58:01.741450Z",
     "iopub.status.idle": "2022-09-13T10:58:01.745517Z",
     "shell.execute_reply": "2022-09-13T10:58:01.745082Z",
     "shell.execute_reply.started": "2022-09-13T10:14:30.684036Z"
    },
    "papermill": {
     "duration": 0.134022,
     "end_time": "2022-09-13T10:58:01.745639",
     "exception": false,
     "start_time": "2022-09-13T10:58:01.611617",
     "status": "completed"
    },
    "tags": []
   },
   "outputs": [],
   "source": [
    "import os\n",
    "train_and_val_directories = [f.path for f in os.scandir(TRAIN_DATASET_PATH) if f.is_dir()]"
   ]
  },
  {
   "cell_type": "code",
   "execution_count": null,
   "id": "f5179972",
   "metadata": {
    "execution": {
     "iopub.execute_input": "2022-09-13T10:58:01.997390Z",
     "iopub.status.busy": "2022-09-13T10:58:01.996703Z",
     "iopub.status.idle": "2022-09-13T10:58:02.000244Z",
     "shell.execute_reply": "2022-09-13T10:58:01.999792Z",
     "shell.execute_reply.started": "2022-09-13T10:14:31.961440Z"
    },
    "papermill": {
     "duration": 0.133752,
     "end_time": "2022-09-13T10:58:02.000372",
     "exception": false,
     "start_time": "2022-09-13T10:58:01.866620",
     "status": "completed"
    },
    "tags": []
   },
   "outputs": [],
   "source": [
    "def pathListIntoIds(dirList):\n",
    "    x = []\n",
    "    for i in range(0,len(dirList)):\n",
    "        x.append(dirList[i][dirList[i].rfind('/')+1:])\n",
    "    return x\n",
    "\n",
    "train_and_test_ids = pathListIntoIds(train_and_val_directories); \n",
    "\n",
    "    \n",
    "train_test_ids, val_ids = train_test_split(train_and_test_ids,test_size=0.2) \n",
    "train_ids, test_ids = train_test_split(train_test_ids,test_size=0.15) "
   ]
  },
  {
   "cell_type": "code",
   "execution_count": null,
   "id": "cc5cc713",
   "metadata": {
    "execution": {
     "iopub.execute_input": "2022-09-13T10:58:02.421466Z",
     "iopub.status.busy": "2022-09-13T10:58:02.419382Z",
     "iopub.status.idle": "2022-09-13T10:58:02.422815Z",
     "shell.execute_reply": "2022-09-13T10:58:02.422226Z",
     "shell.execute_reply.started": "2022-09-13T10:14:32.230563Z"
    },
    "papermill": {
     "duration": 0.209233,
     "end_time": "2022-09-13T10:58:02.422969",
     "exception": false,
     "start_time": "2022-09-13T10:58:02.213736",
     "status": "completed"
    },
    "tags": []
   },
   "outputs": [],
   "source": [
    "SEGMENT_CLASSES = {\n",
    "    0 : 'NOT tumor',\n",
    "    1 : 'NECROTIC/CORE', # or NON-ENHANCING tumor CORE\n",
    "    2 : 'EDEMA',\n",
    "    3 : 'ENHANCING' # original 4 -> converted into 3 later\n",
    "}\n",
    "\n",
    "# there are 155 slices per volume\n",
    "# to start at 5 and use 145 slices means we will skip the first 5 and last 5 \n",
    "VOLUME_SLICES = 128 \n",
    "VOLUME_START_AT = 22 # first slice of volume that we will include"
   ]
  },
  {
   "cell_type": "code",
   "execution_count": null,
   "id": "60ac48d5",
   "metadata": {
    "execution": {
     "iopub.execute_input": "2022-09-13T10:58:02.767500Z",
     "iopub.status.busy": "2022-09-13T10:58:02.766712Z",
     "iopub.status.idle": "2022-09-13T10:58:02.887463Z",
     "shell.execute_reply": "2022-09-13T10:58:02.886992Z",
     "shell.execute_reply.started": "2022-09-13T10:14:32.247806Z"
    },
    "papermill": {
     "duration": 0.270259,
     "end_time": "2022-09-13T10:58:02.887591",
     "exception": false,
     "start_time": "2022-09-13T10:58:02.617332",
     "status": "completed"
    },
    "tags": []
   },
   "outputs": [],
   "source": [
    "keras = tf.compat.v1.keras\n",
    "Sequence = keras.utils.Sequence\n",
    "\n",
    "class DataGenerator(Sequence):\n",
    "    'Generates data for Keras'\n",
    "    def __init__(self, list_IDs, dim=(IMG_SIZE,IMG_SIZE), batch_size = 1, n_channels = 2, shuffle=True):\n",
    "        'Initialization'\n",
    "        self.dim = dim\n",
    "        self.batch_size = batch_size\n",
    "        self.list_IDs = list_IDs\n",
    "        self.n_channels = n_channels\n",
    "        self.shuffle = shuffle\n",
    "        self.on_epoch_end()\n",
    "\n",
    "    def __len__(self):\n",
    "        'Denotes the number of batches per epoch'\n",
    "        return int(np.floor(len(self.list_IDs) / self.batch_size))\n",
    "\n",
    "    def __getitem__(self, index):\n",
    "        'Generate one batch of data'\n",
    "        # Generate indexes of the batch\n",
    "        indexes = self.indexes[index*self.batch_size:(index+1)*self.batch_size]\n",
    "        # Find list of IDs\n",
    "        Batch_ids = [self.list_IDs[k] for k in indexes]\n",
    "\n",
    "        # Generate data\n",
    "        X, y = self.__data_generation(Batch_ids)\n",
    "\n",
    "        return X, y\n",
    "\n",
    "    def on_epoch_end(self):\n",
    "        'Updates indexes after each epoch'\n",
    "        self.indexes = np.arange(len(self.list_IDs))\n",
    "        if self.shuffle == True:\n",
    "            np.random.shuffle(self.indexes)\n",
    "\n",
    "    def __data_generation(self, Batch_ids):\n",
    "        'Generates data containing batch_size samples' # X : (n_samples, *dim, n_channels)\n",
    "        # Initialization\n",
    "        X = np.zeros((self.batch_size*VOLUME_SLICES, *self.dim, self.n_channels))\n",
    "        y = np.zeros((self.batch_size*VOLUME_SLICES, 128, 128))\n",
    "        Y = np.zeros((self.batch_size*VOLUME_SLICES, *self.dim, 4))\n",
    "\n",
    "        \n",
    "        # Generate data\n",
    "        for c, i in enumerate(Batch_ids):\n",
    "            case_path = os.path.join(TRAIN_DATASET_PATH, i)\n",
    "\n",
    "            data_path = os.path.join(case_path, f'{i}_flair.nii.gz');\n",
    "            flair = nib.load(data_path).get_fdata()    \n",
    "\n",
    "            data_path = os.path.join(case_path, f'{i}_t1ce.nii.gz');\n",
    "            ce = nib.load(data_path).get_fdata()\n",
    "            \n",
    "            data_path = os.path.join(case_path, f'{i}_seg.nii.gz');\n",
    "            seg = nib.load(data_path).get_fdata()\n",
    "        \n",
    "            for j in range(VOLUME_SLICES):\n",
    "             X[j+(VOLUME_SLICES*c),:,:,0] = cv2.resize(flair[:,:,j+VOLUME_START_AT], (IMG_SIZE, IMG_SIZE))\n",
    "\n",
    "             X[j+(VOLUME_SLICES*c),:,:,1] = cv2.resize(ce[:,:,j+VOLUME_START_AT], (IMG_SIZE, IMG_SIZE))\n",
    "             \n",
    "             \n",
    "             y[j +VOLUME_SLICES*c,:,:] = cv2.resize(seg[:,:,j+VOLUME_START_AT], (IMG_SIZE, IMG_SIZE))\n",
    "\n",
    "        X = X.reshape(1,128,128,128,2)\n",
    "        y = y.reshape(1,128,128,128)\n",
    "        # Generate masks\n",
    "        y[y==4] = 3;\n",
    "        y = tf.one_hot(y, 4);\n",
    "        #Y = tf.image.resize(mask, (IMG_SIZE, IMG_SIZE));\n",
    "        #Y = np.array(Y).reshape(1,128,128,128)\n",
    "        return X/np.max(X), y\n",
    "        \n",
    "training_generator = DataGenerator(train_ids)\n",
    "valid_generator = DataGenerator(val_ids)\n",
    "test_generator = DataGenerator(test_ids)"
   ]
  },
  {
   "cell_type": "code",
   "execution_count": null,
   "id": "c4503706",
   "metadata": {
    "execution": {
     "iopub.execute_input": "2022-09-13T10:58:03.563349Z",
     "iopub.status.busy": "2022-09-13T10:58:03.562734Z",
     "iopub.status.idle": "2022-09-13T10:58:03.566251Z",
     "shell.execute_reply": "2022-09-13T10:58:03.565764Z",
     "shell.execute_reply.started": "2022-09-13T10:14:32.494450Z"
    },
    "papermill": {
     "duration": 0.532356,
     "end_time": "2022-09-13T10:58:03.566381",
     "exception": false,
     "start_time": "2022-09-13T10:58:03.034025",
     "status": "completed"
    },
    "tags": []
   },
   "outputs": [],
   "source": [
    "csv_logger = CSVLogger('training.log', separator=',', append=False)\n",
    "\n",
    "\n",
    "callbacks = [keras.callbacks.EarlyStopping(monitor='loss', min_delta=0,\n",
    "                               patience=2, verbose=1, mode='auto'),\n",
    "      keras.callbacks.ReduceLROnPlateau(monitor='val_loss', factor=0.2,\n",
    "                              patience=2, min_lr=0.000001, verbose=1),\n",
    "      keras.callbacks.ModelCheckpoint(filepath = 'model_.{epoch:02d}-{val_loss:.6f}.m5',\n",
    "                             verbose=1, save_best_only=True, save_weights_only = True),\n",
    "      csv_logger\n",
    "    ]\n"
   ]
  },
  {
   "cell_type": "code",
   "execution_count": null,
   "id": "3a631157",
   "metadata": {
    "execution": {
     "iopub.execute_input": "2022-09-13T10:58:03.827241Z",
     "iopub.status.busy": "2022-09-13T10:58:03.826383Z",
     "iopub.status.idle": "2022-09-13T10:58:03.828459Z",
     "shell.execute_reply": "2022-09-13T10:58:03.828823Z",
     "shell.execute_reply.started": "2022-09-13T10:14:32.684300Z"
    },
    "papermill": {
     "duration": 0.140336,
     "end_time": "2022-09-13T10:58:03.828965",
     "exception": false,
     "start_time": "2022-09-13T10:58:03.688629",
     "status": "completed"
    },
    "tags": []
   },
   "outputs": [],
   "source": [
    "def conv_block(input_mat,num_filters,kernel_size,batch_norm):\n",
    "  X = Conv3D(num_filters,kernel_size=(kernel_size,kernel_size,kernel_size),strides=(1,1,1),padding='same')(input_mat)\n",
    "  if batch_norm:\n",
    "    X = BatchNormalization()(X)\n",
    "  \n",
    "  X = Activation('relu')(X)\n",
    "\n",
    "  X = Conv3D(num_filters,kernel_size=(kernel_size,kernel_size,kernel_size),strides=(1,1,1),padding='same')(X)\n",
    "  if batch_norm:\n",
    "    X = BatchNormalization()(X)\n",
    "  \n",
    "  X = Activation('relu')(X)\n",
    "    \n",
    "  X = add([input_mat,X]);\n",
    "  \n",
    "  return X\n",
    "\n",
    "\n",
    "def Vnet_3d(input_img, n_filters = 8, dropout = 0.2, batch_norm = True):\n",
    "\n",
    "  #c1 = conv_block(input_img,n_filters,3,batch_norm)\n",
    "  c1 = Conv3D(n_filters,kernel_size = (5,5,5) , strides = (1,1,1) , padding='same')(input_img)\n",
    "  #c1 = add([c1,input_img])\n",
    "  \n",
    "  c2 = Conv3D(n_filters*2,kernel_size = (2,2,2) , strides = (2,2,2) , padding = 'same' )(c1)\n",
    "  \n",
    "  c3 = conv_block(c2 , n_filters*2,5,True)\n",
    "  \n",
    "  p3 = Conv3D(n_filters*4,kernel_size = (2,2,2) , strides = (2,2,2), padding = 'same')(c3)\n",
    "  p3 = Dropout(dropout)(p3)\n",
    "  \n",
    "  c4 = conv_block(p3, n_filters*4,5,True)\n",
    "  p4 = Conv3D(n_filters*8,kernel_size = (2,2,2) , strides = (2,2,2) , padding='same')(c4)\n",
    "  p4 = Dropout(dropout)(p4)\n",
    "    \n",
    "  c5 = conv_block(p4, n_filters*8,5,True)\n",
    "  p6 = Conv3D(n_filters*16,kernel_size = (2,2,2) , strides = (2,2,2) , padding='same')(c5)\n",
    "  p6 = Dropout(dropout)(p6)\n",
    "  #c6 = conv_block(p5, n_filters*8,5,True)\n",
    "  #p6 = Conv3D(n_filters*16,kernel_size = (2,2,2) , strides = (2,2,2) , padding='same')(c6)\n",
    "\n",
    "  p7 = conv_block(p6,n_filters*16,5,True)\n",
    "    \n",
    "  u6 = Conv3DTranspose(n_filters*8, (2,2,2), strides=(2, 2, 2), padding='same')(p7);\n",
    "  u6 = concatenate([u6,c5]);\n",
    "  c7 = conv_block(u6,n_filters*16,5,True)\n",
    "  c7 = Dropout(dropout)(c7)\n",
    "  u7 = Conv3DTranspose(n_filters*4,(2,2,2),strides = (2,2,2) , padding= 'same')(c7);\n",
    "\n",
    "  \n",
    "  u8 = concatenate([u7,c4]);\n",
    "  c8 = conv_block(u8,n_filters*8,5,True)\n",
    "  c8 = Dropout(dropout)(c8)\n",
    "  u9 = Conv3DTranspose(n_filters*2,(2,2,2),strides = (2,2,2) , padding= 'same')(c8);\n",
    "    \n",
    "  u9 = concatenate([u9,c3]);\n",
    "  c9 = conv_block(u9,n_filters*4,5,True)\n",
    "  c9 = Dropout(dropout)(c9)\n",
    "  u10 = Conv3DTranspose(n_filters,(2,2,2),strides = (2,2,2) , padding= 'same')(c9);\n",
    "  \n",
    "  \n",
    "  u10 = concatenate([u10,c1]);\n",
    "  c10 = Conv3D(n_filters*2,kernel_size = (5,5,5),strides = (1,1,1) , padding = 'same')(u10);\n",
    "  c10 = Dropout(dropout)(c10)\n",
    "  c10 = add([c10,u10]);\n",
    "  \n",
    "  \n",
    "\n",
    "  #c9 = conv_block(u9,n_filters,3,batch_norm)\n",
    "  outputs = Conv3D(4, (1,1,1), activation='softmax')(c10)\n",
    "\n",
    "  model = Model(inputs=input_img, outputs=outputs)\n",
    "\n",
    "  return model"
   ]
  },
  {
   "cell_type": "code",
   "execution_count": null,
   "id": "bde087a4",
   "metadata": {
    "execution": {
     "iopub.execute_input": "2022-09-13T10:58:04.079007Z",
     "iopub.status.busy": "2022-09-13T10:58:04.078364Z",
     "iopub.status.idle": "2022-09-13T10:58:10.647848Z",
     "shell.execute_reply": "2022-09-13T10:58:10.647391Z",
     "shell.execute_reply.started": "2022-09-13T10:14:32.745285Z"
    },
    "papermill": {
     "duration": 6.698341,
     "end_time": "2022-09-13T10:58:10.647986",
     "exception": false,
     "start_time": "2022-09-13T10:58:03.949645",
     "status": "completed"
    },
    "tags": []
   },
   "outputs": [],
   "source": [
    "input_layer = Input((128,IMG_SIZE, IMG_SIZE, 2))\n",
    "\n",
    "model1 = Vnet_3d(input_layer)\n",
    "model1.compile(loss=\"categorical_crossentropy\", optimizer=Adam(learning_rate=0.001), metrics = ['accuracy',tf.keras.metrics.MeanIoU(num_classes=4),\n",
    "                                                                                                                dice_coef, precision, sensitivity, specificity, dice_coef_necrotic, \n",
    "                                                                                                                dice_coef_edema ,dice_coef_enhancing] )\n",
    "\n",
    "model1.summary()"
   ]
  },
  {
   "cell_type": "code",
   "execution_count": null,
   "id": "9ff2a104",
   "metadata": {
    "execution": {
     "iopub.execute_input": "2022-09-13T10:58:10.902505Z",
     "iopub.status.busy": "2022-09-13T10:58:10.901638Z",
     "iopub.status.idle": "2022-09-13T16:20:50.614109Z",
     "shell.execute_reply": "2022-09-13T16:20:50.615271Z"
    },
    "papermill": {
     "duration": 19359.844373,
     "end_time": "2022-09-13T16:20:50.616359",
     "exception": false,
     "start_time": "2022-09-13T10:58:10.771986",
     "status": "completed"
    },
    "tags": []
   },
   "outputs": [],
   "source": [
    "history =  model1.fit(training_generator,\n",
    "                     epochs=35,\n",
    "                     steps_per_epoch=len(train_ids),\n",
    "                     callbacks= callbacks,\n",
    "                     validation_data = valid_generator\n",
    "                     )  \n",
    "model1.save(\"model_vnet_2mod.h5\")"
   ]
  },
  {
   "cell_type": "code",
   "execution_count": null,
   "id": "de0eb4bd",
   "metadata": {
    "execution": {
     "iopub.execute_input": "2022-09-13T16:21:00.209158Z",
     "iopub.status.busy": "2022-09-13T16:21:00.208501Z",
     "iopub.status.idle": "2022-09-13T16:21:02.186429Z",
     "shell.execute_reply": "2022-09-13T16:21:02.186847Z"
    },
    "papermill": {
     "duration": 6.446172,
     "end_time": "2022-09-13T16:21:02.186998",
     "exception": false,
     "start_time": "2022-09-13T16:20:55.740826",
     "status": "completed"
    },
    "tags": []
   },
   "outputs": [],
   "source": [
    "plot_model(model1, \n",
    "           show_shapes = True,\n",
    "           show_dtype=False,\n",
    "           show_layer_names = True, \n",
    "           rankdir = 'TB', \n",
    "           expand_nested = False, \n",
    "           dpi = 70)"
   ]
  },
  {
   "cell_type": "code",
   "execution_count": null,
   "id": "0eb4940b",
   "metadata": {
    "execution": {
     "iopub.execute_input": "2022-09-13T16:21:11.228239Z",
     "iopub.status.busy": "2022-09-13T16:21:11.226508Z",
     "iopub.status.idle": "2022-09-13T16:22:33.668494Z",
     "shell.execute_reply": "2022-09-13T16:22:33.669220Z"
    },
    "papermill": {
     "duration": 86.864828,
     "end_time": "2022-09-13T16:22:33.669391",
     "exception": false,
     "start_time": "2022-09-13T16:21:06.804563",
     "status": "completed"
    },
    "tags": []
   },
   "outputs": [],
   "source": [
    "print(\"Evaluate on test data\")\n",
    "results = model1.evaluate(test_generator, callbacks= callbacks)\n",
    "print(\"test loss, test acc:\", results)"
   ]
  }
 ],
 "metadata": {
  "kernelspec": {
   "display_name": "Python 3",
   "language": "python",
   "name": "python3"
  },
  "language_info": {
   "codemirror_mode": {
    "name": "ipython",
    "version": 3
   },
   "file_extension": ".py",
   "mimetype": "text/x-python",
   "name": "python",
   "nbconvert_exporter": "python",
   "pygments_lexer": "ipython3",
   "version": "3.7.12"
  },
  "papermill": {
   "default_parameters": {},
   "duration": 19654.955915,
   "end_time": "2022-09-13T16:22:40.867845",
   "environment_variables": {},
   "exception": null,
   "input_path": "__notebook__.ipynb",
   "output_path": "__notebook__.ipynb",
   "parameters": {},
   "start_time": "2022-09-13T10:55:05.911930",
   "version": "2.3.3"
  },
  "widgets": {
   "application/vnd.jupyter.widget-state+json": {
    "state": {
     "0463b07b24a640ee9fa8ab994b8c4fc0": {
      "model_module": "@jupyter-widgets/base",
      "model_module_version": "1.2.0",
      "model_name": "LayoutModel",
      "state": {
       "_model_module": "@jupyter-widgets/base",
       "_model_module_version": "1.2.0",
       "_model_name": "LayoutModel",
       "_view_count": null,
       "_view_module": "@jupyter-widgets/base",
       "_view_module_version": "1.2.0",
       "_view_name": "LayoutView",
       "align_content": null,
       "align_items": null,
       "align_self": null,
       "border": null,
       "bottom": null,
       "display": null,
       "flex": null,
       "flex_flow": null,
       "grid_area": null,
       "grid_auto_columns": null,
       "grid_auto_flow": null,
       "grid_auto_rows": null,
       "grid_column": null,
       "grid_gap": null,
       "grid_row": null,
       "grid_template_areas": null,
       "grid_template_columns": null,
       "grid_template_rows": null,
       "height": null,
       "justify_content": null,
       "justify_items": null,
       "left": null,
       "margin": null,
       "max_height": null,
       "max_width": null,
       "min_height": null,
       "min_width": null,
       "object_fit": null,
       "object_position": null,
       "order": null,
       "overflow": null,
       "overflow_x": null,
       "overflow_y": null,
       "padding": null,
       "right": null,
       "top": null,
       "visibility": null,
       "width": null
      }
     },
     "0bdd3187be5a4b869c58e5ac70e37b31": {
      "model_module": "@jupyter-widgets/base",
      "model_module_version": "1.2.0",
      "model_name": "LayoutModel",
      "state": {
       "_model_module": "@jupyter-widgets/base",
       "_model_module_version": "1.2.0",
       "_model_name": "LayoutModel",
       "_view_count": null,
       "_view_module": "@jupyter-widgets/base",
       "_view_module_version": "1.2.0",
       "_view_name": "LayoutView",
       "align_content": null,
       "align_items": null,
       "align_self": null,
       "border": null,
       "bottom": null,
       "display": null,
       "flex": null,
       "flex_flow": null,
       "grid_area": null,
       "grid_auto_columns": null,
       "grid_auto_flow": null,
       "grid_auto_rows": null,
       "grid_column": null,
       "grid_gap": null,
       "grid_row": null,
       "grid_template_areas": null,
       "grid_template_columns": null,
       "grid_template_rows": null,
       "height": null,
       "justify_content": null,
       "justify_items": null,
       "left": null,
       "margin": null,
       "max_height": null,
       "max_width": null,
       "min_height": null,
       "min_width": null,
       "object_fit": null,
       "object_position": null,
       "order": null,
       "overflow": null,
       "overflow_x": null,
       "overflow_y": null,
       "padding": null,
       "right": null,
       "top": null,
       "visibility": null,
       "width": null
      }
     },
     "141267d58e9a43a48d6b1e35b051b3a5": {
      "model_module": "@jupyter-widgets/base",
      "model_module_version": "1.2.0",
      "model_name": "LayoutModel",
      "state": {
       "_model_module": "@jupyter-widgets/base",
       "_model_module_version": "1.2.0",
       "_model_name": "LayoutModel",
       "_view_count": null,
       "_view_module": "@jupyter-widgets/base",
       "_view_module_version": "1.2.0",
       "_view_name": "LayoutView",
       "align_content": null,
       "align_items": null,
       "align_self": null,
       "border": null,
       "bottom": null,
       "display": null,
       "flex": null,
       "flex_flow": null,
       "grid_area": null,
       "grid_auto_columns": null,
       "grid_auto_flow": null,
       "grid_auto_rows": null,
       "grid_column": null,
       "grid_gap": null,
       "grid_row": null,
       "grid_template_areas": null,
       "grid_template_columns": null,
       "grid_template_rows": null,
       "height": null,
       "justify_content": null,
       "justify_items": null,
       "left": null,
       "margin": null,
       "max_height": null,
       "max_width": null,
       "min_height": null,
       "min_width": null,
       "object_fit": null,
       "object_position": null,
       "order": null,
       "overflow": null,
       "overflow_x": null,
       "overflow_y": null,
       "padding": null,
       "right": null,
       "top": null,
       "visibility": null,
       "width": null
      }
     },
     "1ee590ff28244e20863a43b994851d4f": {
      "model_module": "@jupyter-widgets/controls",
      "model_module_version": "1.5.0",
      "model_name": "VBoxModel",
      "state": {
       "_dom_classes": [
        "widget-interact"
       ],
       "_model_module": "@jupyter-widgets/controls",
       "_model_module_version": "1.5.0",
       "_model_name": "VBoxModel",
       "_view_count": null,
       "_view_module": "@jupyter-widgets/controls",
       "_view_module_version": "1.5.0",
       "_view_name": "VBoxView",
       "box_style": "",
       "children": [
        "IPY_MODEL_6a8f044362114b8ca59bb76b19d4b69d",
        "IPY_MODEL_9188b16249214b4181d1fa80dd3c0532"
       ],
       "layout": "IPY_MODEL_141267d58e9a43a48d6b1e35b051b3a5"
      }
     },
     "2504db35e6614594860baf8d4a492b11": {
      "model_module": "@jupyter-widgets/controls",
      "model_module_version": "1.5.0",
      "model_name": "SliderStyleModel",
      "state": {
       "_model_module": "@jupyter-widgets/controls",
       "_model_module_version": "1.5.0",
       "_model_name": "SliderStyleModel",
       "_view_count": null,
       "_view_module": "@jupyter-widgets/base",
       "_view_module_version": "1.2.0",
       "_view_name": "StyleView",
       "description_width": "",
       "handle_color": null
      }
     },
     "25392961924b4e9c8bf46ac627b923ca": {
      "model_module": "@jupyter-widgets/controls",
      "model_module_version": "1.5.0",
      "model_name": "SliderStyleModel",
      "state": {
       "_model_module": "@jupyter-widgets/controls",
       "_model_module_version": "1.5.0",
       "_model_name": "SliderStyleModel",
       "_view_count": null,
       "_view_module": "@jupyter-widgets/base",
       "_view_module_version": "1.2.0",
       "_view_name": "StyleView",
       "description_width": "",
       "handle_color": null
      }
     },
     "2ff0b45bb0b64c7ea038a6693fe6c2d7": {
      "model_module": "@jupyter-widgets/controls",
      "model_module_version": "1.5.0",
      "model_name": "VBoxModel",
      "state": {
       "_dom_classes": [
        "widget-interact"
       ],
       "_model_module": "@jupyter-widgets/controls",
       "_model_module_version": "1.5.0",
       "_model_name": "VBoxModel",
       "_view_count": null,
       "_view_module": "@jupyter-widgets/controls",
       "_view_module_version": "1.5.0",
       "_view_name": "VBoxView",
       "box_style": "",
       "children": [
        "IPY_MODEL_4b72fbead7024d0291b0aa8f24cf3b54",
        "IPY_MODEL_57da06e642ee46b693e3b4224d94f0b7"
       ],
       "layout": "IPY_MODEL_7d8e3e699a764101956f442535d02d99"
      }
     },
     "4b72fbead7024d0291b0aa8f24cf3b54": {
      "model_module": "@jupyter-widgets/controls",
      "model_module_version": "1.5.0",
      "model_name": "IntSliderModel",
      "state": {
       "_dom_classes": [],
       "_model_module": "@jupyter-widgets/controls",
       "_model_module_version": "1.5.0",
       "_model_name": "IntSliderModel",
       "_view_count": null,
       "_view_module": "@jupyter-widgets/controls",
       "_view_module_version": "1.5.0",
       "_view_name": "IntSliderView",
       "continuous_update": true,
       "description": "layer",
       "description_tooltip": null,
       "disabled": false,
       "layout": "IPY_MODEL_a23cf895bf7a4ad5884e8a594ea55e9e",
       "max": 154,
       "min": 0,
       "orientation": "horizontal",
       "readout": true,
       "readout_format": "d",
       "step": 1,
       "style": "IPY_MODEL_25392961924b4e9c8bf46ac627b923ca",
       "value": 77
      }
     },
     "57da06e642ee46b693e3b4224d94f0b7": {
      "model_module": "@jupyter-widgets/output",
      "model_module_version": "1.0.0",
      "model_name": "OutputModel",
      "state": {
       "_dom_classes": [],
       "_model_module": "@jupyter-widgets/output",
       "_model_module_version": "1.0.0",
       "_model_name": "OutputModel",
       "_view_count": null,
       "_view_module": "@jupyter-widgets/output",
       "_view_module_version": "1.0.0",
       "_view_name": "OutputView",
       "layout": "IPY_MODEL_0463b07b24a640ee9fa8ab994b8c4fc0",
       "msg_id": "",
       "outputs": [
        {
         "data": {
          "image/png": "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\n",
          "text/plain": "<Figure size 432x288 with 1 Axes>"
         },
         "metadata": {
          "needs_background": "light"
         },
         "output_type": "display_data"
        }
       ]
      }
     },
     "6a8f044362114b8ca59bb76b19d4b69d": {
      "model_module": "@jupyter-widgets/controls",
      "model_module_version": "1.5.0",
      "model_name": "IntSliderModel",
      "state": {
       "_dom_classes": [],
       "_model_module": "@jupyter-widgets/controls",
       "_model_module_version": "1.5.0",
       "_model_name": "IntSliderModel",
       "_view_count": null,
       "_view_module": "@jupyter-widgets/controls",
       "_view_module_version": "1.5.0",
       "_view_name": "IntSliderView",
       "continuous_update": true,
       "description": "layer",
       "description_tooltip": null,
       "disabled": false,
       "layout": "IPY_MODEL_0bdd3187be5a4b869c58e5ac70e37b31",
       "max": 154,
       "min": 0,
       "orientation": "horizontal",
       "readout": true,
       "readout_format": "d",
       "step": 1,
       "style": "IPY_MODEL_2504db35e6614594860baf8d4a492b11",
       "value": 77
      }
     },
     "7d8e3e699a764101956f442535d02d99": {
      "model_module": "@jupyter-widgets/base",
      "model_module_version": "1.2.0",
      "model_name": "LayoutModel",
      "state": {
       "_model_module": "@jupyter-widgets/base",
       "_model_module_version": "1.2.0",
       "_model_name": "LayoutModel",
       "_view_count": null,
       "_view_module": "@jupyter-widgets/base",
       "_view_module_version": "1.2.0",
       "_view_name": "LayoutView",
       "align_content": null,
       "align_items": null,
       "align_self": null,
       "border": null,
       "bottom": null,
       "display": null,
       "flex": null,
       "flex_flow": null,
       "grid_area": null,
       "grid_auto_columns": null,
       "grid_auto_flow": null,
       "grid_auto_rows": null,
       "grid_column": null,
       "grid_gap": null,
       "grid_row": null,
       "grid_template_areas": null,
       "grid_template_columns": null,
       "grid_template_rows": null,
       "height": null,
       "justify_content": null,
       "justify_items": null,
       "left": null,
       "margin": null,
       "max_height": null,
       "max_width": null,
       "min_height": null,
       "min_width": null,
       "object_fit": null,
       "object_position": null,
       "order": null,
       "overflow": null,
       "overflow_x": null,
       "overflow_y": null,
       "padding": null,
       "right": null,
       "top": null,
       "visibility": null,
       "width": null
      }
     },
     "9188b16249214b4181d1fa80dd3c0532": {
      "model_module": "@jupyter-widgets/output",
      "model_module_version": "1.0.0",
      "model_name": "OutputModel",
      "state": {
       "_dom_classes": [],
       "_model_module": "@jupyter-widgets/output",
       "_model_module_version": "1.0.0",
       "_model_name": "OutputModel",
       "_view_count": null,
       "_view_module": "@jupyter-widgets/output",
       "_view_module_version": "1.0.0",
       "_view_name": "OutputView",
       "layout": "IPY_MODEL_9802d735d8e54e5d8e147ae2e6c10d38",
       "msg_id": "",
       "outputs": [
        {
         "data": {
          "image/png": "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\n",
          "text/plain": "<Figure size 720x360 with 1 Axes>"
         },
         "metadata": {
          "needs_background": "light"
         },
         "output_type": "display_data"
        },
        {
         "data": {
          "text/plain": "77"
         },
         "metadata": {},
         "output_type": "display_data"
        }
       ]
      }
     },
     "9802d735d8e54e5d8e147ae2e6c10d38": {
      "model_module": "@jupyter-widgets/base",
      "model_module_version": "1.2.0",
      "model_name": "LayoutModel",
      "state": {
       "_model_module": "@jupyter-widgets/base",
       "_model_module_version": "1.2.0",
       "_model_name": "LayoutModel",
       "_view_count": null,
       "_view_module": "@jupyter-widgets/base",
       "_view_module_version": "1.2.0",
       "_view_name": "LayoutView",
       "align_content": null,
       "align_items": null,
       "align_self": null,
       "border": null,
       "bottom": null,
       "display": null,
       "flex": null,
       "flex_flow": null,
       "grid_area": null,
       "grid_auto_columns": null,
       "grid_auto_flow": null,
       "grid_auto_rows": null,
       "grid_column": null,
       "grid_gap": null,
       "grid_row": null,
       "grid_template_areas": null,
       "grid_template_columns": null,
       "grid_template_rows": null,
       "height": null,
       "justify_content": null,
       "justify_items": null,
       "left": null,
       "margin": null,
       "max_height": null,
       "max_width": null,
       "min_height": null,
       "min_width": null,
       "object_fit": null,
       "object_position": null,
       "order": null,
       "overflow": null,
       "overflow_x": null,
       "overflow_y": null,
       "padding": null,
       "right": null,
       "top": null,
       "visibility": null,
       "width": null
      }
     },
     "a23cf895bf7a4ad5884e8a594ea55e9e": {
      "model_module": "@jupyter-widgets/base",
      "model_module_version": "1.2.0",
      "model_name": "LayoutModel",
      "state": {
       "_model_module": "@jupyter-widgets/base",
       "_model_module_version": "1.2.0",
       "_model_name": "LayoutModel",
       "_view_count": null,
       "_view_module": "@jupyter-widgets/base",
       "_view_module_version": "1.2.0",
       "_view_name": "LayoutView",
       "align_content": null,
       "align_items": null,
       "align_self": null,
       "border": null,
       "bottom": null,
       "display": null,
       "flex": null,
       "flex_flow": null,
       "grid_area": null,
       "grid_auto_columns": null,
       "grid_auto_flow": null,
       "grid_auto_rows": null,
       "grid_column": null,
       "grid_gap": null,
       "grid_row": null,
       "grid_template_areas": null,
       "grid_template_columns": null,
       "grid_template_rows": null,
       "height": null,
       "justify_content": null,
       "justify_items": null,
       "left": null,
       "margin": null,
       "max_height": null,
       "max_width": null,
       "min_height": null,
       "min_width": null,
       "object_fit": null,
       "object_position": null,
       "order": null,
       "overflow": null,
       "overflow_x": null,
       "overflow_y": null,
       "padding": null,
       "right": null,
       "top": null,
       "visibility": null,
       "width": null
      }
     }
    },
    "version_major": 2,
    "version_minor": 0
   }
  }
 },
 "nbformat": 4,
 "nbformat_minor": 5
}